{
 "cells": [
  {
   "cell_type": "code",
   "execution_count": 25,
   "metadata": {},
   "outputs": [],
   "source": [
    "import os\n",
    "from collections import Counter"
   ]
  },
  {
   "cell_type": "code",
   "execution_count": 3,
   "metadata": {},
   "outputs": [],
   "source": [
    "corpus_folder_path = 'corpus/'\n",
    "en_path = os.path.join(corpus_folder_path, 'corpus.en_ru.1m.en')\n",
    "ru_path = os.path.join(corpus_folder_path, 'corpus.en_ru.1m.ru')"
   ]
  },
  {
   "cell_type": "code",
   "execution_count": 7,
   "metadata": {},
   "outputs": [],
   "source": [
    "def read_corpus(corpus_path):\n",
    "    ''' Loads En/Ru corpus from given path'''\n",
    "    \n",
    "    with open(corpus_path, \"r\") as f:\n",
    "        return f.readlines()\n",
    "\n",
    "english = read_corpus(en_path)\n",
    "russian = read_corpus(ru_path)"
   ]
  },
  {
   "cell_type": "code",
   "execution_count": 8,
   "metadata": {},
   "outputs": [
    {
     "name": "stdout",
     "output_type": "stream",
     "text": [
      "Total number of sentences: EN: 1000000, RU: 1000000\n"
     ]
    }
   ],
   "source": [
    "print(f'Total number of sentences: EN: {len(english)}, RU: {len(russian)}')"
   ]
  },
  {
   "cell_type": "code",
   "execution_count": 22,
   "metadata": {},
   "outputs": [
    {
     "name": "stdout",
     "output_type": "stream",
     "text": [
      "Examples:\n",
      "EN:\n",
      "  Now you have Black Sabbath and Kiss tribute albums.\n",
      "\n",
      "  I was the one who sat down and copied them.\n",
      "\n",
      "RU:\n",
      "  А сейчас куча триьютов тем же самым BLACK SABBATH и KISS.\n",
      "\n",
      "  Я был единственным, кто занялся копированием демо на кассете.\n",
      "\n"
     ]
    }
   ],
   "source": [
    "en_examples = \"\\n  \".join(english[3:5])\n",
    "ru_examples = \"\\n  \".join(russian[3:5])\n",
    "print(f'Examples:\\nEN:\\n  {en_examples}\\nRU:\\n  {ru_examples}')"
   ]
  },
  {
   "cell_type": "code",
   "execution_count": 34,
   "metadata": {},
   "outputs": [],
   "source": [
    "def print_stats(corpus, language='English'):\n",
    "    \n",
    "    total_count = sum([len(sentence.split()) for sentence in corpus])\n",
    "    counter = Counter([word for sentence in corpus for word in sentence.split()])\n",
    "    avg_sentence_length = sum([len(sentence.split()) for sentence in corpus]) / len(corpus)\n",
    "    \n",
    "    print(f'Stats for {language} corpus')\n",
    "    print(f'\\tTotal number of tokens: {total_count}')\n",
    "    print(f'\\tNumber of unique tokens: {len(counter)}')\n",
    "    print(f'\\tAverage number of words per sentence: {avg_sentence_length}')\n",
    "    print(f'\\tMost frequent tokens: {[x[0] for x in counter.most_common(10)]}')"
   ]
  },
  {
   "cell_type": "code",
   "execution_count": 36,
   "metadata": {},
   "outputs": [
    {
     "name": "stdout",
     "output_type": "stream",
     "text": [
      "Stats for English corpus\n",
      "\tTotal number of tokens: 21252975\n",
      "\tNumber of unique tokens: 796290\n",
      "\tAverage number of words per sentence: 21.252975\n",
      "\tMost frequent tokens: ['the', 'of', 'and', 'to', 'in', 'a', 'is', 'for', 'that', 'with']\n",
      "Stats for Russian corpus\n",
      "\tTotal number of tokens: 18680351\n",
      "\tNumber of unique tokens: 1323932\n",
      "\tAverage number of words per sentence: 18.680351\n",
      "\tMost frequent tokens: ['и', 'в', 'на', 'с', 'не', 'что', '-', 'для', 'по', 'к']\n"
     ]
    }
   ],
   "source": [
    "print_stats(english, language='English')\n",
    "print_stats(russian, language='Russian')"
   ]
  },
  {
   "cell_type": "code",
   "execution_count": null,
   "metadata": {},
   "outputs": [],
   "source": []
  }
 ],
 "metadata": {
  "kernelspec": {
   "display_name": "Python 3",
   "language": "python",
   "name": "python3"
  },
  "language_info": {
   "codemirror_mode": {
    "name": "ipython",
    "version": 3
   },
   "file_extension": ".py",
   "mimetype": "text/x-python",
   "name": "python",
   "nbconvert_exporter": "python",
   "pygments_lexer": "ipython3",
   "version": "3.8.5"
  }
 },
 "nbformat": 4,
 "nbformat_minor": 1
}
