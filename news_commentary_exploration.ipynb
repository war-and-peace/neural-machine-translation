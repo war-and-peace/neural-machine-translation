{
 "cells": [
  {
   "cell_type": "code",
   "execution_count": 2,
   "metadata": {},
   "outputs": [],
   "source": [
    "import os\n",
    "from collections import Counter"
   ]
  },
  {
   "cell_type": "code",
   "execution_count": 3,
   "metadata": {},
   "outputs": [],
   "source": [
    "corpus_folder_path = 'corpus/'\n",
    "en_path = os.path.join(corpus_folder_path, 'news-commentary-v12.ru-en.en')\n",
    "ru_path = os.path.join(corpus_folder_path, 'news-commentary-v12.ru-en.ru')"
   ]
  },
  {
   "cell_type": "code",
   "execution_count": 4,
   "metadata": {},
   "outputs": [],
   "source": [
    "def read_corpus(corpus_path):\n",
    "    ''' Loads En/Ru corpus from given path'''\n",
    "    \n",
    "    with open(corpus_path, \"r\") as f:\n",
    "        return f.readlines()\n",
    "\n",
    "english = read_corpus(en_path)\n",
    "russian = read_corpus(ru_path)"
   ]
  },
  {
   "cell_type": "code",
   "execution_count": 5,
   "metadata": {},
   "outputs": [
    {
     "name": "stdout",
     "output_type": "stream",
     "text": [
      "Total number of sentences: EN: 222988, RU: 222732\n"
     ]
    }
   ],
   "source": [
    "print(f'Total number of sentences: EN: {len(english)}, RU: {len(russian)}')"
   ]
  },
  {
   "cell_type": "code",
   "execution_count": 6,
   "metadata": {},
   "outputs": [
    {
     "name": "stdout",
     "output_type": "stream",
     "text": [
      "Examples:\n",
      "EN:\n",
      "  Wouldn’t you know it?\n",
      "\n",
      "  Since their articles appeared, the price of gold has moved up still further.\n",
      "\n",
      "RU:\n",
      "  И что бы вы думали?\n",
      "\n",
      "  С тех пор как вышли их статьи, стоимость золота повысилась еще больше.\n",
      "\n"
     ]
    }
   ],
   "source": [
    "en_examples = \"\\n  \".join(english[3:5])\n",
    "ru_examples = \"\\n  \".join(russian[3:5])\n",
    "print(f'Examples:\\nEN:\\n  {en_examples}\\nRU:\\n  {ru_examples}')"
   ]
  },
  {
   "cell_type": "code",
   "execution_count": 7,
   "metadata": {},
   "outputs": [],
   "source": [
    "def print_stats(corpus, language='English'):\n",
    "    \n",
    "    total_count = sum([len(sentence.split()) for sentence in corpus])\n",
    "    counter = Counter([word for sentence in corpus for word in sentence.split()])\n",
    "    avg_sentence_length = sum([len(sentence.split()) for sentence in corpus]) / len(corpus)\n",
    "    \n",
    "    print(f'Stats for {language} corpus')\n",
    "    print(f'\\tTotal number of tokens: {total_count}')\n",
    "    print(f'\\tNumber of unique tokens: {len(counter)}')\n",
    "    print(f'\\tAverage number of words per sentence: {avg_sentence_length}')\n",
    "    print(f'\\tMost frequent tokens: {[x[0] for x in counter.most_common(10)]}')"
   ]
  },
  {
   "cell_type": "code",
   "execution_count": 8,
   "metadata": {},
   "outputs": [
    {
     "name": "stdout",
     "output_type": "stream",
     "text": [
      "Stats for English corpus\n",
      "\tTotal number of tokens: 5066942\n",
      "\tNumber of unique tokens: 182109\n",
      "\tAverage number of words per sentence: 22.722935763359462\n",
      "\tMost frequent tokens: ['the', 'of', 'to', 'and', 'in', 'a', 'is', 'that', 'for', 'be']\n",
      "Stats for Russian corpus\n",
      "\tTotal number of tokens: 4759367\n",
      "\tNumber of unique tokens: 313884\n",
      "\tAverage number of words per sentence: 21.368133002891366\n",
      "\tMost frequent tokens: ['в', 'и', 'на', 'не', 'что', 'с', 'как', 'для', 'к', 'по']\n"
     ]
    }
   ],
   "source": [
    "print_stats(english, language='English')\n",
    "print_stats(russian, language='Russian')"
   ]
  },
  {
   "cell_type": "code",
   "execution_count": null,
   "metadata": {},
   "outputs": [],
   "source": []
  }
 ],
 "metadata": {
  "kernelspec": {
   "display_name": "Python 3",
   "language": "python",
   "name": "python3"
  },
  "language_info": {
   "codemirror_mode": {
    "name": "ipython",
    "version": 3
   },
   "file_extension": ".py",
   "mimetype": "text/x-python",
   "name": "python",
   "nbconvert_exporter": "python",
   "pygments_lexer": "ipython3",
   "version": "3.6.9"
  }
 },
 "nbformat": 4,
 "nbformat_minor": 5
}