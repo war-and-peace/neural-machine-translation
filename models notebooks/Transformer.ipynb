{
 "nbformat": 4,
 "nbformat_minor": 0,
 "metadata": {
  "kernelspec": {
   "display_name": "Python 3",
   "language": "python",
   "name": "python3"
  },
  "language_info": {
   "codemirror_mode": {
    "name": "ipython",
    "version": 3
   },
   "file_extension": ".py",
   "mimetype": "text/x-python",
   "name": "python",
   "nbconvert_exporter": "python",
   "pygments_lexer": "ipython3",
   "version": "3.6.9"
  },
  "colab": {
   "name": "transformer_model.ipynb",
   "provenance": [],
   "collapsed_sections": []
  },
  "accelerator": "GPU"
 },
 "cells": [
  {
   "cell_type": "code",
   "metadata": {
    "colab": {
     "base_uri": "https://localhost:8080/"
    },
    "id": "NPXZOYPTnsK3",
    "outputId": "bd673a86-8b9d-48ef-da2b-85b6e9fe4af2"
   },
   "source": [
    "import os\n",
    "path_to_data = '../../datasets/Machine_translation_EN_RU/data.txt'\n",
    "if not os.path.exists(path_to_data):\n",
    "    print(\"Dataset not found locally. Downloading from github.\")\n",
    "    !wget https://raw.githubusercontent.com/neychev/made_nlp_course/master/datasets/Machine_translation_EN_RU/data.txt -nc"
   ],
   "execution_count": 14,
   "outputs": [
    {
     "output_type": "stream",
     "text": [
      "Dataset not found locally. Downloading from github.\n",
      "File ‘data.txt’ already there; not retrieving.\n",
      "\n"
     ],
     "name": "stdout"
    }
   ]
  },
  {
   "cell_type": "code",
   "metadata": {
    "id": "ubJhFf5Uqrfg"
   },
   "source": [
    "# !pip install -r requirements.txt"
   ],
   "execution_count": null,
   "outputs": []
  },
  {
   "cell_type": "code",
   "metadata": {
    "id": "NnEQ8PIAmIha"
   },
   "source": [
    "import tqdm\n",
    "import spacy\n",
    "import warnings\n",
    "import random\n",
    "import numpy as np\n",
    "import pandas as pd\n",
    "import matplotlib.pyplot as plt\n",
    "%matplotlib inline\n",
    "\n",
    "from IPython.core.display import display, HTML\n",
    "\n",
    "import torch\n",
    "import torch.nn as nn\n",
    "import torch.nn.functional as F\n",
    "import torch.optim as optim\n",
    "\n",
    "from torchtext.data import Dataset, Example, Field, TabularDataset\n",
    "from torchtext.data.iterator import BucketIterator\n",
    "from torchtext.data.metrics import bleu_score\n",
    "from torchtext.datasets import TranslationDataset\n",
    "\n",
    "from nltk.tokenize import WordPunctTokenizer"
   ],
   "execution_count": 2,
   "outputs": []
  },
  {
   "cell_type": "code",
   "metadata": {
    "colab": {
     "base_uri": "https://localhost:8080/"
    },
    "id": "Mp66_jw-mIhb",
    "outputId": "2b755807-6092-404a-ced7-192773f8d8a9"
   },
   "source": [
    "warnings.simplefilter(action='ignore', category=UserWarning)\n",
    "warnings.simplefilter(action='ignore', category=FutureWarning)\n",
    "warnings.simplefilter(action='ignore', category=RuntimeWarning)\n",
    "warnings.simplefilter(action='ignore', category=DeprecationWarning)\n",
    "\n",
    "SEED = 2021\n",
    "np.random.seed(SEED)\n",
    "torch.manual_seed(SEED)\n",
    "torch.cuda.manual_seed(SEED)\n",
    "torch.backends.cudnn.deterministic = True\n",
    "\n",
    "DEVICE = torch.device('cuda' if torch.cuda.is_available() else 'cpu')\n",
    "print(f'Device: {DEVICE}')"
   ],
   "execution_count": 3,
   "outputs": [
    {
     "output_type": "stream",
     "text": [
      "Device: cuda\n"
     ],
     "name": "stdout"
    }
   ]
  },
  {
   "cell_type": "code",
   "metadata": {
    "id": "-s55gGqFoWbh"
   },
   "source": [
    "tokenizer_W = WordPunctTokenizer()\n",
    "def tokenize(x, tokenizer=tokenizer_W):\n",
    "    return tokenizer.tokenize(x.lower())"
   ],
   "execution_count": 7,
   "outputs": []
  },
  {
   "cell_type": "code",
   "metadata": {
    "id": "RfbaqnV-mIhd"
   },
   "source": [
    "EN_TEXT = Field(tokenize=tokenize, init_token='<sos>', eos_token='<eos>', lower=True, batch_first=True)\n",
    "RU_TEXT = Field(tokenize=tokenize, init_token='<sos>', eos_token='<eos>', lower=True, batch_first=True)"
   ],
   "execution_count": 15,
   "outputs": []
  },
  {
   "cell_type": "code",
   "metadata": {
    "id": "t5WxQZIYn4KL"
   },
   "source": [
    "path_to_data = './data.txt'\n",
    "dataset = TabularDataset(\n",
    "    path=path_to_data,\n",
    "    format='tsv',\n",
    "    fields=[('trg', RU_TEXT), ('src', EN_TEXT)]\n",
    ")\n",
    "train_data, valid_data, test_data = dataset.split(split_ratio=[0.8, 0.15, 0.05], random_state=random.seed(SEED))"
   ],
   "execution_count": 37,
   "outputs": []
  },
  {
   "cell_type": "code",
   "metadata": {
    "colab": {
     "base_uri": "https://localhost:8080/"
    },
    "id": "u39bkRa2mIhe",
    "outputId": "7aaacc21-0d2f-44e5-97e3-c3b98f8efa95"
   },
   "source": [
    "print(f'train set size: {len(train_data.examples):,}')\n",
    "print(f'valid set size: {len(valid_data.examples):,}')\n",
    "print(f'test set size: {len(test_data.examples):,}')\n",
    "print(vars(train_data.examples[0]))"
   ],
   "execution_count": 17,
   "outputs": [
    {
     "output_type": "stream",
     "text": [
      "train set size: 40,000\n",
      "valid set size: 2,500\n",
      "test set size: 7,500\n",
      "{'trg': ['other', 'facilities', 'offered', 'at', 'the', 'property', 'include', 'a', 'games', 'room', ',', 'a', 'beach', 'volley', 'court', 'and', 'a', 'children', \"'\", 's', 'playground', '.'], 'src': ['в', 'числе', 'других', 'удобств', 'здесь', 'комната', 'для', 'игр', ',', 'площадка', 'для', 'пляжного', 'волейбола', 'и', 'детская', 'игровая', 'площадка', '.']}\n"
     ],
     "name": "stdout"
    }
   ]
  },
  {
   "cell_type": "code",
   "metadata": {
    "colab": {
     "base_uri": "https://localhost:8080/"
    },
    "id": "79ned97r0M7M",
    "outputId": "537b24ee-5795-4b0c-d301-c5092824a782"
   },
   "source": [
    "!nvidia-smi"
   ],
   "execution_count": 18,
   "outputs": [
    {
     "output_type": "stream",
     "text": [
      "Sun Feb 28 12:59:00 2021       \n",
      "+-----------------------------------------------------------------------------+\n",
      "| NVIDIA-SMI 460.39       Driver Version: 460.32.03    CUDA Version: 11.2     |\n",
      "|-------------------------------+----------------------+----------------------+\n",
      "| GPU  Name        Persistence-M| Bus-Id        Disp.A | Volatile Uncorr. ECC |\n",
      "| Fan  Temp  Perf  Pwr:Usage/Cap|         Memory-Usage | GPU-Util  Compute M. |\n",
      "|                               |                      |               MIG M. |\n",
      "|===============================+======================+======================|\n",
      "|   0  Tesla V100-SXM2...  Off  | 00000000:00:04.0 Off |                    0 |\n",
      "| N/A   33C    P0    24W / 300W |      2MiB / 16160MiB |      0%      Default |\n",
      "|                               |                      |                  N/A |\n",
      "+-------------------------------+----------------------+----------------------+\n",
      "                                                                               \n",
      "+-----------------------------------------------------------------------------+\n",
      "| Processes:                                                                  |\n",
      "|  GPU   GI   CI        PID   Type   Process name                  GPU Memory |\n",
      "|        ID   ID                                                   Usage      |\n",
      "|=============================================================================|\n",
      "|  No running processes found                                                 |\n",
      "+-----------------------------------------------------------------------------+\n"
     ],
     "name": "stdout"
    }
   ]
  },
  {
   "cell_type": "markdown",
   "metadata": {
    "id": "ELytCnwVmIhf"
   },
   "source": [
    "### Build vocabularies"
   ]
  },
  {
   "cell_type": "code",
   "metadata": {
    "colab": {
     "base_uri": "https://localhost:8080/"
    },
    "id": "4GC-fOXSmIhf",
    "outputId": "ed3bf7a2-bad0-4f14-acd9-e665ae2815e6"
   },
   "source": [
    "%%time\n",
    "MIN_COUNT = 2\n",
    "EN_TEXT.build_vocab(train_data, min_freq=MIN_COUNT)\n",
    "RU_TEXT.build_vocab(train_data, min_freq=MIN_COUNT)\n",
    "print(f'Length of EN vocabulary: {len(EN_TEXT.vocab):,}')\n",
    "print(f'Length of RU vocabulary: {len(RU_TEXT.vocab):,}')"
   ],
   "execution_count": 19,
   "outputs": [
    {
     "output_type": "stream",
     "text": [
      "Length of EN vocabulary: 14,147\n",
      "Length of RU vocabulary: 10,199\n",
      "CPU times: user 568 ms, sys: 27.8 ms, total: 596 ms\n",
      "Wall time: 596 ms\n"
     ],
     "name": "stdout"
    }
   ]
  },
  {
   "cell_type": "markdown",
   "metadata": {
    "id": "7kOFPHsLmIhg"
   },
   "source": [
    "## Modeling"
   ]
  },
  {
   "cell_type": "markdown",
   "metadata": {
    "id": "r-JKljRgmIhg"
   },
   "source": [
    "### Multi Head Attention Layer"
   ]
  },
  {
   "cell_type": "code",
   "metadata": {
    "id": "zbLJQzOSmIhg"
   },
   "source": [
    "class MultiHeadAttentionLayer(nn.Module):\n",
    "\n",
    "    def __init__(self, d_model, n_heads):\n",
    "        super(MultiHeadAttentionLayer, self).__init__()\n",
    "        assert d_model % n_heads == 0\n",
    "        self.d_model = d_model\n",
    "        self.n_heads = n_heads\n",
    "        self.head_size = d_model // n_heads\n",
    "        self.fc_q = nn.Linear(d_model, d_model)\n",
    "        self.fc_k = nn.Linear(d_model, d_model)\n",
    "        self.fc_v = nn.Linear(d_model, d_model)\n",
    "        self.fc_o = nn.Linear(d_model, d_model)\n",
    "        \n",
    "    def forward(self, query, key, value, mask):\n",
    "        \"\"\"\n",
    "        :param Tensor[batch_size, q_len, d_model] query\n",
    "        :param Tensor[batch_size, k_len, d_model] key\n",
    "        :param Tensor[batch_size, v_len, d_model] value\n",
    "        :param Tensor[batch_size, ..., k_len] mask\n",
    "        :return Tensor[batch_size, q_len, d_model] context\n",
    "        :return Tensor[batch_size, n_heads, q_len, k_len] attention_weights\n",
    "        \"\"\"\n",
    "        Q = self.fc_q(query) # [batch_size, q_len, d_model]\n",
    "        K = self.fc_k(key) # [batch_size, k_len, d_model]\n",
    "        V = self.fc_v(value) # [batch_size, v_len, d_model]\n",
    "\n",
    "        Q = Q.view(Q.size(0), -1, self.n_heads, self.head_size).permute(0, 2, 1, 3) # [batch_size, n_heads, q_len, head_size]\n",
    "        K = K.view(K.size(0), -1, self.n_heads, self.head_size).permute(0, 2, 1, 3) # [batch_size, n_heads, k_len, head_size]\n",
    "        V = V.view(V.size(0), -1, self.n_heads, self.head_size).permute(0, 2, 1, 3) # [batch_size, n_heads, v_len, head_size]\n",
    "\n",
    "        scores = torch.matmul(Q, K.transpose(-1, -2)) # [batch_size, n_heads, q_len, k_len]\n",
    "        scores = scores / torch.sqrt(torch.FloatTensor([self.head_size]).to(Q.device))\n",
    "        if mask is not None:\n",
    "            scores = scores.masked_fill(mask == 0, -1e18)\n",
    "        attention_weights = F.softmax(scores , dim=-1) # [batch_size, n_heads, q_len, k_len]                \n",
    "        \n",
    "        context = torch.matmul(attention_weights, V) # [batch_size, n_heads, q_len, v_len]\n",
    "        context = context.permute(0, 2, 1, 3).contiguous() # [batch_size, q_len, n_heads, v_len]\n",
    "        context = context.view(context.size(0), -1, self.d_model)\n",
    "        context = self.fc_o(context) # [batch_size, q_len, d_model]\n",
    "\n",
    "        return context, attention_weights"
   ],
   "execution_count": 20,
   "outputs": []
  },
  {
   "cell_type": "markdown",
   "metadata": {
    "id": "G3PvGh5OmIhh"
   },
   "source": [
    "### Position-Wise Feed-Forward Layer"
   ]
  },
  {
   "cell_type": "code",
   "metadata": {
    "id": "mn4tkXL-mIhi"
   },
   "source": [
    "class PositionWiseFeedForwardLayer(nn.Module):\n",
    "    \n",
    "    def __init__(self, d_model, hidden_size):\n",
    "        super(PositionWiseFeedForwardLayer, self).__init__()\n",
    "        self.d_model = d_model\n",
    "        self.hidden_size = hidden_size\n",
    "        self.fc_in = nn.Linear(d_model, hidden_size)\n",
    "        self.fc_ou = nn.Linear(hidden_size, d_model)\n",
    "        \n",
    "    def forward(self, inputs):\n",
    "        \"\"\"\n",
    "        :param Tensor[batch_size, seq_len, d_model] inputs\n",
    "        :return Tensor[batch_size, seq_len, d_model] outputs\n",
    "        \"\"\"\n",
    "        outputs = F.relu(self.fc_in(inputs)) # [batch_size, seq_len, hidden_size]\n",
    "        return self.fc_ou(outputs) # [batch_size, seq_len, d_model]"
   ],
   "execution_count": 21,
   "outputs": []
  },
  {
   "cell_type": "markdown",
   "metadata": {
    "id": "0vzOPa-DmIhi"
   },
   "source": [
    "### Positional Encoding Layer"
   ]
  },
  {
   "cell_type": "code",
   "metadata": {
    "id": "Efrbyw8hmIhi"
   },
   "source": [
    "class PositionalEncodingLayer(nn.Module):\n",
    "    \n",
    "    def __init__(self, d_model, max_len=100):\n",
    "        super(PositionalEncodingLayer, self).__init__()\n",
    "        self.d_model = d_model\n",
    "        self.max_len = max_len\n",
    "    \n",
    "    def get_angles(self, positions, indexes):\n",
    "        d_model_tensor = torch.FloatTensor([[self.d_model]]).to(positions.device)\n",
    "        angle_rates = torch.pow(10000, (2 * (indexes // 2)) / d_model_tensor)\n",
    "        return positions / angle_rates\n",
    "\n",
    "    def forward(self, input_sequences):\n",
    "        \"\"\"\n",
    "        :param Tensor[batch_size, seq_len] input_sequences\n",
    "        :return Tensor[batch_size, seq_len, d_model] position_encoding\n",
    "        \"\"\"\n",
    "        positions = torch.arange(input_sequences.size(1)).unsqueeze(1).to(input_sequences.device) # [seq_len, 1]\n",
    "        indexes = torch.arange(self.d_model).unsqueeze(0).to(input_sequences.device) # [1, d_model]\n",
    "        angles = self.get_angles(positions, indexes) # [seq_len, d_model]\n",
    "        angles[:, 0::2] = torch.sin(angles[:, 0::2]) # apply sin to even indices in the tensor; 2i\n",
    "        angles[:, 1::2] = torch.cos(angles[:, 1::2]) # apply cos to odd indices in the tensor; 2i\n",
    "        position_encoding = angles.unsqueeze(0).repeat(input_sequences.size(0), 1, 1) # [batch_size, seq_len, d_model]\n",
    "        return position_encoding"
   ],
   "execution_count": 22,
   "outputs": []
  },
  {
   "cell_type": "markdown",
   "metadata": {
    "id": "OJlGFrLpmIhj"
   },
   "source": [
    "### Encoder Block Layer"
   ]
  },
  {
   "cell_type": "code",
   "metadata": {
    "id": "WWGGlGPNmIhj"
   },
   "source": [
    "class EncoderBlockLayer(nn.Module):\n",
    "    \n",
    "    def __init__(self, d_model, n_heads, hidden_size, dropout):\n",
    "        super(EncoderBlockLayer, self).__init__()\n",
    "        self.d_model = d_model\n",
    "        self.n_heads = n_heads\n",
    "        self.hidden_size = hidden_size\n",
    "        self.dropout = nn.Dropout(p=dropout)\n",
    "        self.multi_head_attention_layer = MultiHeadAttentionLayer(d_model=d_model, n_heads=n_heads)\n",
    "        self.multi_head_attention_layer_norm = nn.LayerNorm(d_model)\n",
    "        self.position_wise_feed_forward_layer = PositionWiseFeedForwardLayer(d_model=d_model, hidden_size=hidden_size)\n",
    "        self.position_wise_feed_forward_layer_norm = nn.LayerNorm(d_model)\n",
    "    \n",
    "    def forward(self, src_inputs, src_mask):\n",
    "        \"\"\"\n",
    "        :param Tensor[batch_size, src_len, d_model] src_inputs\n",
    "        :param Tensor[batch_size,  src_len] src_mask\n",
    "        :return Tensor[batch_size, src_len, d_model] outputs\n",
    "        \"\"\"\n",
    "        context, _ = self.multi_head_attention_layer(query=src_inputs, key=src_inputs, value=src_inputs, mask=src_mask)\n",
    "        context = self.multi_head_attention_layer_norm(self.dropout(context) + src_inputs)\n",
    "        \n",
    "        outputs = self.position_wise_feed_forward_layer(context)\n",
    "        outputs = self.position_wise_feed_forward_layer_norm(self.dropout(outputs) + context)\n",
    "        \n",
    "        return outputs"
   ],
   "execution_count": 23,
   "outputs": []
  },
  {
   "cell_type": "markdown",
   "metadata": {
    "id": "jdtTnRsTmIhk"
   },
   "source": [
    "### Decoder Block Layer"
   ]
  },
  {
   "cell_type": "code",
   "metadata": {
    "id": "bYPAhQkNmIhl"
   },
   "source": [
    "class DecoderBlockLayer(nn.Module):\n",
    "    \n",
    "    def __init__(self, d_model, n_heads, hidden_size, dropout):\n",
    "        super(DecoderBlockLayer, self).__init__()\n",
    "        self.d_model = d_model\n",
    "        self.n_heads = n_heads\n",
    "        self.hidden_size = hidden_size\n",
    "        self.dropout = nn.Dropout(p=dropout)\n",
    "        self.mask_multi_head_attention_layer = MultiHeadAttentionLayer(d_model=d_model, n_heads=n_heads)\n",
    "        self.mask_multi_head_attention_layer_norm = nn.LayerNorm(d_model)\n",
    "        self.multi_head_attention_layer = MultiHeadAttentionLayer(d_model=d_model, n_heads=n_heads)\n",
    "        self.multi_head_attention_layer_norm = nn.LayerNorm(d_model)\n",
    "        self.position_wise_feed_forward_layer = PositionWiseFeedForwardLayer(d_model=d_model, hidden_size=hidden_size)\n",
    "        self.position_wise_feed_forward_layer_norm = nn.LayerNorm(d_model)\n",
    "    \n",
    "    def forward(self, dest_inputs, src_encoded, dest_mask, src_mask):\n",
    "        \"\"\"\n",
    "        :param Tensor[batch_size, dest_len, d_model] dest_inputs\n",
    "        :param Tensor[batch_size, src_len, d_model] src_encoded\n",
    "        :param Tensor[batch_size,  dest_len] dest_mask\n",
    "        :param Tensor[batch_size,  src_len] src_mask\n",
    "        :return Tensor[batch_size, dest_len, d_model] outputs\n",
    "        :return Tensor[batch_size, n_heads, dest_len, src_len] attention_weights\n",
    "        \"\"\"\n",
    "        masked_context, _ = self.mask_multi_head_attention_layer(query=dest_inputs, key=dest_inputs, value=dest_inputs, mask=dest_mask)\n",
    "        masked_context = self.mask_multi_head_attention_layer_norm(self.dropout(masked_context) + dest_inputs)\n",
    "        \n",
    "        context, attention_weights = self.multi_head_attention_layer(query=masked_context, key=src_encoded, value=src_encoded, mask=src_mask)\n",
    "        context = self.multi_head_attention_layer_norm(self.dropout(context) + masked_context)\n",
    "        \n",
    "        outputs = self.position_wise_feed_forward_layer(context)\n",
    "        outputs = self.position_wise_feed_forward_layer_norm(self.dropout(outputs) + context)\n",
    "        \n",
    "        return outputs, attention_weights"
   ],
   "execution_count": 24,
   "outputs": []
  },
  {
   "cell_type": "markdown",
   "metadata": {
    "id": "l_DJtsaCmIhm"
   },
   "source": [
    "### Encoder Layer"
   ]
  },
  {
   "cell_type": "code",
   "metadata": {
    "id": "4RdteY-umIhm"
   },
   "source": [
    "class EncoderLayer(nn.Module):\n",
    "    \n",
    "    def __init__(self, vocab_size, max_len, d_model, n_heads, hidden_size, dropout, n_layers):\n",
    "        super(EncoderLayer, self).__init__()\n",
    "        self.vocab_size = vocab_size\n",
    "        self.max_len = max_len\n",
    "        self.d_model = d_model\n",
    "        self.n_heads = n_heads\n",
    "        self.hidden_size = hidden_size\n",
    "        self.dropout = nn.Dropout(p=dropout)\n",
    "        self.n_layers = n_layers\n",
    "        self.token_embedding = nn.Embedding(vocab_size, d_model)\n",
    "        self.position_encoding = PositionalEncodingLayer(d_model=d_model, max_len=max_len)\n",
    "        self.encoder_block_layers = nn.ModuleList([EncoderBlockLayer(d_model=d_model, n_heads=n_heads, hidden_size=hidden_size,\n",
    "                                                                     dropout=dropout) for _ in range(n_layers)])\n",
    "    \n",
    "    def forward(self, src_sequences, src_mask):\n",
    "        \"\"\"\n",
    "        :param Tensor[batch_size, src_len] src_sequences\n",
    "        :param Tensor[batch_size, src_len] src_mask\n",
    "        :return Tensor[batch_size, src_len, d_model] outputs\n",
    "        \"\"\"\n",
    "        token_embedded = self.token_embedding(src_sequences) # [batch_size, src_len, d_model]\n",
    "        position_encoded = self.position_encoding(src_sequences) # [batch_size, src_len, d_model]\n",
    "        outputs = self.dropout(token_embedded) + position_encoded # [batch_size, src_len, d_model]\n",
    "        for layer in self.encoder_block_layers:\n",
    "            outputs = layer(src_inputs=outputs, src_mask=src_mask) # [batch_size, src_len, d_model]\n",
    "        return outputs"
   ],
   "execution_count": 25,
   "outputs": []
  },
  {
   "cell_type": "markdown",
   "metadata": {
    "id": "zi-q_IdhmIhn"
   },
   "source": [
    "### Decoder Layer"
   ]
  },
  {
   "cell_type": "code",
   "metadata": {
    "id": "n6w3D0ufmIhn"
   },
   "source": [
    "class DecoderLayer(nn.Module):\n",
    "    \n",
    "    def __init__(self, vocab_size, max_len, d_model, n_heads, hidden_size, dropout, n_layers):\n",
    "        super(DecoderLayer, self).__init__()\n",
    "        self.vocab_size = vocab_size\n",
    "        self.max_len = max_len\n",
    "        self.d_model = d_model\n",
    "        self.n_heads = n_heads\n",
    "        self.hidden_size = hidden_size\n",
    "        self.dropout = nn.Dropout(p=dropout)\n",
    "        self.n_layers = n_layers\n",
    "        self.token_embedding = nn.Embedding(vocab_size, d_model)\n",
    "        self.position_encoding = PositionalEncodingLayer(d_model=d_model, max_len=max_len)\n",
    "        self.decoder_block_layers = nn.ModuleList([DecoderBlockLayer(d_model=d_model, n_heads=n_heads, hidden_size=hidden_size, dropout=dropout) for _ in range(n_layers)])\n",
    "        self.fc = nn.Linear(d_model, vocab_size)\n",
    "    \n",
    "    def forward(self, dest_sequences, src_encoded, dest_mask, src_mask):\n",
    "        \"\"\"\n",
    "        :param Tensor[batch_size, dest_len] dest_sequences\n",
    "        :param Tensor[batch_size, src_len, d_model] src_encoded\n",
    "        :param Tensor[batch_size, dest_len, d_model] dest_mask\n",
    "        :param Tensor[batch_size, src_len, d_model] src_mask\n",
    "        :return Tensor[batch_size, dest_len, vocab_size] logits\n",
    "        :return Tensor[batch_size, n_heads, dest_len, src_len] attention_weights\n",
    "        \"\"\"\n",
    "        token_embedded = self.token_embedding(dest_sequences) # [batch_size, dest_len, d_model]\n",
    "        position_encoded = self.position_encoding(dest_sequences) # [batch_size, dest_len, d_model]\n",
    "        outputs = self.dropout(token_embedded) + position_encoded # [batch_size, dest_len, d_model]\n",
    "        for layer in self.decoder_block_layers:\n",
    "            outputs, attention_weights = layer(dest_inputs=outputs, src_encoded=src_encoded, dest_mask=dest_mask, src_mask=src_mask)\n",
    "        logits = self.fc(outputs)\n",
    "        return logits, attention_weights"
   ],
   "execution_count": 26,
   "outputs": []
  },
  {
   "cell_type": "markdown",
   "metadata": {
    "id": "dIFwaKFGmIho"
   },
   "source": [
    "### Transformer Model"
   ]
  },
  {
   "cell_type": "code",
   "metadata": {
    "id": "7hUIswgvmIho"
   },
   "source": [
    "class Transformer(nn.Module):\n",
    "    \n",
    "    def __init__(self, encoder, decoder, src_pad_index, dest_pad_index):\n",
    "        super(Transformer, self).__init__()\n",
    "        self.encoder = encoder\n",
    "        self.decoder = decoder\n",
    "        self.src_pad_index = src_pad_index\n",
    "        self.dest_pad_index = dest_pad_index\n",
    "\n",
    "    def make_src_mask(self, src_sequences):\n",
    "        \"\"\"Mask <pad> tokens.\n",
    "        :param Tensor[batch_size, src_len] src_sequences\n",
    "        :return Tensor[batch size, 1, 1, src len] src_mask\n",
    "        \"\"\"        \n",
    "        src_mask = (src_sequences != self.src_pad_index).unsqueeze(1).unsqueeze(2)\n",
    "        return src_mask\n",
    "    \n",
    "    def make_dest_mask(self, dest_sequences):\n",
    "        \"\"\"Mask <pad> tokens and futur tokens as well.\n",
    "        :param Tensor[batch_size, dest_len] dest_sequences\n",
    "        :return tensor[batch_size, 1, dest_len, dest_len] dest_mask\n",
    "        \"\"\"\n",
    "        mask = (dest_sequences != self.dest_pad_index).unsqueeze(1).unsqueeze(2) # [batch size, 1, 1, trg len]\n",
    "        sub_mask = torch.tril(torch.ones((dest_sequences.size(1), dest_sequences.size(1))).to(dest_sequences.device)).bool() # [trg len, trg len]        \n",
    "        return mask & sub_mask\n",
    "    \n",
    "    def forward(self, src_sequences, dest_sequences):\n",
    "        \"\"\"\n",
    "        :param Tensor[batch_size, src_len] src_sequences\n",
    "        :param Tensor[batch_size, dest_len] dest_sequences\n",
    "        :return Tensor[batch_size, dest_len, vocab_size] logits\n",
    "        :return Tensor[batch_size, n_heads, dest_len, src_len] attention_weights\n",
    "        \"\"\"\n",
    "        src_mask, dest_mask = self.make_src_mask(src_sequences), self.make_dest_mask(dest_sequences)\n",
    "        src_encoded = self.encoder(src_sequences=src_sequences, src_mask=src_mask)\n",
    "        logits, attention_weights = self.decoder(dest_sequences=dest_sequences, src_encoded=src_encoded, dest_mask=dest_mask, src_mask=src_mask)\n",
    "        return logits, attention_weights"
   ],
   "execution_count": 27,
   "outputs": []
  },
  {
   "cell_type": "markdown",
   "metadata": {
    "id": "JZhcsU8YmIho"
   },
   "source": [
    "### Training routines"
   ]
  },
  {
   "cell_type": "code",
   "metadata": {
    "id": "u675PFn0mIho"
   },
   "source": [
    "class AverageMeter:\n",
    "    \n",
    "    def __init__(self):\n",
    "        self.value = 0.\n",
    "        self.sum = 0.\n",
    "        self.count = 0\n",
    "        self.average = 0.\n",
    "        \n",
    "    def reset(self):\n",
    "        self.value = 0.\n",
    "        self.sum = 0.\n",
    "        self.count = 0\n",
    "        self.average = 0.\n",
    "        \n",
    "    def update(self, value, n=1):\n",
    "        self.value = value\n",
    "        self.sum += value * n\n",
    "        self.count += n\n",
    "        self.average = self.sum / self.count"
   ],
   "execution_count": 28,
   "outputs": []
  },
  {
   "cell_type": "code",
   "metadata": {
    "id": "eqR1OqZ3mIhp"
   },
   "source": [
    "def accuracy(outputs, target_sequences, k=5):\n",
    "    \"\"\" Calculate Top-k accuracy\n",
    "    :param Tensor[batch_size, dest_seq_len, vocab_size] outputs\n",
    "    :param Tensor[batch_size, dest_seq_len] target_sequences\n",
    "    :return float Top-k accuracy\n",
    "    \"\"\"\n",
    "    # print([*map(lambda token: EN.vocab.itos[token], outputs.argmax(dim=-1)[0].tolist())])\n",
    "    # print([*map(lambda token: EN.vocab.itos[token], target_sequences[0].tolist())])\n",
    "    # print(\"=\"*100)\n",
    "    batch_size = target_sequences.size(0)\n",
    "    _, indices = outputs.topk(k, dim=2, largest=True, sorted=True) # [batch_size, dest_seq_len, 5]\n",
    "    correct = indices.eq(target_sequences.unsqueeze(-1).expand_as(indices))\n",
    "    correct_total = correct.view(-1).float().sum()  # 0D tensor\n",
    "    return correct_total.item() * (100.0 / indices.numel())"
   ],
   "execution_count": 29,
   "outputs": []
  },
  {
   "cell_type": "code",
   "metadata": {
    "id": "esOC3Ki8mIhp"
   },
   "source": [
    "class Trainer:\n",
    "    \n",
    "    def __init__(self, model, optimizer, criterion):\n",
    "        self.model = model\n",
    "        self.optimizer = optimizer\n",
    "        self.criterion = criterion\n",
    "    \n",
    "    def train_step(self, loader, epoch, grad_clip):\n",
    "        loss_tracker, acc_tracker = AverageMeter(), AverageMeter()\n",
    "        self.model.train()\n",
    "        progress_bar = tqdm.tqdm(enumerate(loader), total=len(loader))\n",
    "        for i, batch in progress_bar:\n",
    "            src, trg = batch.src, batch.trg\n",
    "            self.optimizer.zero_grad()\n",
    "            logits, _ = self.model(src, trg[:, :-1]) # [batch_size, dest_len, vocab_size]\n",
    "            loss = self.criterion(logits.contiguous().view(-1, self.model.decoder.vocab_size), trg[:, 1:].contiguous().view(-1))\n",
    "            loss.backward()\n",
    "            nn.utils.clip_grad_norm_(self.model.parameters(), grad_clip)\n",
    "            self.optimizer.step()\n",
    "            loss_tracker.update(loss.item())\n",
    "            acc_tracker.update(accuracy(logits, trg[:, 1:]))\n",
    "            loss_, ppl_, acc_ = loss_tracker.average, np.exp(loss_tracker.average), acc_tracker.average\n",
    "            progress_bar.set_description(f'Epoch: {epoch+1:02d} -     loss: {loss_:.3f} -     ppl: {ppl_:.3f} -     acc: {acc_:.3f}%')\n",
    "        return loss_tracker.average, np.exp(loss_tracker.average), acc_tracker.average\n",
    "    \n",
    "    def validate(self, loader, epoch):\n",
    "        loss_tracker, acc_tracker = AverageMeter(), AverageMeter()\n",
    "        self.model.eval()\n",
    "        with torch.no_grad():\n",
    "            progress_bar = tqdm.tqdm(enumerate(loader), total=len(loader))\n",
    "            for i, batch in progress_bar:\n",
    "                src, trg = batch.src, batch.trg\n",
    "                logits, _ = self.model(src, trg[:, :-1]) # [batch_size, dest_len, vocab_size]\n",
    "                loss = self.criterion(logits.contiguous().view(-1, self.model.decoder.vocab_size), trg[:, 1:].contiguous().view(-1))\n",
    "                loss_tracker.update(loss.item())\n",
    "                acc_tracker.update(accuracy(logits, trg[:, 1:]))\n",
    "                loss_, ppl_, acc_ = loss_tracker.average, np.exp(loss_tracker.average), acc_tracker.average\n",
    "                progress_bar.set_description(f'Epoch: {epoch+1:02d} - val_loss: {loss_:.3f} - val_ppl: {ppl_:.3f} - val_acc: {acc_:.3f}%')\n",
    "        return loss_tracker.average, np.exp(loss_tracker.average), acc_tracker.average\n",
    "    \n",
    "    def train(self, train_loader, valid_loader, n_epochs, grad_clip):\n",
    "        history, best_loss = {'acc': [], 'loss': [], 'ppl': [], 'val_ppl': [], 'val_acc': [], 'val_loss': []}, np.inf\n",
    "        for epoch in range(n_epochs):\n",
    "            loss, ppl, acc = self.train_step(train_loader, epoch, grad_clip)\n",
    "            val_loss, val_ppl, val_acc = self.validate(valid_loader, epoch)\n",
    "            if best_loss > val_loss:\n",
    "                best_loss = val_loss\n",
    "                torch.save(self.model.state_dict(), './models/transformer.pth')\n",
    "            history['acc'].append(acc); history['val_acc'].append(val_acc)\n",
    "            history['ppl'].append(ppl); history['val_ppl'].append(val_ppl)\n",
    "            history['loss'].append(loss); history['val_loss'].append(val_loss)\n",
    "        return history"
   ],
   "execution_count": 30,
   "outputs": []
  },
  {
   "cell_type": "markdown",
   "metadata": {
    "id": "4zLK2C_OmIhp"
   },
   "source": [
    "### Train the model"
   ]
  },
  {
   "cell_type": "code",
   "metadata": {
    "id": "tuNSZZ-YmIhp"
   },
   "source": [
    "D_MODEL = 256\n",
    "N_LAYERS = 2\n",
    "N_HEADS = 8\n",
    "HIDDEN_SIZE = 512\n",
    "MAX_LEN = 50\n",
    "DROPOUT = 0.25\n",
    "BATCH_SIZE = 64\n",
    "LR = 1e-3\n",
    "N_EPOCHS = 50\n",
    "GRAD_CLIP = 1.0"
   ],
   "execution_count": 32,
   "outputs": []
  },
  {
   "cell_type": "code",
   "metadata": {
    "scrolled": true,
    "colab": {
     "base_uri": "https://localhost:8080/"
    },
    "id": "XimRFwZtmIhp",
    "outputId": "90dee1b5-6251-4480-90bb-ba34eca38af6"
   },
   "source": [
    "transformer = Transformer(\n",
    "    encoder=EncoderLayer(\n",
    "        vocab_size=len(EN_TEXT.vocab),\n",
    "        max_len=MAX_LEN,\n",
    "        d_model=D_MODEL,\n",
    "        n_heads=N_HEADS,\n",
    "        hidden_size=HIDDEN_SIZE,\n",
    "        dropout=DROPOUT,\n",
    "        n_layers=N_LAYERS\n",
    "    ),\n",
    "    decoder=DecoderLayer(\n",
    "        vocab_size=len(RU_TEXT.vocab),\n",
    "        max_len=MAX_LEN,\n",
    "        d_model=D_MODEL,\n",
    "        n_heads=N_HEADS,\n",
    "        hidden_size=HIDDEN_SIZE,\n",
    "        dropout=DROPOUT,\n",
    "        n_layers=N_LAYERS\n",
    "    ),\n",
    "    src_pad_index=EN_TEXT.vocab.stoi[EN_TEXT.pad_token],\n",
    "    dest_pad_index=RU_TEXT.vocab.stoi[RU_TEXT.pad_token]\n",
    ").to(DEVICE)\n",
    "optimizer = optim.Adam(params=transformer.parameters(), lr=LR)\n",
    "criterion = nn.CrossEntropyLoss(ignore_index=RU_TEXT.vocab.stoi[RU_TEXT.pad_token])\n",
    "print(f'Number of parameters of the model: {sum(p.numel() for p in transformer.parameters() if p.requires_grad):,}')\n",
    "print(transformer)\n",
    "trainer = Trainer(model=transformer, optimizer=optimizer, criterion=criterion)"
   ],
   "execution_count": 33,
   "outputs": [
    {
     "output_type": "stream",
     "text": [
      "Number of parameters of the model: 11,489,495\n",
      "Transformer(\n",
      "  (encoder): EncoderLayer(\n",
      "    (dropout): Dropout(p=0.25, inplace=False)\n",
      "    (token_embedding): Embedding(14147, 256)\n",
      "    (position_encoding): PositionalEncodingLayer()\n",
      "    (encoder_block_layers): ModuleList(\n",
      "      (0): EncoderBlockLayer(\n",
      "        (dropout): Dropout(p=0.25, inplace=False)\n",
      "        (multi_head_attention_layer): MultiHeadAttentionLayer(\n",
      "          (fc_q): Linear(in_features=256, out_features=256, bias=True)\n",
      "          (fc_k): Linear(in_features=256, out_features=256, bias=True)\n",
      "          (fc_v): Linear(in_features=256, out_features=256, bias=True)\n",
      "          (fc_o): Linear(in_features=256, out_features=256, bias=True)\n",
      "        )\n",
      "        (multi_head_attention_layer_norm): LayerNorm((256,), eps=1e-05, elementwise_affine=True)\n",
      "        (position_wise_feed_forward_layer): PositionWiseFeedForwardLayer(\n",
      "          (fc_in): Linear(in_features=256, out_features=512, bias=True)\n",
      "          (fc_ou): Linear(in_features=512, out_features=256, bias=True)\n",
      "        )\n",
      "        (position_wise_feed_forward_layer_norm): LayerNorm((256,), eps=1e-05, elementwise_affine=True)\n",
      "      )\n",
      "      (1): EncoderBlockLayer(\n",
      "        (dropout): Dropout(p=0.25, inplace=False)\n",
      "        (multi_head_attention_layer): MultiHeadAttentionLayer(\n",
      "          (fc_q): Linear(in_features=256, out_features=256, bias=True)\n",
      "          (fc_k): Linear(in_features=256, out_features=256, bias=True)\n",
      "          (fc_v): Linear(in_features=256, out_features=256, bias=True)\n",
      "          (fc_o): Linear(in_features=256, out_features=256, bias=True)\n",
      "        )\n",
      "        (multi_head_attention_layer_norm): LayerNorm((256,), eps=1e-05, elementwise_affine=True)\n",
      "        (position_wise_feed_forward_layer): PositionWiseFeedForwardLayer(\n",
      "          (fc_in): Linear(in_features=256, out_features=512, bias=True)\n",
      "          (fc_ou): Linear(in_features=512, out_features=256, bias=True)\n",
      "        )\n",
      "        (position_wise_feed_forward_layer_norm): LayerNorm((256,), eps=1e-05, elementwise_affine=True)\n",
      "      )\n",
      "    )\n",
      "  )\n",
      "  (decoder): DecoderLayer(\n",
      "    (dropout): Dropout(p=0.25, inplace=False)\n",
      "    (token_embedding): Embedding(10199, 256)\n",
      "    (position_encoding): PositionalEncodingLayer()\n",
      "    (decoder_block_layers): ModuleList(\n",
      "      (0): DecoderBlockLayer(\n",
      "        (dropout): Dropout(p=0.25, inplace=False)\n",
      "        (mask_multi_head_attention_layer): MultiHeadAttentionLayer(\n",
      "          (fc_q): Linear(in_features=256, out_features=256, bias=True)\n",
      "          (fc_k): Linear(in_features=256, out_features=256, bias=True)\n",
      "          (fc_v): Linear(in_features=256, out_features=256, bias=True)\n",
      "          (fc_o): Linear(in_features=256, out_features=256, bias=True)\n",
      "        )\n",
      "        (mask_multi_head_attention_layer_norm): LayerNorm((256,), eps=1e-05, elementwise_affine=True)\n",
      "        (multi_head_attention_layer): MultiHeadAttentionLayer(\n",
      "          (fc_q): Linear(in_features=256, out_features=256, bias=True)\n",
      "          (fc_k): Linear(in_features=256, out_features=256, bias=True)\n",
      "          (fc_v): Linear(in_features=256, out_features=256, bias=True)\n",
      "          (fc_o): Linear(in_features=256, out_features=256, bias=True)\n",
      "        )\n",
      "        (multi_head_attention_layer_norm): LayerNorm((256,), eps=1e-05, elementwise_affine=True)\n",
      "        (position_wise_feed_forward_layer): PositionWiseFeedForwardLayer(\n",
      "          (fc_in): Linear(in_features=256, out_features=512, bias=True)\n",
      "          (fc_ou): Linear(in_features=512, out_features=256, bias=True)\n",
      "        )\n",
      "        (position_wise_feed_forward_layer_norm): LayerNorm((256,), eps=1e-05, elementwise_affine=True)\n",
      "      )\n",
      "      (1): DecoderBlockLayer(\n",
      "        (dropout): Dropout(p=0.25, inplace=False)\n",
      "        (mask_multi_head_attention_layer): MultiHeadAttentionLayer(\n",
      "          (fc_q): Linear(in_features=256, out_features=256, bias=True)\n",
      "          (fc_k): Linear(in_features=256, out_features=256, bias=True)\n",
      "          (fc_v): Linear(in_features=256, out_features=256, bias=True)\n",
      "          (fc_o): Linear(in_features=256, out_features=256, bias=True)\n",
      "        )\n",
      "        (mask_multi_head_attention_layer_norm): LayerNorm((256,), eps=1e-05, elementwise_affine=True)\n",
      "        (multi_head_attention_layer): MultiHeadAttentionLayer(\n",
      "          (fc_q): Linear(in_features=256, out_features=256, bias=True)\n",
      "          (fc_k): Linear(in_features=256, out_features=256, bias=True)\n",
      "          (fc_v): Linear(in_features=256, out_features=256, bias=True)\n",
      "          (fc_o): Linear(in_features=256, out_features=256, bias=True)\n",
      "        )\n",
      "        (multi_head_attention_layer_norm): LayerNorm((256,), eps=1e-05, elementwise_affine=True)\n",
      "        (position_wise_feed_forward_layer): PositionWiseFeedForwardLayer(\n",
      "          (fc_in): Linear(in_features=256, out_features=512, bias=True)\n",
      "          (fc_ou): Linear(in_features=512, out_features=256, bias=True)\n",
      "        )\n",
      "        (position_wise_feed_forward_layer_norm): LayerNorm((256,), eps=1e-05, elementwise_affine=True)\n",
      "      )\n",
      "    )\n",
      "    (fc): Linear(in_features=256, out_features=10199, bias=True)\n",
      "  )\n",
      ")\n"
     ],
     "name": "stdout"
    }
   ]
  },
  {
   "cell_type": "code",
   "metadata": {
    "id": "rGbbnHE4jZjc"
   },
   "source": [
    "!mkdir -p models"
   ],
   "execution_count": 34,
   "outputs": []
  },
  {
   "cell_type": "code",
   "metadata": {
    "colab": {
     "base_uri": "https://localhost:8080/"
    },
    "id": "qd8AOS1vmIhq",
    "outputId": "b11f54ec-2987-4dd0-9ceb-b70e8ce0dc9e"
   },
   "source": [
    "train_iterator, valid_iterator, _ =  BucketIterator.splits((train_data, valid_data, test_data), batch_size=BATCH_SIZE, device=DEVICE, sort=False)\n",
    "history = trainer.train(train_loader=train_iterator, valid_loader=valid_iterator, n_epochs=N_EPOCHS, grad_clip=GRAD_CLIP)"
   ],
   "execution_count": 38,
   "outputs": [
    {
     "output_type": "stream",
     "text": [
      "Epoch: 01 -     loss: 2.409 -     ppl: 11.122 -     acc: 6.390%: 100%|██████████| 625/625 [00:23<00:00, 26.12it/s]\n",
      "Epoch: 01 - val_loss: 2.151 - val_ppl: 8.595 - val_acc: 6.640%: 100%|██████████| 40/40 [00:00<00:00, 73.56it/s]\n",
      "Epoch: 02 -     loss: 2.132 -     ppl: 8.434 -     acc: 6.638%: 100%|██████████| 625/625 [00:23<00:00, 26.56it/s]\n",
      "Epoch: 02 - val_loss: 2.010 - val_ppl: 7.461 - val_acc: 6.807%: 100%|██████████| 40/40 [00:00<00:00, 66.58it/s]\n",
      "Epoch: 03 -     loss: 1.941 -     ppl: 6.966 -     acc: 6.845%: 100%|██████████| 625/625 [00:23<00:00, 26.05it/s]\n",
      "Epoch: 03 - val_loss: 1.934 - val_ppl: 6.916 - val_acc: 6.903%: 100%|██████████| 40/40 [00:00<00:00, 73.35it/s]\n",
      "Epoch: 04 -     loss: 1.797 -     ppl: 6.034 -     acc: 6.993%: 100%|██████████| 625/625 [00:23<00:00, 26.19it/s]\n",
      "Epoch: 04 - val_loss: 1.883 - val_ppl: 6.573 - val_acc: 6.989%: 100%|██████████| 40/40 [00:00<00:00, 70.41it/s]\n",
      "Epoch: 05 -     loss: 1.678 -     ppl: 5.355 -     acc: 7.041%: 100%|██████████| 625/625 [00:23<00:00, 26.81it/s]\n",
      "Epoch: 05 - val_loss: 1.846 - val_ppl: 6.338 - val_acc: 7.032%: 100%|██████████| 40/40 [00:00<00:00, 71.36it/s]\n",
      "Epoch: 06 -     loss: 1.581 -     ppl: 4.859 -     acc: 7.236%: 100%|██████████| 625/625 [00:23<00:00, 26.89it/s]\n",
      "Epoch: 06 - val_loss: 1.814 - val_ppl: 6.134 - val_acc: 7.069%: 100%|██████████| 40/40 [00:00<00:00, 74.90it/s]\n",
      "Epoch: 07 -     loss: 1.499 -     ppl: 4.477 -     acc: 7.339%: 100%|██████████| 625/625 [00:22<00:00, 27.22it/s]\n",
      "Epoch: 07 - val_loss: 1.800 - val_ppl: 6.050 - val_acc: 7.099%: 100%|██████████| 40/40 [00:00<00:00, 70.29it/s]\n",
      "Epoch: 08 -     loss: 1.431 -     ppl: 4.185 -     acc: 7.392%: 100%|██████████| 625/625 [00:22<00:00, 27.59it/s]\n",
      "Epoch: 08 - val_loss: 1.776 - val_ppl: 5.904 - val_acc: 7.137%: 100%|██████████| 40/40 [00:00<00:00, 73.03it/s]\n",
      "Epoch: 09 -     loss: 1.373 -     ppl: 3.947 -     acc: 7.424%: 100%|██████████| 625/625 [00:22<00:00, 27.24it/s]\n",
      "Epoch: 09 - val_loss: 1.762 - val_ppl: 5.823 - val_acc: 7.170%: 100%|██████████| 40/40 [00:00<00:00, 73.47it/s]\n",
      "Epoch: 10 -     loss: 1.324 -     ppl: 3.758 -     acc: 7.519%: 100%|██████████| 625/625 [00:23<00:00, 26.90it/s]\n",
      "Epoch: 10 - val_loss: 1.760 - val_ppl: 5.811 - val_acc: 7.176%: 100%|██████████| 40/40 [00:00<00:00, 76.28it/s]\n",
      "Epoch: 11 -     loss: 1.282 -     ppl: 3.603 -     acc: 7.578%: 100%|██████████| 625/625 [00:22<00:00, 27.77it/s]\n",
      "Epoch: 11 - val_loss: 1.752 - val_ppl: 5.767 - val_acc: 7.208%: 100%|██████████| 40/40 [00:00<00:00, 77.24it/s]\n",
      "Epoch: 12 -     loss: 1.245 -     ppl: 3.474 -     acc: 7.582%: 100%|██████████| 625/625 [00:22<00:00, 27.68it/s]\n",
      "Epoch: 12 - val_loss: 1.742 - val_ppl: 5.710 - val_acc: 7.224%: 100%|██████████| 40/40 [00:00<00:00, 76.20it/s]\n",
      "Epoch: 13 -     loss: 1.209 -     ppl: 3.349 -     acc: 7.636%: 100%|██████████| 625/625 [00:22<00:00, 27.67it/s]\n",
      "Epoch: 13 - val_loss: 1.731 - val_ppl: 5.646 - val_acc: 7.238%: 100%|██████████| 40/40 [00:00<00:00, 73.53it/s]\n",
      "Epoch: 14 -     loss: 1.181 -     ppl: 3.256 -     acc: 7.692%: 100%|██████████| 625/625 [00:22<00:00, 27.64it/s]\n",
      "Epoch: 14 - val_loss: 1.746 - val_ppl: 5.733 - val_acc: 7.241%: 100%|██████████| 40/40 [00:00<00:00, 71.95it/s]\n",
      "Epoch: 15 -     loss: 1.152 -     ppl: 3.163 -     acc: 7.760%: 100%|██████████| 625/625 [00:22<00:00, 27.70it/s]\n",
      "Epoch: 15 - val_loss: 1.740 - val_ppl: 5.698 - val_acc: 7.247%: 100%|██████████| 40/40 [00:00<00:00, 78.19it/s]\n",
      "Epoch: 16 -     loss: 1.129 -     ppl: 3.093 -     acc: 7.731%: 100%|██████████| 625/625 [00:22<00:00, 27.48it/s]\n",
      "Epoch: 16 - val_loss: 1.725 - val_ppl: 5.610 - val_acc: 7.270%: 100%|██████████| 40/40 [00:00<00:00, 71.45it/s]\n",
      "Epoch: 17 -     loss: 1.106 -     ppl: 3.021 -     acc: 7.741%: 100%|██████████| 625/625 [00:22<00:00, 27.77it/s]\n",
      "Epoch: 17 - val_loss: 1.735 - val_ppl: 5.670 - val_acc: 7.264%: 100%|██████████| 40/40 [00:00<00:00, 78.00it/s]\n",
      "Epoch: 18 -     loss: 1.083 -     ppl: 2.954 -     acc: 7.767%: 100%|██████████| 625/625 [00:22<00:00, 27.53it/s]\n",
      "Epoch: 18 - val_loss: 1.721 - val_ppl: 5.592 - val_acc: 7.273%: 100%|██████████| 40/40 [00:00<00:00, 76.83it/s]\n",
      "Epoch: 19 -     loss: 1.063 -     ppl: 2.896 -     acc: 7.791%: 100%|██████████| 625/625 [00:22<00:00, 27.85it/s]\n",
      "Epoch: 19 - val_loss: 1.735 - val_ppl: 5.668 - val_acc: 7.261%: 100%|██████████| 40/40 [00:00<00:00, 76.90it/s]\n",
      "Epoch: 20 -     loss: 1.045 -     ppl: 2.844 -     acc: 7.826%: 100%|██████████| 625/625 [00:22<00:00, 27.36it/s]\n",
      "Epoch: 20 - val_loss: 1.725 - val_ppl: 5.614 - val_acc: 7.276%: 100%|██████████| 40/40 [00:00<00:00, 75.27it/s]\n",
      "Epoch: 21 -     loss: 1.027 -     ppl: 2.792 -     acc: 7.808%: 100%|██████████| 625/625 [00:22<00:00, 28.02it/s]\n",
      "Epoch: 21 - val_loss: 1.737 - val_ppl: 5.681 - val_acc: 7.271%: 100%|██████████| 40/40 [00:00<00:00, 69.88it/s]\n",
      "Epoch: 22 -     loss: 1.009 -     ppl: 2.743 -     acc: 7.855%: 100%|██████████| 625/625 [00:22<00:00, 27.72it/s]\n",
      "Epoch: 22 - val_loss: 1.717 - val_ppl: 5.569 - val_acc: 7.295%: 100%|██████████| 40/40 [00:00<00:00, 75.67it/s]\n",
      "Epoch: 23 -     loss: 0.995 -     ppl: 2.704 -     acc: 7.885%: 100%|██████████| 625/625 [00:22<00:00, 27.81it/s]\n",
      "Epoch: 23 - val_loss: 1.731 - val_ppl: 5.644 - val_acc: 7.298%: 100%|██████████| 40/40 [00:00<00:00, 73.00it/s]\n",
      "Epoch: 24 -     loss: 0.979 -     ppl: 2.661 -     acc: 7.863%: 100%|██████████| 625/625 [00:22<00:00, 27.70it/s]\n",
      "Epoch: 24 - val_loss: 1.735 - val_ppl: 5.672 - val_acc: 7.298%: 100%|██████████| 40/40 [00:00<00:00, 74.71it/s]\n",
      "Epoch: 25 -     loss: 0.965 -     ppl: 2.624 -     acc: 7.859%: 100%|██████████| 625/625 [00:21<00:00, 28.50it/s]\n",
      "Epoch: 25 - val_loss: 1.733 - val_ppl: 5.660 - val_acc: 7.312%: 100%|██████████| 40/40 [00:00<00:00, 75.69it/s]\n",
      "Epoch: 26 -     loss: 0.951 -     ppl: 2.589 -     acc: 7.880%: 100%|██████████| 625/625 [00:22<00:00, 27.94it/s]\n",
      "Epoch: 26 - val_loss: 1.737 - val_ppl: 5.679 - val_acc: 7.313%: 100%|██████████| 40/40 [00:00<00:00, 76.38it/s]\n",
      "Epoch: 27 -     loss: 0.938 -     ppl: 2.555 -     acc: 7.879%: 100%|██████████| 625/625 [00:22<00:00, 28.02it/s]\n",
      "Epoch: 27 - val_loss: 1.735 - val_ppl: 5.669 - val_acc: 7.316%: 100%|██████████| 40/40 [00:00<00:00, 74.64it/s]\n",
      "Epoch: 28 -     loss: 0.926 -     ppl: 2.523 -     acc: 7.939%: 100%|██████████| 625/625 [00:22<00:00, 28.16it/s]\n",
      "Epoch: 28 - val_loss: 1.745 - val_ppl: 5.723 - val_acc: 7.317%: 100%|██████████| 40/40 [00:00<00:00, 77.14it/s]\n",
      "Epoch: 29 -     loss: 0.914 -     ppl: 2.494 -     acc: 7.925%: 100%|██████████| 625/625 [00:22<00:00, 28.11it/s]\n",
      "Epoch: 29 - val_loss: 1.740 - val_ppl: 5.699 - val_acc: 7.328%: 100%|██████████| 40/40 [00:00<00:00, 76.72it/s]\n",
      "Epoch: 30 -     loss: 0.901 -     ppl: 2.461 -     acc: 7.971%: 100%|██████████| 625/625 [00:22<00:00, 28.17it/s]\n",
      "Epoch: 30 - val_loss: 1.740 - val_ppl: 5.696 - val_acc: 7.330%: 100%|██████████| 40/40 [00:00<00:00, 76.63it/s]\n",
      "Epoch: 31 -     loss: 0.890 -     ppl: 2.436 -     acc: 7.970%: 100%|██████████| 625/625 [00:22<00:00, 28.31it/s]\n",
      "Epoch: 31 - val_loss: 1.751 - val_ppl: 5.762 - val_acc: 7.323%: 100%|██████████| 40/40 [00:00<00:00, 73.96it/s]\n",
      "Epoch: 32 -     loss: 0.882 -     ppl: 2.415 -     acc: 8.024%: 100%|██████████| 625/625 [00:22<00:00, 27.85it/s]\n",
      "Epoch: 32 - val_loss: 1.753 - val_ppl: 5.772 - val_acc: 7.324%: 100%|██████████| 40/40 [00:00<00:00, 75.75it/s]\n",
      "Epoch: 33 -     loss: 0.870 -     ppl: 2.387 -     acc: 8.015%: 100%|██████████| 625/625 [00:21<00:00, 28.81it/s]\n",
      "Epoch: 33 - val_loss: 1.760 - val_ppl: 5.813 - val_acc: 7.318%: 100%|██████████| 40/40 [00:00<00:00, 73.66it/s]\n",
      "Epoch: 34 -     loss: 0.862 -     ppl: 2.367 -     acc: 8.006%: 100%|██████████| 625/625 [00:22<00:00, 27.64it/s]\n",
      "Epoch: 34 - val_loss: 1.754 - val_ppl: 5.780 - val_acc: 7.347%: 100%|██████████| 40/40 [00:00<00:00, 74.71it/s]\n",
      "Epoch: 35 -     loss: 0.853 -     ppl: 2.346 -     acc: 8.032%: 100%|██████████| 625/625 [00:21<00:00, 28.71it/s]\n",
      "Epoch: 35 - val_loss: 1.758 - val_ppl: 5.803 - val_acc: 7.342%: 100%|██████████| 40/40 [00:00<00:00, 76.48it/s]\n",
      "Epoch: 36 -     loss: 0.840 -     ppl: 2.317 -     acc: 7.996%: 100%|██████████| 625/625 [00:22<00:00, 28.08it/s]\n",
      "Epoch: 36 - val_loss: 1.752 - val_ppl: 5.767 - val_acc: 7.343%: 100%|██████████| 40/40 [00:00<00:00, 68.62it/s]\n",
      "Epoch: 37 -     loss: 0.833 -     ppl: 2.300 -     acc: 8.033%: 100%|██████████| 625/625 [00:22<00:00, 27.95it/s]\n",
      "Epoch: 37 - val_loss: 1.776 - val_ppl: 5.904 - val_acc: 7.339%: 100%|██████████| 40/40 [00:00<00:00, 76.65it/s]\n",
      "Epoch: 38 -     loss: 0.826 -     ppl: 2.284 -     acc: 8.025%: 100%|██████████| 625/625 [00:22<00:00, 28.09it/s]\n",
      "Epoch: 38 - val_loss: 1.769 - val_ppl: 5.862 - val_acc: 7.339%: 100%|██████████| 40/40 [00:00<00:00, 74.92it/s]\n",
      "Epoch: 39 -     loss: 0.816 -     ppl: 2.261 -     acc: 8.027%: 100%|██████████| 625/625 [00:22<00:00, 28.13it/s]\n",
      "Epoch: 39 - val_loss: 1.777 - val_ppl: 5.911 - val_acc: 7.329%: 100%|██████████| 40/40 [00:00<00:00, 74.10it/s]\n",
      "Epoch: 40 -     loss: 0.808 -     ppl: 2.244 -     acc: 8.073%: 100%|██████████| 625/625 [00:22<00:00, 27.53it/s]\n",
      "Epoch: 40 - val_loss: 1.786 - val_ppl: 5.966 - val_acc: 7.339%: 100%|██████████| 40/40 [00:00<00:00, 70.25it/s]\n",
      "Epoch: 41 -     loss: 0.799 -     ppl: 2.223 -     acc: 8.107%: 100%|██████████| 625/625 [00:22<00:00, 27.74it/s]\n",
      "Epoch: 41 - val_loss: 1.787 - val_ppl: 5.974 - val_acc: 7.336%: 100%|██████████| 40/40 [00:00<00:00, 73.95it/s]\n",
      "Epoch: 42 -     loss: 0.794 -     ppl: 2.212 -     acc: 8.077%: 100%|██████████| 625/625 [00:21<00:00, 28.50it/s]\n",
      "Epoch: 42 - val_loss: 1.792 - val_ppl: 6.000 - val_acc: 7.348%: 100%|██████████| 40/40 [00:00<00:00, 75.42it/s]\n",
      "Epoch: 43 -     loss: 0.785 -     ppl: 2.193 -     acc: 8.048%: 100%|██████████| 625/625 [00:22<00:00, 28.36it/s]\n",
      "Epoch: 43 - val_loss: 1.798 - val_ppl: 6.035 - val_acc: 7.342%: 100%|██████████| 40/40 [00:00<00:00, 75.42it/s]\n",
      "Epoch: 44 -     loss: 0.778 -     ppl: 2.177 -     acc: 8.043%: 100%|██████████| 625/625 [00:22<00:00, 28.02it/s]\n",
      "Epoch: 44 - val_loss: 1.796 - val_ppl: 6.023 - val_acc: 7.346%: 100%|██████████| 40/40 [00:00<00:00, 75.94it/s]\n",
      "Epoch: 45 -     loss: 0.771 -     ppl: 2.162 -     acc: 8.094%: 100%|██████████| 625/625 [00:22<00:00, 28.11it/s]\n",
      "Epoch: 45 - val_loss: 1.798 - val_ppl: 6.037 - val_acc: 7.340%: 100%|██████████| 40/40 [00:00<00:00, 72.32it/s]\n",
      "Epoch: 46 -     loss: 0.766 -     ppl: 2.151 -     acc: 8.091%: 100%|██████████| 625/625 [00:22<00:00, 27.61it/s]\n",
      "Epoch: 46 - val_loss: 1.785 - val_ppl: 5.960 - val_acc: 7.356%: 100%|██████████| 40/40 [00:00<00:00, 75.25it/s]\n",
      "Epoch: 47 -     loss: 0.758 -     ppl: 2.134 -     acc: 8.138%: 100%|██████████| 625/625 [00:22<00:00, 28.14it/s]\n",
      "Epoch: 47 - val_loss: 1.803 - val_ppl: 6.066 - val_acc: 7.356%: 100%|██████████| 40/40 [00:00<00:00, 74.25it/s]\n",
      "Epoch: 48 -     loss: 0.751 -     ppl: 2.119 -     acc: 8.113%: 100%|██████████| 625/625 [00:22<00:00, 27.59it/s]\n",
      "Epoch: 48 - val_loss: 1.815 - val_ppl: 6.144 - val_acc: 7.342%: 100%|██████████| 40/40 [00:00<00:00, 74.23it/s]\n",
      "Epoch: 49 -     loss: 0.745 -     ppl: 2.106 -     acc: 8.109%: 100%|██████████| 625/625 [00:22<00:00, 27.80it/s]\n",
      "Epoch: 49 - val_loss: 1.806 - val_ppl: 6.088 - val_acc: 7.360%: 100%|██████████| 40/40 [00:00<00:00, 75.50it/s]\n",
      "Epoch: 50 -     loss: 0.740 -     ppl: 2.095 -     acc: 8.152%: 100%|██████████| 625/625 [00:22<00:00, 27.54it/s]\n",
      "Epoch: 50 - val_loss: 1.812 - val_ppl: 6.125 - val_acc: 7.353%: 100%|██████████| 40/40 [00:00<00:00, 74.51it/s]\n"
     ],
     "name": "stderr"
    }
   ]
  },
  {
   "cell_type": "code",
   "metadata": {
    "colab": {
     "base_uri": "https://localhost:8080/"
    },
    "id": "h4ybctUVAYK8",
    "outputId": "b924b21b-7a14-43dd-a568-2c7ce84db79e"
   },
   "source": [
    "!nvidia-smi"
   ],
   "execution_count": 39,
   "outputs": [
    {
     "output_type": "stream",
     "text": [
      "Sun Feb 28 13:29:49 2021       \n",
      "+-----------------------------------------------------------------------------+\n",
      "| NVIDIA-SMI 460.39       Driver Version: 460.32.03    CUDA Version: 11.2     |\n",
      "|-------------------------------+----------------------+----------------------+\n",
      "| GPU  Name        Persistence-M| Bus-Id        Disp.A | Volatile Uncorr. ECC |\n",
      "| Fan  Temp  Perf  Pwr:Usage/Cap|         Memory-Usage | GPU-Util  Compute M. |\n",
      "|                               |                      |               MIG M. |\n",
      "|===============================+======================+======================|\n",
      "|   0  Tesla V100-SXM2...  Off  | 00000000:00:04.0 Off |                    0 |\n",
      "| N/A   40C    P0    40W / 300W |   5899MiB / 16160MiB |      0%      Default |\n",
      "|                               |                      |                  N/A |\n",
      "+-------------------------------+----------------------+----------------------+\n",
      "                                                                               \n",
      "+-----------------------------------------------------------------------------+\n",
      "| Processes:                                                                  |\n",
      "|  GPU   GI   CI        PID   Type   Process name                  GPU Memory |\n",
      "|        ID   ID                                                   Usage      |\n",
      "|=============================================================================|\n",
      "+-----------------------------------------------------------------------------+\n"
     ],
     "name": "stdout"
    }
   ]
  },
  {
   "cell_type": "code",
   "metadata": {
    "colab": {
     "base_uri": "https://localhost:8080/",
     "height": 350
    },
    "id": "gFcY3q9dmIhr",
    "outputId": "a74cf3d2-b296-45d2-ebf2-467253fcc953"
   },
   "source": [
    "_, axes = plt.subplots(1, 3, figsize=(15, 5))\n",
    "\n",
    "axes[0].plot(history['loss'], label='train')\n",
    "axes[0].plot(history['val_loss'], label='valid')\n",
    "axes[0].set_title('Loss history')\n",
    "axes[0].set_xlabel('Epoch')\n",
    "axes[0].set_ylabel('Loss')\n",
    "axes[0].grid(True)\n",
    "axes[0].legend()\n",
    "\n",
    "axes[1].plot(history['ppl'], label='train')\n",
    "axes[1].plot(history['val_ppl'], label='valid')\n",
    "axes[1].set_title('Perplexity history')\n",
    "axes[1].set_xlabel('Epoch')\n",
    "axes[1].set_ylabel('Perplexity')\n",
    "axes[1].grid(True)\n",
    "axes[1].legend()\n",
    "\n",
    "axes[2].plot(history['acc'], label='train')\n",
    "axes[2].plot(history['val_acc'], label='valid')\n",
    "axes[2].set_title('Top-5 Accuracy & BLEU history')\n",
    "axes[2].set_xlabel('Epoch')\n",
    "axes[2].set_ylabel('Accuracy & BLEU (%)')\n",
    "axes[2].grid(True)\n",
    "axes[2].legend()\n",
    "\n",
    "plt.show()"
   ],
   "execution_count": 53,
   "outputs": [
    {
     "output_type": "display_data",
     "data": {
      "image/png": "[encoded data removed]",
      "text/plain": [
       "<Figure size 1080x360 with 3 Axes>"
      ]
     },
     "metadata": {
      "tags": [],
      "needs_background": "light"
     }
    }
   ]
  },
  {
   "cell_type": "code",
   "metadata": {
    "id": "K_pcK8xOmIhr"
   },
   "source": [
    "transformer.load_state_dict(torch.load('./models/transformer.pth'))\n",
    "transformer.to(DEVICE);"
   ],
   "execution_count": null,
   "outputs": []
  },
  {
   "cell_type": "code",
   "metadata": {
    "id": "Q8LxG1gYiwJX"
   },
   "source": [
    "def find_path(tree):\n",
    "    path = []\n",
    "    for nodes in reversed(tree):\n",
    "        if len(path) == 0:\n",
    "            path.append(nodes[0])\n",
    "        else:\n",
    "            parent_id = path[-1].parent_id\n",
    "            for node in nodes:\n",
    "                if node.id == parent_id:\n",
    "                    path.append(node)\n",
    "    return path\n",
    "\n",
    "def find_best_path(tree):\n",
    "    best = []\n",
    "    for nodes in reversed(tree):\n",
    "        if len(best) == 0:\n",
    "            best.append(nodes[0])\n",
    "        else:\n",
    "            nodes_eos = []\n",
    "            parent_id = best[-1].parent_id\n",
    "            for node in nodes:\n",
    "                if node.eos:\n",
    "                    nodes_eos.append(node)\n",
    "                if node.id == parent_id:\n",
    "                    best.append(node)\n",
    "            if len(nodes_eos) > 0:\n",
    "                candidates = sorted([best[-1], *nodes_eos],\n",
    "                                    key=lambda node: node.logps,\n",
    "                                    reverse=True)\n",
    "                candidate = candidates[0]\n",
    "                if candidate.eos:\n",
    "                    best = [candidate]\n",
    "    return best\n",
    "\n",
    "class Node:\n",
    "    id_ = 0\n",
    "    \n",
    "    def __init__(self, token, states, logp=0., parent=None, eos=False):\n",
    "        self.__id = self.__class__.id_\n",
    "        self.__token = token\n",
    "        self.__states = states\n",
    "        self.__logp = logp\n",
    "        self.__parent_id = None if parent is None else parent.id\n",
    "        self.__eos = eos\n",
    "        self.__level = 0 if parent is None else parent.level + 1\n",
    "        self.__logps = logp if parent is None else parent.logps + logp\n",
    "        self.__class__.id_ += 1\n",
    "        \n",
    "    def __str__(self):\n",
    "        return f'Node[id={self.__id}, ' + \\\n",
    "                    f'index={EN.vocab.itos[self.__token.cpu().item()]}, ' + \\\n",
    "                    f'logp={self.__logp}, ' + \\\n",
    "                    f'logps={self.__logps}, ' + \\\n",
    "                    f'parent_id={self.__parent_id}, ' + \\\n",
    "                    f'level={self.__level}]'\n",
    "    \n",
    "    @property\n",
    "    def token(self):\n",
    "        return self.__token\n",
    "    \n",
    "    @token.setter\n",
    "    def token(self, token):\n",
    "        self.__token = token\n",
    "    \n",
    "    @property\n",
    "    def parent_id(self):\n",
    "        return self.__parent_id\n",
    "    \n",
    "    @parent_id.setter\n",
    "    def parent_id(self, parent_id):\n",
    "        self.__parent_id = parent_id\n",
    "        \n",
    "    @property\n",
    "    def id(self):\n",
    "        return self.__id\n",
    "    \n",
    "    @id.setter\n",
    "    def id(self, id_):\n",
    "        self.__id = id_\n",
    "    \n",
    "    @property\n",
    "    def token(self):\n",
    "        return self.__token\n",
    "    \n",
    "    @token.setter\n",
    "    def token(self, token):\n",
    "        self.__token = token\n",
    "    \n",
    "    @property\n",
    "    def states(self):\n",
    "        return self.__states\n",
    "    \n",
    "    @states.setter\n",
    "    def states(self, states):\n",
    "        self.__states = states\n",
    "      \n",
    "    @property\n",
    "    def eos(self):\n",
    "        return self.__eos\n",
    "    \n",
    "    @eos.setter\n",
    "    def eos(self, eos):\n",
    "        self.__eos = eos\n",
    "    \n",
    "    @property\n",
    "    def logps(self):\n",
    "        return self.__logps\n",
    "    \n",
    "    @logps.setter\n",
    "    def logps(self, logps):\n",
    "        self.__logps = logps\n",
    "        \n",
    "    @property\n",
    "    def level(self):\n",
    "        return self.__level\n",
    "    \n",
    "    @level.setter\n",
    "    def level(self, level):\n",
    "        self.__level = level\n"
   ],
   "execution_count": 42,
   "outputs": []
  },
  {
   "cell_type": "code",
   "metadata": {
    "id": "ScoI5AN1mIhr"
   },
   "source": [
    "def evaluate(model, data, beam_size, src_field, dest_field, max_len, device):\n",
    "    src_sentences = [*map(lambda example: example.src, data.examples)]\n",
    "    dest_sentences = [*map(lambda example: example.trg, data.examples)]\n",
    "    data = [*zip([*map(lambda word_list: src_field.process([word_list]), src_sentences)],\n",
    "                 [*map(lambda word_list: dest_field.process([word_list]), dest_sentences)])]\n",
    "    references, hypotheses, sources = [], [], []\n",
    "    model.eval()\n",
    "    with torch.no_grad():\n",
    "        for i, (src_sequence, dest_sequence) in tqdm.tqdm(enumerate(data), total=len(data), position=0, leave=True):\n",
    "            src_sequence, dest_sequence = src_sequence.to(device), dest_sequence.to(device)\n",
    "            src_mask = model.make_src_mask(src_sequence)\n",
    "            src_encoded = model.encoder(src_sequences=src_sequence, src_mask=src_mask)\n",
    "            # Decoding\n",
    "            tree = [[Node(token=torch.LongTensor([dest_field.vocab.stoi[dest_field.init_token]]).to(device), states=None)]]\n",
    "            for _ in range(max_len):\n",
    "                next_nodes = []\n",
    "                for node in tree[-1]:\n",
    "                    if node.eos: # Skip eos token\n",
    "                        continue\n",
    "                    # Get tokens that're already translated\n",
    "                    already_translated = torch.LongTensor([*map(lambda node: node.token, find_path(tree))][::-1]).unsqueeze(0).to(device)\n",
    "                    dest_mask = model.make_dest_mask(already_translated)\n",
    "                    logit, _ = model.decoder(dest_sequences=already_translated, src_encoded=src_encoded,\n",
    "                                              dest_mask=dest_mask, src_mask=src_mask) # [1, dest_seq_len, vocab_size]                    \n",
    "                    logp = F.log_softmax(logit[:, -1, :], dim=1).squeeze(dim=0) # [vocab_size] Get scores                    \n",
    "                    topk_logps, topk_tokens = torch.topk(logp, beam_size) # Get top k tokens & logps                    \n",
    "                    for k in range(beam_size):\n",
    "                        next_nodes.append(Node(token=topk_tokens[k, None], states=None,\n",
    "                                               logp=topk_logps[k, None].cpu().item(), parent=node,\n",
    "                                               eos=topk_tokens[k].cpu().item() == dest_field.vocab[dest_field.eos_token]))\n",
    "                if len(next_nodes) == 0:\n",
    "                    break\n",
    "                next_nodes = sorted(next_nodes, key=lambda node: node.logps, reverse=True) # Sort next_nodes to get the best\n",
    "                tree.append(next_nodes[:beam_size]) # Update the tree\n",
    "            best_path = find_best_path(tree) # Find the best path of the tree\n",
    "\n",
    "            # Get the translation\n",
    "            pred_translated = [*map(lambda node: dest_field.vocab.itos[node.token], best_path)]\n",
    "            pred_translated = [*filter(lambda word: word not in [dest_field.init_token, dest_field.eos_token], pred_translated[::-1])]\n",
    "\n",
    "            hypotheses.append(pred_translated) # Update hypotheses\n",
    "\n",
    "            # Update references\n",
    "            references.append([[dest_field.vocab.itos[indice] for indice in dest_sequence[0] if indice not in (\n",
    "                dest_field.vocab.stoi[dest_field.init_token],\n",
    "                dest_field.vocab.stoi[dest_field.eos_token],\n",
    "                dest_field.vocab.stoi[dest_field.pad_token]\n",
    "            )]])\n",
    "\n",
    "            # Update sources\n",
    "            sources.append([src_field.vocab.itos[indice]  for indice in src_sequence[0] if indice not in (\n",
    "                src_field.vocab.stoi[src_field.init_token],\n",
    "                src_field.vocab.stoi[src_field.eos_token],\n",
    "                src_field.vocab.stoi[src_field.pad_token]\n",
    "            )])\n",
    "    \n",
    "        assert len(hypotheses) == len(references) == len(sources)\n",
    "        bleu = bleu_score(hypotheses, references) # Calculate BLEU score\n",
    "    return hypotheses, references, sources, bleu"
   ],
   "execution_count": 54,
   "outputs": []
  },
  {
   "cell_type": "code",
   "metadata": {
    "colab": {
     "base_uri": "https://localhost:8080/"
    },
    "id": "8Z4YL6aemIhr",
    "outputId": "8bb647a1-5907-43fd-da05-a3ccfc97244a"
   },
   "source": [
    "bleu_scores = []\n",
    "for name, data in [('validation', valid_data), ('test', test_data)]:\n",
    "    _, _, _, bleu = evaluate(model=transformer, data=data, beam_size=1, src_field=EN_TEXT, dest_field=RU_TEXT, max_len=MAX_LEN, device=DEVICE)\n",
    "    bleu_scores.append((1, name, bleu))"
   ],
   "execution_count": 55,
   "outputs": [
    {
     "output_type": "stream",
     "text": [
      "100%|██████████| 2500/2500 [02:47<00:00, 14.89it/s]\n",
      "100%|██████████| 7500/7500 [07:59<00:00, 15.64it/s]\n"
     ],
     "name": "stderr"
    }
   ]
  },
  {
   "cell_type": "code",
   "metadata": {
    "colab": {
     "base_uri": "https://localhost:8080/"
    },
    "id": "AhmKUQwL31PF",
    "outputId": "47fca5f7-b9db-4934-ab0c-9a76921484f7"
   },
   "source": [
    "for score in bleu_scores:\n",
    "    print(f'BLEU: {score[2]*100:.3f}% with beam_size={score[0]} on {score[1]} data')"
   ],
   "execution_count": 56,
   "outputs": [
    {
     "output_type": "stream",
     "text": [
      "BLEU: 32.468% with beam_size=1 on validation data\n",
      "BLEU: 32.590% with beam_size=1 on test data\n"
     ],
     "name": "stdout"
    }
   ]
  },
  {
   "cell_type": "code",
   "metadata": {
    "id": "JRfG8X1pHEBd",
    "colab": {
     "base_uri": "https://localhost:8080/"
    },
    "outputId": "7395e303-7266-429c-fb07-051bf77bb2d6"
   },
   "source": [
    "def count_parameters(model):\n",
    "    return sum(p.numel() for p in model.parameters() if p.requires_grad)\n",
    "\n",
    "print(f'The model has {count_parameters(transformer):,} trainable parameters')"
   ],
   "execution_count": 46,
   "outputs": [
    {
     "output_type": "stream",
     "text": [
      "The model has 11,489,495 trainable parameters\n"
     ],
     "name": "stdout"
    }
   ]
  },
  {
   "cell_type": "markdown",
   "metadata": {
    "id": "tH6X3gMImIhs"
   },
   "source": [
    "## Inference"
   ]
  },
  {
   "cell_type": "code",
   "metadata": {
    "id": "-TzuCX4wmIhs"
   },
   "source": [
    "def translate(sentences, model, beam_size, src_field, dest_field, max_len, device):\n",
    "    if isinstance(sentences, list):\n",
    "        sentences = [*map(src_field.preprocess, sentences)]\n",
    "        targets = None\n",
    "    if isinstance(sentences, Dataset):\n",
    "        targets = [*map(lambda example: ' '.join(example.trg), sentences.examples)]\n",
    "        sentences = [*map(lambda example: example.src, sentences.examples)]\n",
    "    data = [*map(lambda word_list: src_field.process([word_list]), sentences)]\n",
    "    translated_sentences, attention_weights, pred_logps = [], [], []\n",
    "    model.eval()\n",
    "    with torch.no_grad():\n",
    "        for i, src_sequence in tqdm.tqdm(enumerate(data), total=len(data), position=0, leave=True):\n",
    "            src_sequence = src_sequence.to(device)\n",
    "            src_mask = model.make_src_mask(src_sequence)\n",
    "            src_encoded = model.encoder(src_sequences=src_sequence, src_mask=src_mask)\n",
    "            tree = [[Node(token=torch.LongTensor([dest_field.vocab.stoi[dest_field.init_token]]).to(device), states=())]]\n",
    "            for _ in range(max_len):\n",
    "                next_nodes = []\n",
    "                for node in tree[-1]:\n",
    "                    if node.eos: # Skip eos token\n",
    "                        continue\n",
    "                    # Get tokens that're already translated\n",
    "                    already_translated = torch.LongTensor([*map(lambda node: node.token, find_path(tree))][::-1]).unsqueeze(0).to(device)\n",
    "                    dest_mask = model.make_dest_mask(already_translated)\n",
    "                    logit, attn_weights = model.decoder(dest_sequences=already_translated, src_encoded=src_encoded,\n",
    "                                              dest_mask=dest_mask, src_mask=src_mask) # [1, dest_seq_len, vocab_size]                      \n",
    "                    logp = F.log_softmax(logit[:, -1, :], dim=1).squeeze(dim=0) # [vocab_size] Get scores                    \n",
    "                    topk_logps, topk_tokens = torch.topk(logp, beam_size) # Get top k tokens & logps                    \n",
    "                    for k in range(beam_size):\n",
    "                        next_nodes.append(Node(token=topk_tokens[k, None], states=(attn_weights,),\n",
    "                                               logp=topk_logps[k, None].cpu().item(), parent=node,\n",
    "                                               eos=topk_tokens[k].cpu().item() == dest_field.vocab[dest_field.eos_token]))\n",
    "                if len(next_nodes) == 0:\n",
    "                    break\n",
    "                next_nodes = sorted(next_nodes, key=lambda node: node.logps, reverse=True)\n",
    "                tree.append(next_nodes[:beam_size])\n",
    "            best_path = find_best_path(tree)[::-1]\n",
    "            # Get the translation\n",
    "            pred_translated = [*map(lambda node: dest_field.vocab.itos[node.token], best_path)]\n",
    "            pred_translated = [*filter(lambda word: word not in [\n",
    "                dest_field.init_token, dest_field.eos_token\n",
    "            ], pred_translated)]\n",
    "            translated_sentences.append(' '.join(pred_translated))\n",
    "            # Get probabilities\n",
    "            pred_logps.append(sum([*map(lambda node: node.logps, best_path)]))\n",
    "            # Get attention weights\n",
    "            attention_weights.append(best_path[-1].states[0].cpu().numpy())\n",
    "        sentences = [*map(lambda sentence: ' '.join(sentence), sentences)]\n",
    "    return sentences, translated_sentences, targets, attention_weights, pred_logps"
   ],
   "execution_count": 47,
   "outputs": []
  },
  {
   "cell_type": "code",
   "metadata": {
    "id": "4FPeU0s4mIhs",
    "colab": {
     "base_uri": "https://localhost:8080/"
    },
    "outputId": "ed050fa9-9f04-42b1-8fd1-c26da20f4258"
   },
   "source": [
    "sentences, translated_sentences, dest_sentences, attention_weights, pred_logps = translate(sentences=test_data, model=transformer, beam_size=1, src_field=EN_TEXT,\n",
    "                                                                                           dest_field=RU_TEXT, max_len=MAX_LEN, device=DEVICE)"
   ],
   "execution_count": 48,
   "outputs": [
    {
     "output_type": "stream",
     "text": [
      "100%|██████████| 7500/7500 [07:32<00:00, 16.58it/s]\n"
     ],
     "name": "stderr"
    }
   ]
  },
  {
   "cell_type": "code",
   "metadata": {
    "id": "_keF2reemIhs",
    "colab": {
     "base_uri": "https://localhost:8080/"
    },
    "outputId": "f204e285-f170-4239-8289-03420c9b41e9"
   },
   "source": [
    "indexes = np.random.choice(1000, size=10, replace=False)\n",
    "\n",
    "for i in indexes:\n",
    "    text = f'Source: {sentences[i]}\\n'\n",
    "    text += f'Ground truth translation: {dest_sentences[i]}\\n'\n",
    "    text += f'Predicted translation: {translated_sentences[i]}\\n'\n",
    "    print(text)\n",
    "    print()"
   ],
   "execution_count": 49,
   "outputs": [
    {
     "output_type": "stream",
     "text": [
      "Source: мотель motelik lord находится у шоссе берлин - костшин и располагает номерами с бесплатным wi - fi .\n",
      "Ground truth translation: located by berlin – kostrzyn route motelik lord offers rooms with free wi - fi .\n",
      "Predicted translation: motel <unk> <unk> is located at berlin ’ s berlin <unk> , and offers accommodation with free wifi .\n",
      "\n",
      "\n",
      "Source: мини - кухня оборудована микроволновой печью , электрическим чайником и холодильником .\n",
      "Ground truth translation: kitchen area comes with a microwave , an electric kettle and a refrigerator .\n",
      "Predicted translation: the kitchenette is equipped with a microwave , an electric kettle and refrigerator .\n",
      "\n",
      "\n",
      "Source: в каждом номере этого отеля для некурящих оборудована собственная ванная комната с душем .\n",
      "Ground truth translation: a private bathroom features a shower with available towels in each non - smoking room .\n",
      "Predicted translation: each non - smoking room at this smoke - smoking hotel features a private bathroom with shower .\n",
      "\n",
      "\n",
      "Source: в числе удобств гостиная , звукоизолированные стены , телевизоры с плоским экраном , мини - бар и сейф .\n",
      "Ground truth translation: it is fitted with a living room , sound - proof walls , flat - screen tvs , minibar and a safety deposit box .\n",
      "Predicted translation: the living room is soundproofed and features a flat - screen tv , a minibar and a safe .\n",
      "\n",
      "\n",
      "Source: полотенца входят в стоимость проживания .\n",
      "Ground truth translation: towels are offered .\n",
      "Predicted translation: towels are featured .\n",
      "\n",
      "\n",
      "Source: в апартаментах есть кухни с микроволновой печью и холодильником .\n",
      "Ground truth translation: the apartments have kitchen facilities including a microwave and a fridge .\n",
      "Predicted translation: the apartment features a microwave and refrigerator .\n",
      "\n",
      "\n",
      "Source: гостям предоставляется бесплатная парковка .\n",
      "Ground truth translation: free private parking is possible on site .\n",
      "Predicted translation: the property offers free parking .\n",
      "\n",
      "\n",
      "Source: номера отличает интерьер в современном стиле с белыми стенами , новой мебелью и кроватями с кожаными изголовьями .\n",
      "Ground truth translation: the style is modern , with new furniture , white walls , and leather headboards .\n",
      "Predicted translation: the rooms are decorated in a contemporary style with stone walls , beamed ceilings and a large windows .\n",
      "\n",
      "\n",
      "Source: также в распоряжении гостей тренажерный зал и массажный кабинет , где можно снять усталость и напряжение после насыщенного дня .\n",
      "Ground truth translation: visitors can book soothing massages or relax in the gym after a long day .\n",
      "Predicted translation: guests can also benefit from a gym and massage services , which can also be arranged after a day day .\n",
      "\n",
      "\n",
      "Source: в отеле silver inn предлагаются прокат автомобилей и прачечная .\n",
      "Ground truth translation: at hotel silver inn you will find facilities like car rental and laundry .\n",
      "Predicted translation: car inn provides car rental services and laundry services .\n",
      "\n",
      "\n"
     ],
     "name": "stdout"
    }
   ]
  },
  {
   "cell_type": "markdown",
   "metadata": {
    "id": "AQU5IpsG87Ly"
   },
   "source": [
    "### Results Table\n",
    "\n",
    "|                                                     Model                  | Complexity <br>(# of training parameters) | Training time<br>per an epoch* | Quality<br>(in BLEU)                                                                                                                                                                                          |\n",
    "|:------------------------------------------------------------------------------------------------------------------------------------------------------:|:-----------------------------------------:|:------------------------------:|:--------------------:|\n",
    "|                                               Transformer,<br> <br>epoch=50, hidden_size=512, n_layers=2, n_heads=8                                             |                 11,489,495                |          30 sec           |         32.59   \n",
    "\n",
    "* The time is a dependent parameter because I used Google Colab Pro but the time could be different on another machine."
   ]
  },
  {
   "cell_type": "code",
   "metadata": {
    "id": "7wLHAM4cmIht"
   },
   "source": [
    ""
   ],
   "execution_count": null,
   "outputs": []
  }
 ]
}