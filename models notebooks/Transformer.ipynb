{
  "nbformat": 4,
  "nbformat_minor": 0,
  "metadata": {
    "kernelspec": {
      "display_name": "Python 3",
      "language": "python",
      "name": "python3"
    },
    "language_info": {
      "codemirror_mode": {
        "name": "ipython",
        "version": 3
      },
      "file_extension": ".py",
      "mimetype": "text/x-python",
      "name": "python",
      "nbconvert_exporter": "python",
      "pygments_lexer": "ipython3",
      "version": "3.6.9"
    },
    "colab": {
      "name": "Transformer.ipynb",
      "provenance": [],
      "collapsed_sections": []
    },
    "accelerator": "GPU"
  },
  "cells": [
    {
      "cell_type": "code",
      "metadata": {
        "colab": {
          "base_uri": "https://localhost:8080/"
        },
        "id": "NPXZOYPTnsK3",
        "outputId": "3c04063c-954c-4f94-c569-7eb223d5481f"
      },
      "source": [
        "import os\n",
        "path_to_data = '../../datasets/Machine_translation_EN_RU/data.txt'\n",
        "if not os.path.exists(path_to_data):\n",
        "    print(\"Dataset not found locally. Downloading from github.\")\n",
        "    !wget https://raw.githubusercontent.com/neychev/made_nlp_course/master/datasets/Machine_translation_EN_RU/data.txt -nc"
      ],
      "execution_count": 2,
      "outputs": [
        {
          "output_type": "stream",
          "text": [
            "Dataset not found locally. Downloading from github.\n",
            "--2021-03-07 12:37:51--  https://raw.githubusercontent.com/neychev/made_nlp_course/master/datasets/Machine_translation_EN_RU/data.txt\n",
            "Resolving raw.githubusercontent.com (raw.githubusercontent.com)... 185.199.108.133, 185.199.109.133, 185.199.110.133, ...\n",
            "Connecting to raw.githubusercontent.com (raw.githubusercontent.com)|185.199.108.133|:443... connected.\n",
            "HTTP request sent, awaiting response... 200 OK\n",
            "Length: 12905334 (12M) [text/plain]\n",
            "Saving to: ‘data.txt’\n",
            "\n",
            "data.txt            100%[===================>]  12.31M  --.-KB/s    in 0.07s   \n",
            "\n",
            "2021-03-07 12:37:51 (165 MB/s) - ‘data.txt’ saved [12905334/12905334]\n",
            "\n"
          ],
          "name": "stdout"
        }
      ]
    },
    {
      "cell_type": "code",
      "metadata": {
        "id": "ubJhFf5Uqrfg"
      },
      "source": [
        "# !pip install -r requirements.txt"
      ],
      "execution_count": null,
      "outputs": []
    },
    {
      "cell_type": "code",
      "metadata": {
        "id": "NnEQ8PIAmIha"
      },
      "source": [
        "import tqdm\n",
        "import spacy\n",
        "import warnings\n",
        "import random\n",
        "import numpy as np\n",
        "import pandas as pd\n",
        "import matplotlib.pyplot as plt\n",
        "%matplotlib inline\n",
        "\n",
        "from IPython.core.display import display, HTML\n",
        "\n",
        "import torch\n",
        "import torch.nn as nn\n",
        "import torch.nn.functional as F\n",
        "import torch.optim as optim\n",
        "\n",
        "from torchtext.data import Dataset, Example, Field, TabularDataset\n",
        "from torchtext.data.iterator import BucketIterator\n",
        "from torchtext.data.metrics import bleu_score\n",
        "from torchtext.datasets import TranslationDataset\n",
        "\n",
        "from nltk.tokenize import WordPunctTokenizer"
      ],
      "execution_count": 3,
      "outputs": []
    },
    {
      "cell_type": "code",
      "metadata": {
        "colab": {
          "base_uri": "https://localhost:8080/"
        },
        "id": "Mp66_jw-mIhb",
        "outputId": "a1f03b3f-432f-44f7-eaca-100e0c2022f6"
      },
      "source": [
        "warnings.simplefilter(action='ignore', category=UserWarning)\n",
        "warnings.simplefilter(action='ignore', category=FutureWarning)\n",
        "warnings.simplefilter(action='ignore', category=RuntimeWarning)\n",
        "warnings.simplefilter(action='ignore', category=DeprecationWarning)\n",
        "\n",
        "SEED = 2021\n",
        "np.random.seed(SEED)\n",
        "torch.manual_seed(SEED)\n",
        "torch.cuda.manual_seed(SEED)\n",
        "torch.backends.cudnn.deterministic = True\n",
        "\n",
        "DEVICE = torch.device('cuda' if torch.cuda.is_available() else 'cpu')\n",
        "print(f'Device: {DEVICE}')"
      ],
      "execution_count": 4,
      "outputs": [
        {
          "output_type": "stream",
          "text": [
            "Device: cuda\n"
          ],
          "name": "stdout"
        }
      ]
    },
    {
      "cell_type": "code",
      "metadata": {
        "id": "-s55gGqFoWbh"
      },
      "source": [
        "tokenizer_W = WordPunctTokenizer()\n",
        "def tokenize(x, tokenizer=tokenizer_W):\n",
        "    return tokenizer.tokenize(x.lower())"
      ],
      "execution_count": 5,
      "outputs": []
    },
    {
      "cell_type": "code",
      "metadata": {
        "id": "RfbaqnV-mIhd"
      },
      "source": [
        "EN_TEXT = Field(tokenize=tokenize, init_token='<sos>', eos_token='<eos>', lower=True, batch_first=True)\n",
        "RU_TEXT = Field(tokenize=tokenize, init_token='<sos>', eos_token='<eos>', lower=True, batch_first=True)"
      ],
      "execution_count": 6,
      "outputs": []
    },
    {
      "cell_type": "code",
      "metadata": {
        "id": "t5WxQZIYn4KL"
      },
      "source": [
        "path_to_data = './data.txt'\n",
        "dataset = TabularDataset(\n",
        "    path=path_to_data,\n",
        "    format='tsv',\n",
        "    fields=[('src', EN_TEXT), ('trg', RU_TEXT)]\n",
        ")\n",
        "train_data, valid_data, test_data = dataset.split(split_ratio=[0.8, 0.15, 0.05], random_state=random.seed(SEED))"
      ],
      "execution_count": 7,
      "outputs": []
    },
    {
      "cell_type": "code",
      "metadata": {
        "colab": {
          "base_uri": "https://localhost:8080/"
        },
        "id": "u39bkRa2mIhe",
        "outputId": "6a672bfb-ed5e-490c-c7c0-19f7c0d8e98d"
      },
      "source": [
        "print(f'train set size: {len(train_data.examples):,}')\n",
        "print(f'valid set size: {len(valid_data.examples):,}')\n",
        "print(f'test set size: {len(test_data.examples):,}')\n",
        "print(vars(train_data.examples[0]))"
      ],
      "execution_count": 8,
      "outputs": [
        {
          "output_type": "stream",
          "text": [
            "train set size: 40,000\n",
            "valid set size: 2,500\n",
            "test set size: 7,500\n",
            "{'src': ['other', 'facilities', 'offered', 'at', 'the', 'property', 'include', 'a', 'games', 'room', ',', 'a', 'beach', 'volley', 'court', 'and', 'a', 'children', \"'\", 's', 'playground', '.'], 'trg': ['в', 'числе', 'других', 'удобств', 'здесь', 'комната', 'для', 'игр', ',', 'площадка', 'для', 'пляжного', 'волейбола', 'и', 'детская', 'игровая', 'площадка', '.']}\n"
          ],
          "name": "stdout"
        }
      ]
    },
    {
      "cell_type": "code",
      "metadata": {
        "colab": {
          "base_uri": "https://localhost:8080/"
        },
        "id": "79ned97r0M7M",
        "outputId": "5dee1351-8cc9-4814-df35-6eca51ca56a1"
      },
      "source": [
        "!nvidia-smi"
      ],
      "execution_count": 9,
      "outputs": [
        {
          "output_type": "stream",
          "text": [
            "Sun Mar  7 12:38:13 2021       \n",
            "+-----------------------------------------------------------------------------+\n",
            "| NVIDIA-SMI 460.39       Driver Version: 460.32.03    CUDA Version: 11.2     |\n",
            "|-------------------------------+----------------------+----------------------+\n",
            "| GPU  Name        Persistence-M| Bus-Id        Disp.A | Volatile Uncorr. ECC |\n",
            "| Fan  Temp  Perf  Pwr:Usage/Cap|         Memory-Usage | GPU-Util  Compute M. |\n",
            "|                               |                      |               MIG M. |\n",
            "|===============================+======================+======================|\n",
            "|   0  Tesla T4            Off  | 00000000:00:04.0 Off |                    0 |\n",
            "| N/A   43C    P8     9W /  70W |      3MiB / 15109MiB |      0%      Default |\n",
            "|                               |                      |                  N/A |\n",
            "+-------------------------------+----------------------+----------------------+\n",
            "                                                                               \n",
            "+-----------------------------------------------------------------------------+\n",
            "| Processes:                                                                  |\n",
            "|  GPU   GI   CI        PID   Type   Process name                  GPU Memory |\n",
            "|        ID   ID                                                   Usage      |\n",
            "|=============================================================================|\n",
            "|  No running processes found                                                 |\n",
            "+-----------------------------------------------------------------------------+\n"
          ],
          "name": "stdout"
        }
      ]
    },
    {
      "cell_type": "markdown",
      "metadata": {
        "id": "ELytCnwVmIhf"
      },
      "source": [
        "### Build vocabularies"
      ]
    },
    {
      "cell_type": "code",
      "metadata": {
        "colab": {
          "base_uri": "https://localhost:8080/"
        },
        "id": "4GC-fOXSmIhf",
        "outputId": "daba6efd-d033-4e4d-d3d3-9f2b429bef76"
      },
      "source": [
        "%%time\n",
        "MIN_COUNT = 2\n",
        "EN_TEXT.build_vocab(train_data, min_freq=MIN_COUNT)\n",
        "RU_TEXT.build_vocab(train_data, min_freq=MIN_COUNT)\n",
        "print(f'Length of EN vocabulary: {len(EN_TEXT.vocab):,}')\n",
        "print(f'Length of RU vocabulary: {len(RU_TEXT.vocab):,}')"
      ],
      "execution_count": 10,
      "outputs": [
        {
          "output_type": "stream",
          "text": [
            "Length of EN vocabulary: 10,199\n",
            "Length of RU vocabulary: 14,147\n",
            "CPU times: user 511 ms, sys: 29.4 ms, total: 540 ms\n",
            "Wall time: 541 ms\n"
          ],
          "name": "stdout"
        }
      ]
    },
    {
      "cell_type": "markdown",
      "metadata": {
        "id": "7kOFPHsLmIhg"
      },
      "source": [
        "## Modeling"
      ]
    },
    {
      "cell_type": "markdown",
      "metadata": {
        "id": "r-JKljRgmIhg"
      },
      "source": [
        "### Multi Head Attention Layer"
      ]
    },
    {
      "cell_type": "code",
      "metadata": {
        "id": "zbLJQzOSmIhg"
      },
      "source": [
        "class MultiHeadAttentionLayer(nn.Module):\n",
        "\n",
        "    def __init__(self, d_model, n_heads):\n",
        "        super(MultiHeadAttentionLayer, self).__init__()\n",
        "        assert d_model % n_heads == 0\n",
        "        self.d_model = d_model\n",
        "        self.n_heads = n_heads\n",
        "        self.head_size = d_model // n_heads\n",
        "        self.fc_q = nn.Linear(d_model, d_model)\n",
        "        self.fc_k = nn.Linear(d_model, d_model)\n",
        "        self.fc_v = nn.Linear(d_model, d_model)\n",
        "        self.fc_o = nn.Linear(d_model, d_model)\n",
        "        \n",
        "    def forward(self, query, key, value, mask):\n",
        "        \"\"\"\n",
        "        :param Tensor[batch_size, q_len, d_model] query\n",
        "        :param Tensor[batch_size, k_len, d_model] key\n",
        "        :param Tensor[batch_size, v_len, d_model] value\n",
        "        :param Tensor[batch_size, ..., k_len] mask\n",
        "        :return Tensor[batch_size, q_len, d_model] context\n",
        "        :return Tensor[batch_size, n_heads, q_len, k_len] attention_weights\n",
        "        \"\"\"\n",
        "        Q = self.fc_q(query) # [batch_size, q_len, d_model]\n",
        "        K = self.fc_k(key) # [batch_size, k_len, d_model]\n",
        "        V = self.fc_v(value) # [batch_size, v_len, d_model]\n",
        "\n",
        "        Q = Q.view(Q.size(0), -1, self.n_heads, self.head_size).permute(0, 2, 1, 3) # [batch_size, n_heads, q_len, head_size]\n",
        "        K = K.view(K.size(0), -1, self.n_heads, self.head_size).permute(0, 2, 1, 3) # [batch_size, n_heads, k_len, head_size]\n",
        "        V = V.view(V.size(0), -1, self.n_heads, self.head_size).permute(0, 2, 1, 3) # [batch_size, n_heads, v_len, head_size]\n",
        "\n",
        "        scores = torch.matmul(Q, K.transpose(-1, -2)) # [batch_size, n_heads, q_len, k_len]\n",
        "        scores = scores / torch.sqrt(torch.FloatTensor([self.head_size]).to(Q.device))\n",
        "        if mask is not None:\n",
        "            scores = scores.masked_fill(mask == 0, -1e18)\n",
        "        attention_weights = F.softmax(scores , dim=-1) # [batch_size, n_heads, q_len, k_len]                \n",
        "        \n",
        "        context = torch.matmul(attention_weights, V) # [batch_size, n_heads, q_len, v_len]\n",
        "        context = context.permute(0, 2, 1, 3).contiguous() # [batch_size, q_len, n_heads, v_len]\n",
        "        context = context.view(context.size(0), -1, self.d_model)\n",
        "        context = self.fc_o(context) # [batch_size, q_len, d_model]\n",
        "\n",
        "        return context, attention_weights"
      ],
      "execution_count": 11,
      "outputs": []
    },
    {
      "cell_type": "markdown",
      "metadata": {
        "id": "G3PvGh5OmIhh"
      },
      "source": [
        "### Position-Wise Feed-Forward Layer"
      ]
    },
    {
      "cell_type": "code",
      "metadata": {
        "id": "mn4tkXL-mIhi"
      },
      "source": [
        "class PositionWiseFeedForwardLayer(nn.Module):\n",
        "    \n",
        "    def __init__(self, d_model, hidden_size):\n",
        "        super(PositionWiseFeedForwardLayer, self).__init__()\n",
        "        self.d_model = d_model\n",
        "        self.hidden_size = hidden_size\n",
        "        self.fc_in = nn.Linear(d_model, hidden_size)\n",
        "        self.fc_ou = nn.Linear(hidden_size, d_model)\n",
        "        \n",
        "    def forward(self, inputs):\n",
        "        \"\"\"\n",
        "        :param Tensor[batch_size, seq_len, d_model] inputs\n",
        "        :return Tensor[batch_size, seq_len, d_model] outputs\n",
        "        \"\"\"\n",
        "        outputs = F.relu(self.fc_in(inputs)) # [batch_size, seq_len, hidden_size]\n",
        "        return self.fc_ou(outputs) # [batch_size, seq_len, d_model]"
      ],
      "execution_count": 12,
      "outputs": []
    },
    {
      "cell_type": "markdown",
      "metadata": {
        "id": "0vzOPa-DmIhi"
      },
      "source": [
        "### Positional Encoding Layer"
      ]
    },
    {
      "cell_type": "code",
      "metadata": {
        "id": "Efrbyw8hmIhi"
      },
      "source": [
        "class PositionalEncodingLayer(nn.Module):\n",
        "    \n",
        "    def __init__(self, d_model, max_len=100):\n",
        "        super(PositionalEncodingLayer, self).__init__()\n",
        "        self.d_model = d_model\n",
        "        self.max_len = max_len\n",
        "    \n",
        "    def get_angles(self, positions, indexes):\n",
        "        d_model_tensor = torch.FloatTensor([[self.d_model]]).to(positions.device)\n",
        "        angle_rates = torch.pow(10000, (2 * (indexes // 2)) / d_model_tensor)\n",
        "        return positions / angle_rates\n",
        "\n",
        "    def forward(self, input_sequences):\n",
        "        \"\"\"\n",
        "        :param Tensor[batch_size, seq_len] input_sequences\n",
        "        :return Tensor[batch_size, seq_len, d_model] position_encoding\n",
        "        \"\"\"\n",
        "        positions = torch.arange(input_sequences.size(1)).unsqueeze(1).to(input_sequences.device) # [seq_len, 1]\n",
        "        indexes = torch.arange(self.d_model).unsqueeze(0).to(input_sequences.device) # [1, d_model]\n",
        "        angles = self.get_angles(positions, indexes) # [seq_len, d_model]\n",
        "        angles[:, 0::2] = torch.sin(angles[:, 0::2]) # apply sin to even indices in the tensor; 2i\n",
        "        angles[:, 1::2] = torch.cos(angles[:, 1::2]) # apply cos to odd indices in the tensor; 2i\n",
        "        position_encoding = angles.unsqueeze(0).repeat(input_sequences.size(0), 1, 1) # [batch_size, seq_len, d_model]\n",
        "        return position_encoding"
      ],
      "execution_count": 13,
      "outputs": []
    },
    {
      "cell_type": "markdown",
      "metadata": {
        "id": "OJlGFrLpmIhj"
      },
      "source": [
        "### Encoder Block Layer"
      ]
    },
    {
      "cell_type": "code",
      "metadata": {
        "id": "WWGGlGPNmIhj"
      },
      "source": [
        "class EncoderBlockLayer(nn.Module):\n",
        "    \n",
        "    def __init__(self, d_model, n_heads, hidden_size, dropout):\n",
        "        super(EncoderBlockLayer, self).__init__()\n",
        "        self.d_model = d_model\n",
        "        self.n_heads = n_heads\n",
        "        self.hidden_size = hidden_size\n",
        "        self.dropout = nn.Dropout(p=dropout)\n",
        "        self.multi_head_attention_layer = MultiHeadAttentionLayer(d_model=d_model, n_heads=n_heads)\n",
        "        self.multi_head_attention_layer_norm = nn.LayerNorm(d_model)\n",
        "        self.position_wise_feed_forward_layer = PositionWiseFeedForwardLayer(d_model=d_model, hidden_size=hidden_size)\n",
        "        self.position_wise_feed_forward_layer_norm = nn.LayerNorm(d_model)\n",
        "    \n",
        "    def forward(self, src_inputs, src_mask):\n",
        "        \"\"\"\n",
        "        :param Tensor[batch_size, src_len, d_model] src_inputs\n",
        "        :param Tensor[batch_size,  src_len] src_mask\n",
        "        :return Tensor[batch_size, src_len, d_model] outputs\n",
        "        \"\"\"\n",
        "        context, _ = self.multi_head_attention_layer(query=src_inputs, key=src_inputs, value=src_inputs, mask=src_mask)\n",
        "        context = self.multi_head_attention_layer_norm(self.dropout(context) + src_inputs)\n",
        "        \n",
        "        outputs = self.position_wise_feed_forward_layer(context)\n",
        "        outputs = self.position_wise_feed_forward_layer_norm(self.dropout(outputs) + context)\n",
        "        \n",
        "        return outputs"
      ],
      "execution_count": 14,
      "outputs": []
    },
    {
      "cell_type": "markdown",
      "metadata": {
        "id": "jdtTnRsTmIhk"
      },
      "source": [
        "### Decoder Block Layer"
      ]
    },
    {
      "cell_type": "code",
      "metadata": {
        "id": "bYPAhQkNmIhl"
      },
      "source": [
        "class DecoderBlockLayer(nn.Module):\n",
        "    \n",
        "    def __init__(self, d_model, n_heads, hidden_size, dropout):\n",
        "        super(DecoderBlockLayer, self).__init__()\n",
        "        self.d_model = d_model\n",
        "        self.n_heads = n_heads\n",
        "        self.hidden_size = hidden_size\n",
        "        self.dropout = nn.Dropout(p=dropout)\n",
        "        self.mask_multi_head_attention_layer = MultiHeadAttentionLayer(d_model=d_model, n_heads=n_heads)\n",
        "        self.mask_multi_head_attention_layer_norm = nn.LayerNorm(d_model)\n",
        "        self.multi_head_attention_layer = MultiHeadAttentionLayer(d_model=d_model, n_heads=n_heads)\n",
        "        self.multi_head_attention_layer_norm = nn.LayerNorm(d_model)\n",
        "        self.position_wise_feed_forward_layer = PositionWiseFeedForwardLayer(d_model=d_model, hidden_size=hidden_size)\n",
        "        self.position_wise_feed_forward_layer_norm = nn.LayerNorm(d_model)\n",
        "    \n",
        "    def forward(self, dest_inputs, src_encoded, dest_mask, src_mask):\n",
        "        \"\"\"\n",
        "        :param Tensor[batch_size, dest_len, d_model] dest_inputs\n",
        "        :param Tensor[batch_size, src_len, d_model] src_encoded\n",
        "        :param Tensor[batch_size,  dest_len] dest_mask\n",
        "        :param Tensor[batch_size,  src_len] src_mask\n",
        "        :return Tensor[batch_size, dest_len, d_model] outputs\n",
        "        :return Tensor[batch_size, n_heads, dest_len, src_len] attention_weights\n",
        "        \"\"\"\n",
        "        masked_context, _ = self.mask_multi_head_attention_layer(query=dest_inputs, key=dest_inputs, value=dest_inputs, mask=dest_mask)\n",
        "        masked_context = self.mask_multi_head_attention_layer_norm(self.dropout(masked_context) + dest_inputs)\n",
        "        \n",
        "        context, attention_weights = self.multi_head_attention_layer(query=masked_context, key=src_encoded, value=src_encoded, mask=src_mask)\n",
        "        context = self.multi_head_attention_layer_norm(self.dropout(context) + masked_context)\n",
        "        \n",
        "        outputs = self.position_wise_feed_forward_layer(context)\n",
        "        outputs = self.position_wise_feed_forward_layer_norm(self.dropout(outputs) + context)\n",
        "        \n",
        "        return outputs, attention_weights"
      ],
      "execution_count": 15,
      "outputs": []
    },
    {
      "cell_type": "markdown",
      "metadata": {
        "id": "l_DJtsaCmIhm"
      },
      "source": [
        "### Encoder Layer"
      ]
    },
    {
      "cell_type": "code",
      "metadata": {
        "id": "4RdteY-umIhm"
      },
      "source": [
        "class EncoderLayer(nn.Module):\n",
        "    \n",
        "    def __init__(self, vocab_size, max_len, d_model, n_heads, hidden_size, dropout, n_layers):\n",
        "        super(EncoderLayer, self).__init__()\n",
        "        self.vocab_size = vocab_size\n",
        "        self.max_len = max_len\n",
        "        self.d_model = d_model\n",
        "        self.n_heads = n_heads\n",
        "        self.hidden_size = hidden_size\n",
        "        self.dropout = nn.Dropout(p=dropout)\n",
        "        self.n_layers = n_layers\n",
        "        self.token_embedding = nn.Embedding(vocab_size, d_model)\n",
        "        self.position_encoding = PositionalEncodingLayer(d_model=d_model, max_len=max_len)\n",
        "        self.encoder_block_layers = nn.ModuleList([EncoderBlockLayer(d_model=d_model, n_heads=n_heads, hidden_size=hidden_size,\n",
        "                                                                     dropout=dropout) for _ in range(n_layers)])\n",
        "    \n",
        "    def forward(self, src_sequences, src_mask):\n",
        "        \"\"\"\n",
        "        :param Tensor[batch_size, src_len] src_sequences\n",
        "        :param Tensor[batch_size, src_len] src_mask\n",
        "        :return Tensor[batch_size, src_len, d_model] outputs\n",
        "        \"\"\"\n",
        "        token_embedded = self.token_embedding(src_sequences) # [batch_size, src_len, d_model]\n",
        "        position_encoded = self.position_encoding(src_sequences) # [batch_size, src_len, d_model]\n",
        "        outputs = self.dropout(token_embedded) + position_encoded # [batch_size, src_len, d_model]\n",
        "        for layer in self.encoder_block_layers:\n",
        "            outputs = layer(src_inputs=outputs, src_mask=src_mask) # [batch_size, src_len, d_model]\n",
        "        return outputs"
      ],
      "execution_count": 16,
      "outputs": []
    },
    {
      "cell_type": "markdown",
      "metadata": {
        "id": "zi-q_IdhmIhn"
      },
      "source": [
        "### Decoder Layer"
      ]
    },
    {
      "cell_type": "code",
      "metadata": {
        "id": "n6w3D0ufmIhn"
      },
      "source": [
        "class DecoderLayer(nn.Module):\n",
        "    \n",
        "    def __init__(self, vocab_size, max_len, d_model, n_heads, hidden_size, dropout, n_layers):\n",
        "        super(DecoderLayer, self).__init__()\n",
        "        self.vocab_size = vocab_size\n",
        "        self.max_len = max_len\n",
        "        self.d_model = d_model\n",
        "        self.n_heads = n_heads\n",
        "        self.hidden_size = hidden_size\n",
        "        self.dropout = nn.Dropout(p=dropout)\n",
        "        self.n_layers = n_layers\n",
        "        self.token_embedding = nn.Embedding(vocab_size, d_model)\n",
        "        self.position_encoding = PositionalEncodingLayer(d_model=d_model, max_len=max_len)\n",
        "        self.decoder_block_layers = nn.ModuleList([DecoderBlockLayer(d_model=d_model, n_heads=n_heads, hidden_size=hidden_size, dropout=dropout) for _ in range(n_layers)])\n",
        "        self.fc = nn.Linear(d_model, vocab_size)\n",
        "    \n",
        "    def forward(self, dest_sequences, src_encoded, dest_mask, src_mask):\n",
        "        \"\"\"\n",
        "        :param Tensor[batch_size, dest_len] dest_sequences\n",
        "        :param Tensor[batch_size, src_len, d_model] src_encoded\n",
        "        :param Tensor[batch_size, dest_len, d_model] dest_mask\n",
        "        :param Tensor[batch_size, src_len, d_model] src_mask\n",
        "        :return Tensor[batch_size, dest_len, vocab_size] logits\n",
        "        :return Tensor[batch_size, n_heads, dest_len, src_len] attention_weights\n",
        "        \"\"\"\n",
        "        token_embedded = self.token_embedding(dest_sequences) # [batch_size, dest_len, d_model]\n",
        "        position_encoded = self.position_encoding(dest_sequences) # [batch_size, dest_len, d_model]\n",
        "        outputs = self.dropout(token_embedded) + position_encoded # [batch_size, dest_len, d_model]\n",
        "        for layer in self.decoder_block_layers:\n",
        "            outputs, attention_weights = layer(dest_inputs=outputs, src_encoded=src_encoded, dest_mask=dest_mask, src_mask=src_mask)\n",
        "        logits = self.fc(outputs)\n",
        "        return logits, attention_weights"
      ],
      "execution_count": 17,
      "outputs": []
    },
    {
      "cell_type": "markdown",
      "metadata": {
        "id": "dIFwaKFGmIho"
      },
      "source": [
        "### Transformer Model"
      ]
    },
    {
      "cell_type": "code",
      "metadata": {
        "id": "7hUIswgvmIho"
      },
      "source": [
        "class Transformer(nn.Module):\n",
        "    \n",
        "    def __init__(self, encoder, decoder, src_pad_index, dest_pad_index):\n",
        "        super(Transformer, self).__init__()\n",
        "        self.encoder = encoder\n",
        "        self.decoder = decoder\n",
        "        self.src_pad_index = src_pad_index\n",
        "        self.dest_pad_index = dest_pad_index\n",
        "\n",
        "    def make_src_mask(self, src_sequences):\n",
        "        \"\"\"Mask <pad> tokens.\n",
        "        :param Tensor[batch_size, src_len] src_sequences\n",
        "        :return Tensor[batch size, 1, 1, src len] src_mask\n",
        "        \"\"\"        \n",
        "        src_mask = (src_sequences != self.src_pad_index).unsqueeze(1).unsqueeze(2)\n",
        "        return src_mask\n",
        "    \n",
        "    def make_dest_mask(self, dest_sequences):\n",
        "        \"\"\"Mask <pad> tokens and futur tokens as well.\n",
        "        :param Tensor[batch_size, dest_len] dest_sequences\n",
        "        :return tensor[batch_size, 1, dest_len, dest_len] dest_mask\n",
        "        \"\"\"\n",
        "        mask = (dest_sequences != self.dest_pad_index).unsqueeze(1).unsqueeze(2) # [batch size, 1, 1, trg len]\n",
        "        sub_mask = torch.tril(torch.ones((dest_sequences.size(1), dest_sequences.size(1))).to(dest_sequences.device)).bool() # [trg len, trg len]        \n",
        "        return mask & sub_mask\n",
        "    \n",
        "    def forward(self, src_sequences, dest_sequences):\n",
        "        \"\"\"\n",
        "        :param Tensor[batch_size, src_len] src_sequences\n",
        "        :param Tensor[batch_size, dest_len] dest_sequences\n",
        "        :return Tensor[batch_size, dest_len, vocab_size] logits\n",
        "        :return Tensor[batch_size, n_heads, dest_len, src_len] attention_weights\n",
        "        \"\"\"\n",
        "        src_mask, dest_mask = self.make_src_mask(src_sequences), self.make_dest_mask(dest_sequences)\n",
        "        src_encoded = self.encoder(src_sequences=src_sequences, src_mask=src_mask)\n",
        "        logits, attention_weights = self.decoder(dest_sequences=dest_sequences, src_encoded=src_encoded, dest_mask=dest_mask, src_mask=src_mask)\n",
        "        return logits, attention_weights"
      ],
      "execution_count": 18,
      "outputs": []
    },
    {
      "cell_type": "markdown",
      "metadata": {
        "id": "JZhcsU8YmIho"
      },
      "source": [
        "### Training routines"
      ]
    },
    {
      "cell_type": "code",
      "metadata": {
        "id": "u675PFn0mIho"
      },
      "source": [
        "class AverageMeter:\n",
        "    \n",
        "    def __init__(self):\n",
        "        self.value = 0.\n",
        "        self.sum = 0.\n",
        "        self.count = 0\n",
        "        self.average = 0.\n",
        "        \n",
        "    def reset(self):\n",
        "        self.value = 0.\n",
        "        self.sum = 0.\n",
        "        self.count = 0\n",
        "        self.average = 0.\n",
        "        \n",
        "    def update(self, value, n=1):\n",
        "        self.value = value\n",
        "        self.sum += value * n\n",
        "        self.count += n\n",
        "        self.average = self.sum / self.count"
      ],
      "execution_count": 19,
      "outputs": []
    },
    {
      "cell_type": "code",
      "metadata": {
        "id": "eqR1OqZ3mIhp"
      },
      "source": [
        "def accuracy(outputs, target_sequences, k=5):\n",
        "    \"\"\" Calculate Top-k accuracy\n",
        "    :param Tensor[batch_size, dest_seq_len, vocab_size] outputs\n",
        "    :param Tensor[batch_size, dest_seq_len] target_sequences\n",
        "    :return float Top-k accuracy\n",
        "    \"\"\"\n",
        "    # print([*map(lambda token: EN.vocab.itos[token], outputs.argmax(dim=-1)[0].tolist())])\n",
        "    # print([*map(lambda token: EN.vocab.itos[token], target_sequences[0].tolist())])\n",
        "    # print(\"=\"*100)\n",
        "    batch_size = target_sequences.size(0)\n",
        "    _, indices = outputs.topk(k, dim=2, largest=True, sorted=True) # [batch_size, dest_seq_len, 5]\n",
        "    correct = indices.eq(target_sequences.unsqueeze(-1).expand_as(indices))\n",
        "    correct_total = correct.view(-1).float().sum()  # 0D tensor\n",
        "    return correct_total.item() * (100.0 / indices.numel())"
      ],
      "execution_count": 20,
      "outputs": []
    },
    {
      "cell_type": "code",
      "metadata": {
        "id": "esOC3Ki8mIhp"
      },
      "source": [
        "class Trainer:\n",
        "    \n",
        "    def __init__(self, model, optimizer, criterion):\n",
        "        self.model = model\n",
        "        self.optimizer = optimizer\n",
        "        self.criterion = criterion\n",
        "    \n",
        "    def train_step(self, loader, epoch, grad_clip):\n",
        "        loss_tracker, acc_tracker = AverageMeter(), AverageMeter()\n",
        "        self.model.train()\n",
        "        progress_bar = tqdm.tqdm(enumerate(loader), total=len(loader))\n",
        "        for i, batch in progress_bar:\n",
        "            src, trg = batch.src, batch.trg\n",
        "            self.optimizer.zero_grad()\n",
        "            logits, _ = self.model(src, trg[:, :-1]) # [batch_size, dest_len, vocab_size]\n",
        "            loss = self.criterion(logits.contiguous().view(-1, self.model.decoder.vocab_size), trg[:, 1:].contiguous().view(-1))\n",
        "            loss.backward()\n",
        "            nn.utils.clip_grad_norm_(self.model.parameters(), grad_clip)\n",
        "            self.optimizer.step()\n",
        "            loss_tracker.update(loss.item())\n",
        "            acc_tracker.update(accuracy(logits, trg[:, 1:]))\n",
        "            loss_, ppl_, acc_ = loss_tracker.average, np.exp(loss_tracker.average), acc_tracker.average\n",
        "            progress_bar.set_description(f'Epoch: {epoch+1:02d} -     loss: {loss_:.3f} -     ppl: {ppl_:.3f} -     acc: {acc_:.3f}%')\n",
        "        return loss_tracker.average, np.exp(loss_tracker.average), acc_tracker.average\n",
        "    \n",
        "    def validate(self, loader, epoch):\n",
        "        loss_tracker, acc_tracker = AverageMeter(), AverageMeter()\n",
        "        self.model.eval()\n",
        "        with torch.no_grad():\n",
        "            progress_bar = tqdm.tqdm(enumerate(loader), total=len(loader))\n",
        "            for i, batch in progress_bar:\n",
        "                src, trg = batch.src, batch.trg\n",
        "                logits, _ = self.model(src, trg[:, :-1]) # [batch_size, dest_len, vocab_size]\n",
        "                loss = self.criterion(logits.contiguous().view(-1, self.model.decoder.vocab_size), trg[:, 1:].contiguous().view(-1))\n",
        "                loss_tracker.update(loss.item())\n",
        "                acc_tracker.update(accuracy(logits, trg[:, 1:]))\n",
        "                loss_, ppl_, acc_ = loss_tracker.average, np.exp(loss_tracker.average), acc_tracker.average\n",
        "                progress_bar.set_description(f'Epoch: {epoch+1:02d} - val_loss: {loss_:.3f} - val_ppl: {ppl_:.3f} - val_acc: {acc_:.3f}%')\n",
        "        return loss_tracker.average, np.exp(loss_tracker.average), acc_tracker.average\n",
        "    \n",
        "    def train(self, train_loader, valid_loader, n_epochs, grad_clip):\n",
        "        history, best_loss = {'acc': [], 'loss': [], 'ppl': [], 'val_ppl': [], 'val_acc': [], 'val_loss': []}, np.inf\n",
        "        for epoch in range(n_epochs):\n",
        "            loss, ppl, acc = self.train_step(train_loader, epoch, grad_clip)\n",
        "            val_loss, val_ppl, val_acc = self.validate(valid_loader, epoch)\n",
        "            if best_loss > val_loss:\n",
        "                best_loss = val_loss\n",
        "                torch.save(self.model.state_dict(), './models/transformer.pth')\n",
        "            history['acc'].append(acc); history['val_acc'].append(val_acc)\n",
        "            history['ppl'].append(ppl); history['val_ppl'].append(val_ppl)\n",
        "            history['loss'].append(loss); history['val_loss'].append(val_loss)\n",
        "        return history"
      ],
      "execution_count": 21,
      "outputs": []
    },
    {
      "cell_type": "markdown",
      "metadata": {
        "id": "4zLK2C_OmIhp"
      },
      "source": [
        "### Train the model"
      ]
    },
    {
      "cell_type": "code",
      "metadata": {
        "id": "tuNSZZ-YmIhp"
      },
      "source": [
        "D_MODEL = 256\n",
        "N_LAYERS = 2\n",
        "N_HEADS = 8\n",
        "HIDDEN_SIZE = 512\n",
        "MAX_LEN = 50\n",
        "DROPOUT = 0.25\n",
        "BATCH_SIZE = 64\n",
        "LR = 1e-3\n",
        "N_EPOCHS = 50\n",
        "GRAD_CLIP = 1.0"
      ],
      "execution_count": 22,
      "outputs": []
    },
    {
      "cell_type": "code",
      "metadata": {
        "scrolled": true,
        "colab": {
          "base_uri": "https://localhost:8080/"
        },
        "id": "XimRFwZtmIhp",
        "outputId": "b5d5f63b-8d59-4d97-d843-b82787f8b6ff"
      },
      "source": [
        "transformer = Transformer(\n",
        "    encoder=EncoderLayer(\n",
        "        vocab_size=len(EN_TEXT.vocab),\n",
        "        max_len=MAX_LEN,\n",
        "        d_model=D_MODEL,\n",
        "        n_heads=N_HEADS,\n",
        "        hidden_size=HIDDEN_SIZE,\n",
        "        dropout=DROPOUT,\n",
        "        n_layers=N_LAYERS\n",
        "    ),\n",
        "    decoder=DecoderLayer(\n",
        "        vocab_size=len(RU_TEXT.vocab),\n",
        "        max_len=MAX_LEN,\n",
        "        d_model=D_MODEL,\n",
        "        n_heads=N_HEADS,\n",
        "        hidden_size=HIDDEN_SIZE,\n",
        "        dropout=DROPOUT,\n",
        "        n_layers=N_LAYERS\n",
        "    ),\n",
        "    src_pad_index=EN_TEXT.vocab.stoi[EN_TEXT.pad_token],\n",
        "    dest_pad_index=RU_TEXT.vocab.stoi[RU_TEXT.pad_token]\n",
        ").to(DEVICE)\n",
        "optimizer = optim.Adam(params=transformer.parameters(), lr=LR)\n",
        "criterion = nn.CrossEntropyLoss(ignore_index=RU_TEXT.vocab.stoi[RU_TEXT.pad_token])\n",
        "print(f'Number of parameters of the model: {sum(p.numel() for p in transformer.parameters() if p.requires_grad):,}')\n",
        "print(transformer)\n",
        "trainer = Trainer(model=transformer, optimizer=optimizer, criterion=criterion)"
      ],
      "execution_count": 23,
      "outputs": [
        {
          "output_type": "stream",
          "text": [
            "Number of parameters of the model: 12,504,131\n",
            "Transformer(\n",
            "  (encoder): EncoderLayer(\n",
            "    (dropout): Dropout(p=0.25, inplace=False)\n",
            "    (token_embedding): Embedding(10199, 256)\n",
            "    (position_encoding): PositionalEncodingLayer()\n",
            "    (encoder_block_layers): ModuleList(\n",
            "      (0): EncoderBlockLayer(\n",
            "        (dropout): Dropout(p=0.25, inplace=False)\n",
            "        (multi_head_attention_layer): MultiHeadAttentionLayer(\n",
            "          (fc_q): Linear(in_features=256, out_features=256, bias=True)\n",
            "          (fc_k): Linear(in_features=256, out_features=256, bias=True)\n",
            "          (fc_v): Linear(in_features=256, out_features=256, bias=True)\n",
            "          (fc_o): Linear(in_features=256, out_features=256, bias=True)\n",
            "        )\n",
            "        (multi_head_attention_layer_norm): LayerNorm((256,), eps=1e-05, elementwise_affine=True)\n",
            "        (position_wise_feed_forward_layer): PositionWiseFeedForwardLayer(\n",
            "          (fc_in): Linear(in_features=256, out_features=512, bias=True)\n",
            "          (fc_ou): Linear(in_features=512, out_features=256, bias=True)\n",
            "        )\n",
            "        (position_wise_feed_forward_layer_norm): LayerNorm((256,), eps=1e-05, elementwise_affine=True)\n",
            "      )\n",
            "      (1): EncoderBlockLayer(\n",
            "        (dropout): Dropout(p=0.25, inplace=False)\n",
            "        (multi_head_attention_layer): MultiHeadAttentionLayer(\n",
            "          (fc_q): Linear(in_features=256, out_features=256, bias=True)\n",
            "          (fc_k): Linear(in_features=256, out_features=256, bias=True)\n",
            "          (fc_v): Linear(in_features=256, out_features=256, bias=True)\n",
            "          (fc_o): Linear(in_features=256, out_features=256, bias=True)\n",
            "        )\n",
            "        (multi_head_attention_layer_norm): LayerNorm((256,), eps=1e-05, elementwise_affine=True)\n",
            "        (position_wise_feed_forward_layer): PositionWiseFeedForwardLayer(\n",
            "          (fc_in): Linear(in_features=256, out_features=512, bias=True)\n",
            "          (fc_ou): Linear(in_features=512, out_features=256, bias=True)\n",
            "        )\n",
            "        (position_wise_feed_forward_layer_norm): LayerNorm((256,), eps=1e-05, elementwise_affine=True)\n",
            "      )\n",
            "    )\n",
            "  )\n",
            "  (decoder): DecoderLayer(\n",
            "    (dropout): Dropout(p=0.25, inplace=False)\n",
            "    (token_embedding): Embedding(14147, 256)\n",
            "    (position_encoding): PositionalEncodingLayer()\n",
            "    (decoder_block_layers): ModuleList(\n",
            "      (0): DecoderBlockLayer(\n",
            "        (dropout): Dropout(p=0.25, inplace=False)\n",
            "        (mask_multi_head_attention_layer): MultiHeadAttentionLayer(\n",
            "          (fc_q): Linear(in_features=256, out_features=256, bias=True)\n",
            "          (fc_k): Linear(in_features=256, out_features=256, bias=True)\n",
            "          (fc_v): Linear(in_features=256, out_features=256, bias=True)\n",
            "          (fc_o): Linear(in_features=256, out_features=256, bias=True)\n",
            "        )\n",
            "        (mask_multi_head_attention_layer_norm): LayerNorm((256,), eps=1e-05, elementwise_affine=True)\n",
            "        (multi_head_attention_layer): MultiHeadAttentionLayer(\n",
            "          (fc_q): Linear(in_features=256, out_features=256, bias=True)\n",
            "          (fc_k): Linear(in_features=256, out_features=256, bias=True)\n",
            "          (fc_v): Linear(in_features=256, out_features=256, bias=True)\n",
            "          (fc_o): Linear(in_features=256, out_features=256, bias=True)\n",
            "        )\n",
            "        (multi_head_attention_layer_norm): LayerNorm((256,), eps=1e-05, elementwise_affine=True)\n",
            "        (position_wise_feed_forward_layer): PositionWiseFeedForwardLayer(\n",
            "          (fc_in): Linear(in_features=256, out_features=512, bias=True)\n",
            "          (fc_ou): Linear(in_features=512, out_features=256, bias=True)\n",
            "        )\n",
            "        (position_wise_feed_forward_layer_norm): LayerNorm((256,), eps=1e-05, elementwise_affine=True)\n",
            "      )\n",
            "      (1): DecoderBlockLayer(\n",
            "        (dropout): Dropout(p=0.25, inplace=False)\n",
            "        (mask_multi_head_attention_layer): MultiHeadAttentionLayer(\n",
            "          (fc_q): Linear(in_features=256, out_features=256, bias=True)\n",
            "          (fc_k): Linear(in_features=256, out_features=256, bias=True)\n",
            "          (fc_v): Linear(in_features=256, out_features=256, bias=True)\n",
            "          (fc_o): Linear(in_features=256, out_features=256, bias=True)\n",
            "        )\n",
            "        (mask_multi_head_attention_layer_norm): LayerNorm((256,), eps=1e-05, elementwise_affine=True)\n",
            "        (multi_head_attention_layer): MultiHeadAttentionLayer(\n",
            "          (fc_q): Linear(in_features=256, out_features=256, bias=True)\n",
            "          (fc_k): Linear(in_features=256, out_features=256, bias=True)\n",
            "          (fc_v): Linear(in_features=256, out_features=256, bias=True)\n",
            "          (fc_o): Linear(in_features=256, out_features=256, bias=True)\n",
            "        )\n",
            "        (multi_head_attention_layer_norm): LayerNorm((256,), eps=1e-05, elementwise_affine=True)\n",
            "        (position_wise_feed_forward_layer): PositionWiseFeedForwardLayer(\n",
            "          (fc_in): Linear(in_features=256, out_features=512, bias=True)\n",
            "          (fc_ou): Linear(in_features=512, out_features=256, bias=True)\n",
            "        )\n",
            "        (position_wise_feed_forward_layer_norm): LayerNorm((256,), eps=1e-05, elementwise_affine=True)\n",
            "      )\n",
            "    )\n",
            "    (fc): Linear(in_features=256, out_features=14147, bias=True)\n",
            "  )\n",
            ")\n"
          ],
          "name": "stdout"
        }
      ]
    },
    {
      "cell_type": "code",
      "metadata": {
        "id": "rGbbnHE4jZjc"
      },
      "source": [
        "!mkdir -p models"
      ],
      "execution_count": 24,
      "outputs": []
    },
    {
      "cell_type": "code",
      "metadata": {
        "colab": {
          "base_uri": "https://localhost:8080/"
        },
        "id": "qd8AOS1vmIhq",
        "outputId": "c4b9e7c8-c0c1-4e5c-c779-204e8f410bc5"
      },
      "source": [
        "train_iterator, valid_iterator, _ =  BucketIterator.splits((train_data, valid_data, test_data), batch_size=BATCH_SIZE, device=DEVICE, sort=False)\n",
        "history = trainer.train(train_loader=train_iterator, valid_loader=valid_iterator, n_epochs=N_EPOCHS, grad_clip=GRAD_CLIP)"
      ],
      "execution_count": 25,
      "outputs": [
        {
          "output_type": "stream",
          "text": [
            "Epoch: 01 -     loss: 3.394 -     ppl: 29.777 -     acc: 5.319%: 100%|██████████| 625/625 [00:41<00:00, 15.22it/s]\n",
            "Epoch: 01 - val_loss: 2.332 - val_ppl: 10.299 - val_acc: 6.328%: 100%|██████████| 40/40 [00:01<00:00, 38.10it/s]\n",
            "Epoch: 02 -     loss: 2.310 -     ppl: 10.072 -     acc: 6.281%: 100%|██████████| 625/625 [00:42<00:00, 14.63it/s]\n",
            "Epoch: 02 - val_loss: 2.012 - val_ppl: 7.478 - val_acc: 6.666%: 100%|██████████| 40/40 [00:01<00:00, 36.68it/s]\n",
            "Epoch: 03 -     loss: 1.955 -     ppl: 7.064 -     acc: 6.572%: 100%|██████████| 625/625 [00:44<00:00, 14.12it/s]\n",
            "Epoch: 03 - val_loss: 1.850 - val_ppl: 6.359 - val_acc: 6.839%: 100%|██████████| 40/40 [00:01<00:00, 36.65it/s]\n",
            "Epoch: 04 -     loss: 1.723 -     ppl: 5.601 -     acc: 6.789%: 100%|██████████| 625/625 [00:43<00:00, 14.23it/s]\n",
            "Epoch: 04 - val_loss: 1.785 - val_ppl: 5.961 - val_acc: 6.911%: 100%|██████████| 40/40 [00:01<00:00, 36.71it/s]\n",
            "Epoch: 05 -     loss: 1.554 -     ppl: 4.728 -     acc: 6.952%: 100%|██████████| 625/625 [00:44<00:00, 14.16it/s]\n",
            "Epoch: 05 - val_loss: 1.747 - val_ppl: 5.740 - val_acc: 6.984%: 100%|██████████| 40/40 [00:01<00:00, 36.97it/s]\n",
            "Epoch: 06 -     loss: 1.423 -     ppl: 4.149 -     acc: 7.137%: 100%|██████████| 625/625 [00:43<00:00, 14.32it/s]\n",
            "Epoch: 06 - val_loss: 1.702 - val_ppl: 5.487 - val_acc: 7.027%: 100%|██████████| 40/40 [00:01<00:00, 36.06it/s]\n",
            "Epoch: 07 -     loss: 1.323 -     ppl: 3.753 -     acc: 7.258%: 100%|██████████| 625/625 [00:43<00:00, 14.27it/s]\n",
            "Epoch: 07 - val_loss: 1.670 - val_ppl: 5.313 - val_acc: 7.067%: 100%|██████████| 40/40 [00:01<00:00, 36.76it/s]\n",
            "Epoch: 08 -     loss: 1.243 -     ppl: 3.464 -     acc: 7.327%: 100%|██████████| 625/625 [00:43<00:00, 14.21it/s]\n",
            "Epoch: 08 - val_loss: 1.656 - val_ppl: 5.236 - val_acc: 7.091%: 100%|██████████| 40/40 [00:01<00:00, 36.28it/s]\n",
            "Epoch: 09 -     loss: 1.178 -     ppl: 3.249 -     acc: 7.375%: 100%|██████████| 625/625 [00:44<00:00, 14.14it/s]\n",
            "Epoch: 09 - val_loss: 1.645 - val_ppl: 5.183 - val_acc: 7.121%: 100%|██████████| 40/40 [00:01<00:00, 36.72it/s]\n",
            "Epoch: 10 -     loss: 1.128 -     ppl: 3.091 -     acc: 7.444%: 100%|██████████| 625/625 [00:43<00:00, 14.26it/s]\n",
            "Epoch: 10 - val_loss: 1.640 - val_ppl: 5.156 - val_acc: 7.152%: 100%|██████████| 40/40 [00:01<00:00, 36.76it/s]\n",
            "Epoch: 11 -     loss: 1.086 -     ppl: 2.963 -     acc: 7.530%: 100%|██████████| 625/625 [00:43<00:00, 14.34it/s]\n",
            "Epoch: 11 - val_loss: 1.635 - val_ppl: 5.128 - val_acc: 7.155%: 100%|██████████| 40/40 [00:01<00:00, 36.56it/s]\n",
            "Epoch: 12 -     loss: 1.051 -     ppl: 2.861 -     acc: 7.504%: 100%|██████████| 625/625 [00:43<00:00, 14.31it/s]\n",
            "Epoch: 12 - val_loss: 1.625 - val_ppl: 5.079 - val_acc: 7.183%: 100%|██████████| 40/40 [00:01<00:00, 36.36it/s]\n",
            "Epoch: 13 -     loss: 1.016 -     ppl: 2.763 -     acc: 7.573%: 100%|██████████| 625/625 [00:43<00:00, 14.28it/s]\n",
            "Epoch: 13 - val_loss: 1.622 - val_ppl: 5.064 - val_acc: 7.201%: 100%|██████████| 40/40 [00:01<00:00, 36.92it/s]\n",
            "Epoch: 14 -     loss: 0.987 -     ppl: 2.683 -     acc: 7.604%: 100%|██████████| 625/625 [00:43<00:00, 14.22it/s]\n",
            "Epoch: 14 - val_loss: 1.616 - val_ppl: 5.033 - val_acc: 7.215%: 100%|██████████| 40/40 [00:01<00:00, 36.60it/s]\n",
            "Epoch: 15 -     loss: 0.963 -     ppl: 2.618 -     acc: 7.684%: 100%|██████████| 625/625 [00:43<00:00, 14.29it/s]\n",
            "Epoch: 15 - val_loss: 1.609 - val_ppl: 4.996 - val_acc: 7.217%: 100%|██████████| 40/40 [00:01<00:00, 36.49it/s]\n",
            "Epoch: 16 -     loss: 0.936 -     ppl: 2.551 -     acc: 7.651%: 100%|██████████| 625/625 [00:43<00:00, 14.26it/s]\n",
            "Epoch: 16 - val_loss: 1.624 - val_ppl: 5.074 - val_acc: 7.207%: 100%|██████████| 40/40 [00:01<00:00, 36.63it/s]\n",
            "Epoch: 17 -     loss: 0.915 -     ppl: 2.498 -     acc: 7.675%: 100%|██████████| 625/625 [00:43<00:00, 14.28it/s]\n",
            "Epoch: 17 - val_loss: 1.619 - val_ppl: 5.047 - val_acc: 7.223%: 100%|██████████| 40/40 [00:01<00:00, 36.76it/s]\n",
            "Epoch: 18 -     loss: 0.894 -     ppl: 2.445 -     acc: 7.738%: 100%|██████████| 625/625 [00:43<00:00, 14.30it/s]\n",
            "Epoch: 18 - val_loss: 1.636 - val_ppl: 5.136 - val_acc: 7.206%: 100%|██████████| 40/40 [00:01<00:00, 36.42it/s]\n",
            "Epoch: 19 -     loss: 0.877 -     ppl: 2.404 -     acc: 7.731%: 100%|██████████| 625/625 [00:43<00:00, 14.26it/s]\n",
            "Epoch: 19 - val_loss: 1.623 - val_ppl: 5.069 - val_acc: 7.247%: 100%|██████████| 40/40 [00:01<00:00, 36.25it/s]\n",
            "Epoch: 20 -     loss: 0.858 -     ppl: 2.359 -     acc: 7.735%: 100%|██████████| 625/625 [00:43<00:00, 14.27it/s]\n",
            "Epoch: 20 - val_loss: 1.629 - val_ppl: 5.097 - val_acc: 7.227%: 100%|██████████| 40/40 [00:01<00:00, 36.22it/s]\n",
            "Epoch: 21 -     loss: 0.840 -     ppl: 2.317 -     acc: 7.767%: 100%|██████████| 625/625 [00:43<00:00, 14.24it/s]\n",
            "Epoch: 21 - val_loss: 1.628 - val_ppl: 5.092 - val_acc: 7.240%: 100%|██████████| 40/40 [00:01<00:00, 36.95it/s]\n",
            "Epoch: 22 -     loss: 0.827 -     ppl: 2.286 -     acc: 7.807%: 100%|██████████| 625/625 [00:43<00:00, 14.37it/s]\n",
            "Epoch: 22 - val_loss: 1.627 - val_ppl: 5.090 - val_acc: 7.271%: 100%|██████████| 40/40 [00:01<00:00, 36.51it/s]\n",
            "Epoch: 23 -     loss: 0.812 -     ppl: 2.253 -     acc: 7.822%: 100%|██████████| 625/625 [00:43<00:00, 14.40it/s]\n",
            "Epoch: 23 - val_loss: 1.634 - val_ppl: 5.123 - val_acc: 7.269%: 100%|██████████| 40/40 [00:01<00:00, 36.88it/s]\n",
            "Epoch: 24 -     loss: 0.799 -     ppl: 2.223 -     acc: 7.791%: 100%|██████████| 625/625 [00:43<00:00, 14.34it/s]\n",
            "Epoch: 24 - val_loss: 1.642 - val_ppl: 5.163 - val_acc: 7.239%: 100%|██████████| 40/40 [00:01<00:00, 36.73it/s]\n",
            "Epoch: 25 -     loss: 0.785 -     ppl: 2.192 -     acc: 7.792%: 100%|██████████| 625/625 [00:43<00:00, 14.33it/s]\n",
            "Epoch: 25 - val_loss: 1.640 - val_ppl: 5.154 - val_acc: 7.256%: 100%|██████████| 40/40 [00:01<00:00, 36.49it/s]\n",
            "Epoch: 26 -     loss: 0.774 -     ppl: 2.168 -     acc: 7.776%: 100%|██████████| 625/625 [00:43<00:00, 14.29it/s]\n",
            "Epoch: 26 - val_loss: 1.637 - val_ppl: 5.138 - val_acc: 7.266%: 100%|██████████| 40/40 [00:01<00:00, 36.29it/s]\n",
            "Epoch: 27 -     loss: 0.759 -     ppl: 2.137 -     acc: 7.798%: 100%|██████████| 625/625 [00:43<00:00, 14.27it/s]\n",
            "Epoch: 27 - val_loss: 1.643 - val_ppl: 5.173 - val_acc: 7.243%: 100%|██████████| 40/40 [00:01<00:00, 36.25it/s]\n",
            "Epoch: 28 -     loss: 0.748 -     ppl: 2.113 -     acc: 7.855%: 100%|██████████| 625/625 [00:43<00:00, 14.38it/s]\n",
            "Epoch: 28 - val_loss: 1.651 - val_ppl: 5.210 - val_acc: 7.258%: 100%|██████████| 40/40 [00:01<00:00, 35.66it/s]\n",
            "Epoch: 29 -     loss: 0.736 -     ppl: 2.088 -     acc: 7.821%: 100%|██████████| 625/625 [00:43<00:00, 14.22it/s]\n",
            "Epoch: 29 - val_loss: 1.659 - val_ppl: 5.254 - val_acc: 7.249%: 100%|██████████| 40/40 [00:01<00:00, 37.12it/s]\n",
            "Epoch: 30 -     loss: 0.726 -     ppl: 2.067 -     acc: 7.887%: 100%|██████████| 625/625 [00:43<00:00, 14.43it/s]\n",
            "Epoch: 30 - val_loss: 1.654 - val_ppl: 5.230 - val_acc: 7.274%: 100%|██████████| 40/40 [00:01<00:00, 36.94it/s]\n",
            "Epoch: 31 -     loss: 0.718 -     ppl: 2.050 -     acc: 7.905%: 100%|██████████| 625/625 [00:43<00:00, 14.48it/s]\n",
            "Epoch: 31 - val_loss: 1.664 - val_ppl: 5.279 - val_acc: 7.253%: 100%|██████████| 40/40 [00:01<00:00, 36.46it/s]\n",
            "Epoch: 32 -     loss: 0.708 -     ppl: 2.030 -     acc: 7.851%: 100%|██████████| 625/625 [00:43<00:00, 14.33it/s]\n",
            "Epoch: 32 - val_loss: 1.660 - val_ppl: 5.257 - val_acc: 7.249%: 100%|██████████| 40/40 [00:01<00:00, 36.83it/s]\n",
            "Epoch: 33 -     loss: 0.700 -     ppl: 2.014 -     acc: 7.898%: 100%|██████████| 625/625 [00:43<00:00, 14.37it/s]\n",
            "Epoch: 33 - val_loss: 1.673 - val_ppl: 5.328 - val_acc: 7.261%: 100%|██████████| 40/40 [00:01<00:00, 35.12it/s]\n",
            "Epoch: 34 -     loss: 0.690 -     ppl: 1.994 -     acc: 7.915%: 100%|██████████| 625/625 [00:43<00:00, 14.40it/s]\n",
            "Epoch: 34 - val_loss: 1.677 - val_ppl: 5.349 - val_acc: 7.265%: 100%|██████████| 40/40 [00:01<00:00, 36.94it/s]\n",
            "Epoch: 35 -     loss: 0.682 -     ppl: 1.978 -     acc: 7.912%: 100%|██████████| 625/625 [00:43<00:00, 14.28it/s]\n",
            "Epoch: 35 - val_loss: 1.678 - val_ppl: 5.355 - val_acc: 7.262%: 100%|██████████| 40/40 [00:01<00:00, 35.70it/s]\n",
            "Epoch: 36 -     loss: 0.673 -     ppl: 1.961 -     acc: 7.903%: 100%|██████████| 625/625 [00:43<00:00, 14.35it/s]\n",
            "Epoch: 36 - val_loss: 1.685 - val_ppl: 5.395 - val_acc: 7.260%: 100%|██████████| 40/40 [00:01<00:00, 36.72it/s]\n",
            "Epoch: 37 -     loss: 0.664 -     ppl: 1.942 -     acc: 7.930%: 100%|██████████| 625/625 [00:43<00:00, 14.41it/s]\n",
            "Epoch: 37 - val_loss: 1.689 - val_ppl: 5.415 - val_acc: 7.276%: 100%|██████████| 40/40 [00:01<00:00, 36.67it/s]\n",
            "Epoch: 38 -     loss: 0.658 -     ppl: 1.930 -     acc: 7.920%: 100%|██████████| 625/625 [00:43<00:00, 14.33it/s]\n",
            "Epoch: 38 - val_loss: 1.688 - val_ppl: 5.406 - val_acc: 7.272%: 100%|██████████| 40/40 [00:01<00:00, 36.96it/s]\n",
            "Epoch: 39 -     loss: 0.649 -     ppl: 1.914 -     acc: 7.907%: 100%|██████████| 625/625 [00:43<00:00, 14.39it/s]\n",
            "Epoch: 39 - val_loss: 1.700 - val_ppl: 5.472 - val_acc: 7.283%: 100%|██████████| 40/40 [00:01<00:00, 36.75it/s]\n",
            "Epoch: 40 -     loss: 0.643 -     ppl: 1.902 -     acc: 7.981%: 100%|██████████| 625/625 [00:43<00:00, 14.33it/s]\n",
            "Epoch: 40 - val_loss: 1.684 - val_ppl: 5.386 - val_acc: 7.284%: 100%|██████████| 40/40 [00:01<00:00, 36.98it/s]\n",
            "Epoch: 41 -     loss: 0.637 -     ppl: 1.890 -     acc: 7.951%: 100%|██████████| 625/625 [00:43<00:00, 14.43it/s]\n",
            "Epoch: 41 - val_loss: 1.691 - val_ppl: 5.427 - val_acc: 7.268%: 100%|██████████| 40/40 [00:01<00:00, 36.49it/s]\n",
            "Epoch: 42 -     loss: 0.628 -     ppl: 1.875 -     acc: 7.911%: 100%|██████████| 625/625 [00:43<00:00, 14.26it/s]\n",
            "Epoch: 42 - val_loss: 1.708 - val_ppl: 5.519 - val_acc: 7.286%: 100%|██████████| 40/40 [00:01<00:00, 36.66it/s]\n",
            "Epoch: 43 -     loss: 0.623 -     ppl: 1.864 -     acc: 7.929%: 100%|██████████| 625/625 [00:43<00:00, 14.36it/s]\n",
            "Epoch: 43 - val_loss: 1.699 - val_ppl: 5.468 - val_acc: 7.286%: 100%|██████████| 40/40 [00:01<00:00, 36.86it/s]\n",
            "Epoch: 44 -     loss: 0.616 -     ppl: 1.851 -     acc: 7.927%: 100%|██████████| 625/625 [00:43<00:00, 14.34it/s]\n",
            "Epoch: 44 - val_loss: 1.729 - val_ppl: 5.638 - val_acc: 7.269%: 100%|██████████| 40/40 [00:01<00:00, 36.03it/s]\n",
            "Epoch: 45 -     loss: 0.610 -     ppl: 1.840 -     acc: 7.934%: 100%|██████████| 625/625 [00:43<00:00, 14.35it/s]\n",
            "Epoch: 45 - val_loss: 1.729 - val_ppl: 5.633 - val_acc: 7.273%: 100%|██████████| 40/40 [00:01<00:00, 36.56it/s]\n",
            "Epoch: 46 -     loss: 0.602 -     ppl: 1.826 -     acc: 7.942%: 100%|██████████| 625/625 [00:43<00:00, 14.51it/s]\n",
            "Epoch: 46 - val_loss: 1.732 - val_ppl: 5.651 - val_acc: 7.274%: 100%|██████████| 40/40 [00:01<00:00, 36.29it/s]\n",
            "Epoch: 47 -     loss: 0.595 -     ppl: 1.813 -     acc: 7.971%: 100%|██████████| 625/625 [00:43<00:00, 14.52it/s]\n",
            "Epoch: 47 - val_loss: 1.733 - val_ppl: 5.656 - val_acc: 7.274%: 100%|██████████| 40/40 [00:01<00:00, 36.26it/s]\n",
            "Epoch: 48 -     loss: 0.592 -     ppl: 1.808 -     acc: 7.921%: 100%|██████████| 625/625 [00:43<00:00, 14.33it/s]\n",
            "Epoch: 48 - val_loss: 1.746 - val_ppl: 5.730 - val_acc: 7.264%: 100%|██████████| 40/40 [00:01<00:00, 35.77it/s]\n",
            "Epoch: 49 -     loss: 0.588 -     ppl: 1.801 -     acc: 7.966%: 100%|██████████| 625/625 [00:43<00:00, 14.36it/s]\n",
            "Epoch: 49 - val_loss: 1.747 - val_ppl: 5.735 - val_acc: 7.267%: 100%|██████████| 40/40 [00:01<00:00, 36.45it/s]\n",
            "Epoch: 50 -     loss: 0.579 -     ppl: 1.784 -     acc: 8.002%: 100%|██████████| 625/625 [00:43<00:00, 14.25it/s]\n",
            "Epoch: 50 - val_loss: 1.762 - val_ppl: 5.821 - val_acc: 7.270%: 100%|██████████| 40/40 [00:01<00:00, 36.30it/s]\n"
          ],
          "name": "stderr"
        }
      ]
    },
    {
      "cell_type": "code",
      "metadata": {
        "colab": {
          "base_uri": "https://localhost:8080/"
        },
        "id": "h4ybctUVAYK8",
        "outputId": "94bbd056-c376-4402-e971-6bc3f61b59b3"
      },
      "source": [
        "!nvidia-smi"
      ],
      "execution_count": 26,
      "outputs": [
        {
          "output_type": "stream",
          "text": [
            "Sun Mar  7 13:51:08 2021       \n",
            "+-----------------------------------------------------------------------------+\n",
            "| NVIDIA-SMI 460.39       Driver Version: 460.32.03    CUDA Version: 11.2     |\n",
            "|-------------------------------+----------------------+----------------------+\n",
            "| GPU  Name        Persistence-M| Bus-Id        Disp.A | Volatile Uncorr. ECC |\n",
            "| Fan  Temp  Perf  Pwr:Usage/Cap|         Memory-Usage | GPU-Util  Compute M. |\n",
            "|                               |                      |               MIG M. |\n",
            "|===============================+======================+======================|\n",
            "|   0  Tesla T4            Off  | 00000000:00:04.0 Off |                    0 |\n",
            "| N/A   71C    P0    32W /  70W |   8580MiB / 15109MiB |      0%      Default |\n",
            "|                               |                      |                  N/A |\n",
            "+-------------------------------+----------------------+----------------------+\n",
            "                                                                               \n",
            "+-----------------------------------------------------------------------------+\n",
            "| Processes:                                                                  |\n",
            "|  GPU   GI   CI        PID   Type   Process name                  GPU Memory |\n",
            "|        ID   ID                                                   Usage      |\n",
            "|=============================================================================|\n",
            "+-----------------------------------------------------------------------------+\n"
          ],
          "name": "stdout"
        }
      ]
    },
    {
      "cell_type": "code",
      "metadata": {
        "colab": {
          "base_uri": "https://localhost:8080/",
          "height": 350
        },
        "id": "gFcY3q9dmIhr",
        "outputId": "5aa7faac-f516-4094-9866-5b83e9372fa7"
      },
      "source": [
        "_, axes = plt.subplots(1, 3, figsize=(15, 5))\n",
        "\n",
        "axes[0].plot(history['loss'], label='train')\n",
        "axes[0].plot(history['val_loss'], label='valid')\n",
        "axes[0].set_title('Loss history')\n",
        "axes[0].set_xlabel('Epoch')\n",
        "axes[0].set_ylabel('Loss')\n",
        "axes[0].grid(True)\n",
        "axes[0].legend()\n",
        "\n",
        "axes[1].plot(history['ppl'], label='train')\n",
        "axes[1].plot(history['val_ppl'], label='valid')\n",
        "axes[1].set_title('Perplexity history')\n",
        "axes[1].set_xlabel('Epoch')\n",
        "axes[1].set_ylabel('Perplexity')\n",
        "axes[1].grid(True)\n",
        "axes[1].legend()\n",
        "\n",
        "axes[2].plot(history['acc'], label='train')\n",
        "axes[2].plot(history['val_acc'], label='valid')\n",
        "axes[2].set_title('Top-5 Accuracy & BLEU history')\n",
        "axes[2].set_xlabel('Epoch')\n",
        "axes[2].set_ylabel('Accuracy & BLEU (%)')\n",
        "axes[2].grid(True)\n",
        "axes[2].legend()\n",
        "\n",
        "plt.show()"
      ],
      "execution_count": 29,
      "outputs": [
        {
          "output_type": "display_data",
          "data": {
            "image/png": "[encoded data removed]",
            "text/plain": [
              "<Figure size 1080x360 with 3 Axes>"
            ]
          },
          "metadata": {
            "tags": [],
            "needs_background": "light"
          }
        }
      ]
    },
    {
      "cell_type": "code",
      "metadata": {
        "id": "K_pcK8xOmIhr"
      },
      "source": [
        "transformer.load_state_dict(torch.load('./models/transformer.pth'))\n",
        "transformer.to(DEVICE);"
      ],
      "execution_count": 30,
      "outputs": []
    },
    {
      "cell_type": "code",
      "metadata": {
        "id": "Q8LxG1gYiwJX"
      },
      "source": [
        "def find_path(tree):\n",
        "    path = []\n",
        "    for nodes in reversed(tree):\n",
        "        if len(path) == 0:\n",
        "            path.append(nodes[0])\n",
        "        else:\n",
        "            parent_id = path[-1].parent_id\n",
        "            for node in nodes:\n",
        "                if node.id == parent_id:\n",
        "                    path.append(node)\n",
        "    return path\n",
        "\n",
        "def find_best_path(tree):\n",
        "    best = []\n",
        "    for nodes in reversed(tree):\n",
        "        if len(best) == 0:\n",
        "            best.append(nodes[0])\n",
        "        else:\n",
        "            nodes_eos = []\n",
        "            parent_id = best[-1].parent_id\n",
        "            for node in nodes:\n",
        "                if node.eos:\n",
        "                    nodes_eos.append(node)\n",
        "                if node.id == parent_id:\n",
        "                    best.append(node)\n",
        "            if len(nodes_eos) > 0:\n",
        "                candidates = sorted([best[-1], *nodes_eos],\n",
        "                                    key=lambda node: node.logps,\n",
        "                                    reverse=True)\n",
        "                candidate = candidates[0]\n",
        "                if candidate.eos:\n",
        "                    best = [candidate]\n",
        "    return best\n",
        "\n",
        "class Node:\n",
        "    id_ = 0\n",
        "    \n",
        "    def __init__(self, token, states, logp=0., parent=None, eos=False):\n",
        "        self.__id = self.__class__.id_\n",
        "        self.__token = token\n",
        "        self.__states = states\n",
        "        self.__logp = logp\n",
        "        self.__parent_id = None if parent is None else parent.id\n",
        "        self.__eos = eos\n",
        "        self.__level = 0 if parent is None else parent.level + 1\n",
        "        self.__logps = logp if parent is None else parent.logps + logp\n",
        "        self.__class__.id_ += 1\n",
        "        \n",
        "    def __str__(self):\n",
        "        return f'Node[id={self.__id}, ' + \\\n",
        "                    f'index={EN.vocab.itos[self.__token.cpu().item()]}, ' + \\\n",
        "                    f'logp={self.__logp}, ' + \\\n",
        "                    f'logps={self.__logps}, ' + \\\n",
        "                    f'parent_id={self.__parent_id}, ' + \\\n",
        "                    f'level={self.__level}]'\n",
        "    \n",
        "    @property\n",
        "    def token(self):\n",
        "        return self.__token\n",
        "    \n",
        "    @token.setter\n",
        "    def token(self, token):\n",
        "        self.__token = token\n",
        "    \n",
        "    @property\n",
        "    def parent_id(self):\n",
        "        return self.__parent_id\n",
        "    \n",
        "    @parent_id.setter\n",
        "    def parent_id(self, parent_id):\n",
        "        self.__parent_id = parent_id\n",
        "        \n",
        "    @property\n",
        "    def id(self):\n",
        "        return self.__id\n",
        "    \n",
        "    @id.setter\n",
        "    def id(self, id_):\n",
        "        self.__id = id_\n",
        "    \n",
        "    @property\n",
        "    def token(self):\n",
        "        return self.__token\n",
        "    \n",
        "    @token.setter\n",
        "    def token(self, token):\n",
        "        self.__token = token\n",
        "    \n",
        "    @property\n",
        "    def states(self):\n",
        "        return self.__states\n",
        "    \n",
        "    @states.setter\n",
        "    def states(self, states):\n",
        "        self.__states = states\n",
        "      \n",
        "    @property\n",
        "    def eos(self):\n",
        "        return self.__eos\n",
        "    \n",
        "    @eos.setter\n",
        "    def eos(self, eos):\n",
        "        self.__eos = eos\n",
        "    \n",
        "    @property\n",
        "    def logps(self):\n",
        "        return self.__logps\n",
        "    \n",
        "    @logps.setter\n",
        "    def logps(self, logps):\n",
        "        self.__logps = logps\n",
        "        \n",
        "    @property\n",
        "    def level(self):\n",
        "        return self.__level\n",
        "    \n",
        "    @level.setter\n",
        "    def level(self, level):\n",
        "        self.__level = level\n"
      ],
      "execution_count": 31,
      "outputs": []
    },
    {
      "cell_type": "code",
      "metadata": {
        "id": "ScoI5AN1mIhr"
      },
      "source": [
        "def evaluate(model, data, beam_size, src_field, dest_field, max_len, device):\n",
        "    src_sentences = [*map(lambda example: example.src, data.examples)]\n",
        "    dest_sentences = [*map(lambda example: example.trg, data.examples)]\n",
        "    data = [*zip([*map(lambda word_list: src_field.process([word_list]), src_sentences)],\n",
        "                 [*map(lambda word_list: dest_field.process([word_list]), dest_sentences)])]\n",
        "    references, hypotheses, sources = [], [], []\n",
        "    model.eval()\n",
        "    with torch.no_grad():\n",
        "        for i, (src_sequence, dest_sequence) in tqdm.tqdm(enumerate(data), total=len(data), position=0, leave=True):\n",
        "            src_sequence, dest_sequence = src_sequence.to(device), dest_sequence.to(device)\n",
        "            src_mask = model.make_src_mask(src_sequence)\n",
        "            src_encoded = model.encoder(src_sequences=src_sequence, src_mask=src_mask)\n",
        "            # Decoding\n",
        "            tree = [[Node(token=torch.LongTensor([dest_field.vocab.stoi[dest_field.init_token]]).to(device), states=None)]]\n",
        "            for _ in range(max_len):\n",
        "                next_nodes = []\n",
        "                for node in tree[-1]:\n",
        "                    if node.eos: # Skip eos token\n",
        "                        continue\n",
        "                    # Get tokens that're already translated\n",
        "                    already_translated = torch.LongTensor([*map(lambda node: node.token, find_path(tree))][::-1]).unsqueeze(0).to(device)\n",
        "                    dest_mask = model.make_dest_mask(already_translated)\n",
        "                    logit, _ = model.decoder(dest_sequences=already_translated, src_encoded=src_encoded,\n",
        "                                              dest_mask=dest_mask, src_mask=src_mask) # [1, dest_seq_len, vocab_size]                    \n",
        "                    logp = F.log_softmax(logit[:, -1, :], dim=1).squeeze(dim=0) # [vocab_size] Get scores                    \n",
        "                    topk_logps, topk_tokens = torch.topk(logp, beam_size) # Get top k tokens & logps                    \n",
        "                    for k in range(beam_size):\n",
        "                        next_nodes.append(Node(token=topk_tokens[k, None], states=None,\n",
        "                                               logp=topk_logps[k, None].cpu().item(), parent=node,\n",
        "                                               eos=topk_tokens[k].cpu().item() == dest_field.vocab[dest_field.eos_token]))\n",
        "                if len(next_nodes) == 0:\n",
        "                    break\n",
        "                next_nodes = sorted(next_nodes, key=lambda node: node.logps, reverse=True) # Sort next_nodes to get the best\n",
        "                tree.append(next_nodes[:beam_size]) # Update the tree\n",
        "            best_path = find_best_path(tree) # Find the best path of the tree\n",
        "\n",
        "            # Get the translation\n",
        "            pred_translated = [*map(lambda node: dest_field.vocab.itos[node.token], best_path)]\n",
        "            pred_translated = [*filter(lambda word: word not in [dest_field.init_token, dest_field.eos_token], pred_translated[::-1])]\n",
        "\n",
        "            hypotheses.append(pred_translated) # Update hypotheses\n",
        "\n",
        "            # Update references\n",
        "            references.append([[dest_field.vocab.itos[indice] for indice in dest_sequence[0] if indice not in (\n",
        "                dest_field.vocab.stoi[dest_field.init_token],\n",
        "                dest_field.vocab.stoi[dest_field.eos_token],\n",
        "                dest_field.vocab.stoi[dest_field.pad_token]\n",
        "            )]])\n",
        "\n",
        "            # Update sources\n",
        "            sources.append([src_field.vocab.itos[indice]  for indice in src_sequence[0] if indice not in (\n",
        "                src_field.vocab.stoi[src_field.init_token],\n",
        "                src_field.vocab.stoi[src_field.eos_token],\n",
        "                src_field.vocab.stoi[src_field.pad_token]\n",
        "            )])\n",
        "    \n",
        "        assert len(hypotheses) == len(references) == len(sources)\n",
        "        bleu = bleu_score(hypotheses, references) # Calculate BLEU score\n",
        "    return hypotheses, references, sources, bleu"
      ],
      "execution_count": 32,
      "outputs": []
    },
    {
      "cell_type": "code",
      "metadata": {
        "colab": {
          "base_uri": "https://localhost:8080/"
        },
        "id": "8Z4YL6aemIhr",
        "outputId": "1ce8cea4-a4ab-4a81-a5d8-909074a96ed6"
      },
      "source": [
        "bleu_scores = []\n",
        "for name, data in [('validation', valid_data), ('test', test_data)]:\n",
        "    _, _, _, bleu = evaluate(model=transformer, data=data, beam_size=1, src_field=EN_TEXT, dest_field=RU_TEXT, max_len=MAX_LEN, device=DEVICE)\n",
        "    bleu_scores.append((1, name, bleu))"
      ],
      "execution_count": 33,
      "outputs": [
        {
          "output_type": "stream",
          "text": [
            "100%|██████████| 2500/2500 [02:52<00:00, 14.51it/s]\n",
            "100%|██████████| 7500/7500 [08:37<00:00, 14.50it/s]\n"
          ],
          "name": "stderr"
        }
      ]
    },
    {
      "cell_type": "code",
      "metadata": {
        "colab": {
          "base_uri": "https://localhost:8080/"
        },
        "id": "AhmKUQwL31PF",
        "outputId": "c1c80a8c-3f5b-47d5-c9e2-74fdbd9a7635"
      },
      "source": [
        "for score in bleu_scores:\n",
        "    print(f'BLEU: {score[2]*100:.3f}% with beam_size={score[0]} on {score[1]} data')"
      ],
      "execution_count": 34,
      "outputs": [
        {
          "output_type": "stream",
          "text": [
            "BLEU: 31.740% with beam_size=1 on validation data\n",
            "BLEU: 32.305% with beam_size=1 on test data\n"
          ],
          "name": "stdout"
        }
      ]
    },
    {
      "cell_type": "code",
      "metadata": {
        "id": "JRfG8X1pHEBd",
        "colab": {
          "base_uri": "https://localhost:8080/"
        },
        "outputId": "e1ad9d83-0109-4b2d-ed18-762d664a477d"
      },
      "source": [
        "def count_parameters(model):\n",
        "    return sum(p.numel() for p in model.parameters() if p.requires_grad)\n",
        "\n",
        "print(f'The model has {count_parameters(transformer):,} trainable parameters')"
      ],
      "execution_count": 35,
      "outputs": [
        {
          "output_type": "stream",
          "text": [
            "The model has 12,504,131 trainable parameters\n"
          ],
          "name": "stdout"
        }
      ]
    },
    {
      "cell_type": "markdown",
      "metadata": {
        "id": "tH6X3gMImIhs"
      },
      "source": [
        "## Inference"
      ]
    },
    {
      "cell_type": "code",
      "metadata": {
        "id": "-TzuCX4wmIhs"
      },
      "source": [
        "def translate(sentences, model, beam_size, src_field, dest_field, max_len, device):\n",
        "    if isinstance(sentences, list):\n",
        "        sentences = [*map(src_field.preprocess, sentences)]\n",
        "        targets = None\n",
        "    if isinstance(sentences, Dataset):\n",
        "        targets = [*map(lambda example: ' '.join(example.trg), sentences.examples)]\n",
        "        sentences = [*map(lambda example: example.src, sentences.examples)]\n",
        "    data = [*map(lambda word_list: src_field.process([word_list]), sentences)]\n",
        "    translated_sentences, attention_weights, pred_logps = [], [], []\n",
        "    model.eval()\n",
        "    with torch.no_grad():\n",
        "        for i, src_sequence in tqdm.tqdm(enumerate(data), total=len(data), position=0, leave=True):\n",
        "            src_sequence = src_sequence.to(device)\n",
        "            src_mask = model.make_src_mask(src_sequence)\n",
        "            src_encoded = model.encoder(src_sequences=src_sequence, src_mask=src_mask)\n",
        "            tree = [[Node(token=torch.LongTensor([dest_field.vocab.stoi[dest_field.init_token]]).to(device), states=())]]\n",
        "            for _ in range(max_len):\n",
        "                next_nodes = []\n",
        "                for node in tree[-1]:\n",
        "                    if node.eos: # Skip eos token\n",
        "                        continue\n",
        "                    # Get tokens that're already translated\n",
        "                    already_translated = torch.LongTensor([*map(lambda node: node.token, find_path(tree))][::-1]).unsqueeze(0).to(device)\n",
        "                    dest_mask = model.make_dest_mask(already_translated)\n",
        "                    logit, attn_weights = model.decoder(dest_sequences=already_translated, src_encoded=src_encoded,\n",
        "                                              dest_mask=dest_mask, src_mask=src_mask) # [1, dest_seq_len, vocab_size]                      \n",
        "                    logp = F.log_softmax(logit[:, -1, :], dim=1).squeeze(dim=0) # [vocab_size] Get scores                    \n",
        "                    topk_logps, topk_tokens = torch.topk(logp, beam_size) # Get top k tokens & logps                    \n",
        "                    for k in range(beam_size):\n",
        "                        next_nodes.append(Node(token=topk_tokens[k, None], states=(attn_weights,),\n",
        "                                               logp=topk_logps[k, None].cpu().item(), parent=node,\n",
        "                                               eos=topk_tokens[k].cpu().item() == dest_field.vocab[dest_field.eos_token]))\n",
        "                if len(next_nodes) == 0:\n",
        "                    break\n",
        "                next_nodes = sorted(next_nodes, key=lambda node: node.logps, reverse=True)\n",
        "                tree.append(next_nodes[:beam_size])\n",
        "            best_path = find_best_path(tree)[::-1]\n",
        "            # Get the translation\n",
        "            pred_translated = [*map(lambda node: dest_field.vocab.itos[node.token], best_path)]\n",
        "            pred_translated = [*filter(lambda word: word not in [\n",
        "                dest_field.init_token, dest_field.eos_token\n",
        "            ], pred_translated)]\n",
        "            translated_sentences.append(' '.join(pred_translated))\n",
        "            # Get probabilities\n",
        "            pred_logps.append(sum([*map(lambda node: node.logps, best_path)]))\n",
        "            # Get attention weights\n",
        "            attention_weights.append(best_path[-1].states[0].cpu().numpy())\n",
        "        sentences = [*map(lambda sentence: ' '.join(sentence), sentences)]\n",
        "    return sentences, translated_sentences, targets, attention_weights, pred_logps"
      ],
      "execution_count": 36,
      "outputs": []
    },
    {
      "cell_type": "code",
      "metadata": {
        "id": "4FPeU0s4mIhs",
        "colab": {
          "base_uri": "https://localhost:8080/"
        },
        "outputId": "3f5a3a05-62f5-445d-b6dd-859ed0c59b18"
      },
      "source": [
        "sentences, translated_sentences, dest_sentences, attention_weights, pred_logps = translate(sentences=test_data, model=transformer, beam_size=1, src_field=EN_TEXT,\n",
        "                                                                                           dest_field=RU_TEXT, max_len=MAX_LEN, device=DEVICE)"
      ],
      "execution_count": 37,
      "outputs": [
        {
          "output_type": "stream",
          "text": [
            "100%|██████████| 7500/7500 [08:09<00:00, 15.33it/s]\n"
          ],
          "name": "stderr"
        }
      ]
    },
    {
      "cell_type": "code",
      "metadata": {
        "id": "_keF2reemIhs",
        "colab": {
          "base_uri": "https://localhost:8080/"
        },
        "outputId": "352acda8-0e03-4d43-cf1b-3bab1f3187a6"
      },
      "source": [
        "indexes = np.random.choice(1000, size=10, replace=False)\n",
        "\n",
        "for i in indexes:\n",
        "    text = f'Source: {sentences[i]}\\n'\n",
        "    text += f'Ground truth translation: {dest_sentences[i]}\\n'\n",
        "    text += f'Predicted translation: {translated_sentences[i]}\\n'\n",
        "    print(text)\n",
        "    print()"
      ],
      "execution_count": 38,
      "outputs": [
        {
          "output_type": "stream",
          "text": [
            "Source: located by berlin – kostrzyn route motelik lord offers rooms with free wi - fi .\n",
            "Ground truth translation: мотель motelik lord находится у шоссе берлин - костшин и располагает номерами с бесплатным wi - fi .\n",
            "Predicted translation: отель <unk> <unk> <unk> расположен на улице <unk> . к услугам гостей номера с бесплатным wi - fi .\n",
            "\n",
            "\n",
            "Source: kitchen area comes with a microwave , an electric kettle and a refrigerator .\n",
            "Ground truth translation: мини - кухня оборудована микроволновой печью , электрическим чайником и холодильником .\n",
            "Predicted translation: кухня оснащена микроволновой печью , холодильником и электрическим чайником .\n",
            "\n",
            "\n",
            "Source: a private bathroom features a shower with available towels in each non - smoking room .\n",
            "Ground truth translation: в каждом номере этого отеля для некурящих оборудована собственная ванная комната с душем .\n",
            "Predicted translation: в каждом номере есть собственная ванная комната с душем , полотенцами .\n",
            "\n",
            "\n",
            "Source: it is fitted with a living room , sound - proof walls , flat - screen tvs , minibar and a safety deposit box .\n",
            "Ground truth translation: в числе удобств гостиная , звукоизолированные стены , телевизоры с плоским экраном , мини - бар и сейф .\n",
            "Predicted translation: к услугам гостей гостиная , телевизор с плоским экраном , мини - бар , сейф , телевизор с плоским экраном и сейф .\n",
            "\n",
            "\n",
            "Source: towels are offered .\n",
            "Ground truth translation: полотенца входят в стоимость проживания .\n",
            "Predicted translation: гостям предоставляются полотенца .\n",
            "\n",
            "\n",
            "Source: the apartments have kitchen facilities including a microwave and a fridge .\n",
            "Ground truth translation: в апартаментах есть кухни с микроволновой печью и холодильником .\n",
            "Predicted translation: в апартаментах есть кухня с микроволновой печью и холодильником .\n",
            "\n",
            "\n",
            "Source: free private parking is possible on site .\n",
            "Ground truth translation: гостям предоставляется бесплатная парковка .\n",
            "Predicted translation: на территории обустроена бесплатная частная парковка .\n",
            "\n",
            "\n",
            "Source: the style is modern , with new furniture , white walls , and leather headboards .\n",
            "Ground truth translation: номера отличает интерьер в современном стиле с белыми стенами , новой мебелью и кроватями с кожаными изголовьями .\n",
            "Predicted translation: современный дизайн сочетается с мебелью , <unk> элементами декора и <unk> одеялами .\n",
            "\n",
            "\n",
            "Source: visitors can book soothing massages or relax in the gym after a long day .\n",
            "Ground truth translation: также в распоряжении гостей тренажерный зал и массажный кабинет , где можно снять усталость и напряжение после насыщенного дня .\n",
            "Predicted translation: гости могут заказать расслабляющий массаж в тренажерном зале и отдохнуть после долгого дня .\n",
            "\n",
            "\n",
            "Source: at hotel silver inn you will find facilities like car rental and laundry .\n",
            "Ground truth translation: в отеле silver inn предлагаются прокат автомобилей и прачечная .\n",
            "Predicted translation: в отеле silver inn есть прокат автомобилей и прачечная .\n",
            "\n",
            "\n"
          ],
          "name": "stdout"
        }
      ]
    },
    {
      "cell_type": "markdown",
      "metadata": {
        "id": "AQU5IpsG87Ly"
      },
      "source": [
        "### Results Table\n",
        "\n",
        "|                                                     Model                  | Complexity <br>(# of training parameters) | Training time<br>per an epoch* | Quality<br>(in BLEU)                                                                                                                                                                                          |\n",
        "|:------------------------------------------------------------------------------------------------------------------------------------------------------:|:-----------------------------------------:|:------------------------------:|:--------------------:|\n",
        "|                                               Transformer,<br> <br>epoch=50, hidden_size=512, n_layers=2, n_heads=8                                             |                 12,504,131                |          43 sec           |         32.3   \n",
        "\n",
        "* The time is a dependent parameter because I used Google Colab Pro but the time could be different on another machine."
      ]
    },
    {
      "cell_type": "code",
      "metadata": {
        "id": "7wLHAM4cmIht"
      },
      "source": [
        ""
      ],
      "execution_count": null,
      "outputs": []
    }
  ]
}