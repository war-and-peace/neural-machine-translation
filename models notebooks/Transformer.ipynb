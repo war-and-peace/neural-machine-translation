{
  "nbformat": 4,
  "nbformat_minor": 0,
  "metadata": {
    "kernelspec": {
      "display_name": "Python 3",
      "language": "python",
      "name": "python3"
    },
    "language_info": {
      "codemirror_mode": {
        "name": "ipython",
        "version": 3
      },
      "file_extension": ".py",
      "mimetype": "text/x-python",
      "name": "python",
      "nbconvert_exporter": "python",
      "pygments_lexer": "ipython3",
      "version": "3.6.9"
    },
    "colab": {
      "name": "transformer_model.ipynb",
      "provenance": [],
      "collapsed_sections": [
        "ELytCnwVmIhf",
        "r-JKljRgmIhg",
        "G3PvGh5OmIhh",
        "0vzOPa-DmIhi",
        "OJlGFrLpmIhj",
        "jdtTnRsTmIhk",
        "l_DJtsaCmIhm",
        "zi-q_IdhmIhn",
        "dIFwaKFGmIho",
        "JZhcsU8YmIho"
      ]
    },
    "accelerator": "GPU"
  },
  "cells": [
    {
      "cell_type": "code",
      "metadata": {
        "colab": {
          "base_uri": "https://localhost:8080/"
        },
        "id": "srRg5w1VmjFg",
        "outputId": "0d193c79-a198-4bfc-b79e-6e1c60c77ea1"
      },
      "source": [
        "from google.colab import drive\n",
        "drive.mount('/content/drive')"
      ],
      "execution_count": 2,
      "outputs": [
        {
          "output_type": "stream",
          "text": [
            "Mounted at /content/drive\n"
          ],
          "name": "stdout"
        }
      ]
    },
    {
      "cell_type": "code",
      "metadata": {
        "id": "0K6Nm0k3m4-1"
      },
      "source": [
        "!mkdir corpus\n",
        "!cp /content/drive/MyDrive/machine-translation-data/news-commentary-v12.ru-en.en ./corpus/\n",
        "!cp /content/drive/MyDrive/machine-translation-data/news-commentary-v12.ru-en.ru ./corpus/"
      ],
      "execution_count": 3,
      "outputs": []
    },
    {
      "cell_type": "code",
      "metadata": {
        "scrolled": true,
        "colab": {
          "base_uri": "https://localhost:8080/"
        },
        "id": "R7Sii5pYmIhY",
        "outputId": "376dec74-5597-489a-926f-0aef14c5968d"
      },
      "source": [
        "# !pip install torchtext --upgrade >> /dev/null 2>&1\n",
        "# !pip install spacy==2.1.8 >> /dev/null 2>&1\n",
        "# !python -m spacy download en >> /dev/null 2>&1\n",
        "# !pip install git+https://github.com/aatimofeev/spacy_russian_tokenizer.git >> /dev/null 2>&1\n",
        "# !pip install pymorphy2 >> /dev/null 2>&1"
      ],
      "execution_count": 4,
      "outputs": [
        {
          "output_type": "stream",
          "text": [
            "Collecting pymorphy2\n",
            "\u001b[?25l  Downloading https://files.pythonhosted.org/packages/07/57/b2ff2fae3376d4f3c697b9886b64a54b476e1a332c67eee9f88e7f1ae8c9/pymorphy2-0.9.1-py3-none-any.whl (55kB)\n",
            "\u001b[K     |████████████████████████████████| 61kB 6.8MB/s \n",
            "\u001b[?25hCollecting pymorphy2-dicts-ru<3.0,>=2.4\n",
            "\u001b[?25l  Downloading https://files.pythonhosted.org/packages/3a/79/bea0021eeb7eeefde22ef9e96badf174068a2dd20264b9a378f2be1cdd9e/pymorphy2_dicts_ru-2.4.417127.4579844-py2.py3-none-any.whl (8.2MB)\n",
            "\u001b[K     |████████████████████████████████| 8.2MB 6.7MB/s \n",
            "\u001b[?25hCollecting dawg-python>=0.7.1\n",
            "  Downloading https://files.pythonhosted.org/packages/6a/84/ff1ce2071d4c650ec85745766c0047ccc3b5036f1d03559fd46bb38b5eeb/DAWG_Python-0.7.2-py2.py3-none-any.whl\n",
            "Requirement already satisfied: docopt>=0.6 in /usr/local/lib/python3.6/dist-packages (from pymorphy2) (0.6.2)\n",
            "Installing collected packages: pymorphy2-dicts-ru, dawg-python, pymorphy2\n",
            "Successfully installed dawg-python-0.7.2 pymorphy2-0.9.1 pymorphy2-dicts-ru-2.4.417127.4579844\n"
          ],
          "name": "stdout"
        }
      ]
    },
    {
      "cell_type": "code",
      "metadata": {
        "id": "NnEQ8PIAmIha"
      },
      "source": [
        "import tqdm\n",
        "import spacy\n",
        "import warnings\n",
        "import numpy as np\n",
        "import pandas as pd\n",
        "import matplotlib.pyplot as plt\n",
        "%matplotlib inline\n",
        "\n",
        "from IPython.core.display import display, HTML\n",
        "\n",
        "import torch\n",
        "import torch.nn as nn\n",
        "import torch.nn.functional as F\n",
        "import torch.optim as optim\n",
        "\n",
        "from torchtext.data import Dataset, Example, Field\n",
        "from torchtext.data.iterator import BucketIterator\n",
        "from torchtext.data.metrics import bleu_score\n",
        "from torchtext.datasets import TranslationDataset\n",
        "\n",
        "from spacy.lang.ru import Russian\n",
        "from spacy_russian_tokenizer import RussianTokenizer, MERGE_PATTERNS"
      ],
      "execution_count": 1,
      "outputs": []
    },
    {
      "cell_type": "code",
      "metadata": {
        "colab": {
          "base_uri": "https://localhost:8080/"
        },
        "id": "Mp66_jw-mIhb",
        "outputId": "b6d0e1c5-57ed-495c-a9b6-94fe693b0b14"
      },
      "source": [
        "warnings.simplefilter(action='ignore', category=UserWarning)\n",
        "warnings.simplefilter(action='ignore', category=FutureWarning)\n",
        "warnings.simplefilter(action='ignore', category=RuntimeWarning)\n",
        "warnings.simplefilter(action='ignore', category=DeprecationWarning)\n",
        "\n",
        "SEED = 546\n",
        "np.random.seed(SEED)\n",
        "torch.manual_seed(SEED)\n",
        "torch.cuda.manual_seed(SEED)\n",
        "torch.backends.cudnn.deterministic = True\n",
        "\n",
        "DEVICE = torch.device('cuda' if torch.cuda.is_available() else 'cpu')\n",
        "print(f'Device: {DEVICE}')"
      ],
      "execution_count": 2,
      "outputs": [
        {
          "output_type": "stream",
          "text": [
            "Device: cuda\n"
          ],
          "name": "stdout"
        }
      ]
    },
    {
      "cell_type": "code",
      "metadata": {
        "id": "13tzudnfmIhc"
      },
      "source": [
        "en_tok = spacy.load(\"en\")\n",
        "\n",
        "def tokenize_en(sentence):\n",
        "    return [tok.text for tok in en_tok.tokenizer(sentence)]"
      ],
      "execution_count": 3,
      "outputs": []
    },
    {
      "cell_type": "code",
      "metadata": {
        "id": "yz1SR0iMmIhc"
      },
      "source": [
        "ru_nlp = Russian()\n",
        "russian_tokenizer = RussianTokenizer(ru_nlp, MERGE_PATTERNS)\n",
        "ru_nlp.add_pipe(russian_tokenizer, name='russian_tokenizer')\n",
        "\n",
        "def tokenize_ru(sentence):\n",
        "    return [tok.text for tok in ru_nlp(sentence)]"
      ],
      "execution_count": 4,
      "outputs": []
    },
    {
      "cell_type": "code",
      "metadata": {
        "id": "RfbaqnV-mIhd"
      },
      "source": [
        "EN_TEXT = Field(tokenize=tokenize_en, init_token='<sos>', eos_token='<eos>', lower=True, batch_first=True)\n",
        "RU_TEXT = Field(tokenize=tokenize_ru, init_token='<sos>', eos_token='<eos>', lower=True, batch_first=True)"
      ],
      "execution_count": 5,
      "outputs": []
    },
    {
      "cell_type": "code",
      "metadata": {
        "colab": {
          "base_uri": "https://localhost:8080/"
        },
        "id": "laFB1JaVmIhd",
        "outputId": "8072a4f0-a122-4daa-d11a-48212d9eb7d4"
      },
      "source": [
        "tokenize_ru(\"Привет, мир!\")"
      ],
      "execution_count": 6,
      "outputs": [
        {
          "output_type": "execute_result",
          "data": {
            "text/plain": [
              "['Привет', ',', 'мир', '!']"
            ]
          },
          "metadata": {
            "tags": []
          },
          "execution_count": 6
        }
      ]
    },
    {
      "cell_type": "code",
      "metadata": {
        "id": "8uRWdEjVmIhe"
      },
      "source": [
        "dataset = TranslationDataset(\n",
        "    path='./corpus/news-commentary-v12.ru-en', exts=('.en', '.ru'),\n",
        "    fields=(EN_TEXT, RU_TEXT))"
      ],
      "execution_count": 7,
      "outputs": []
    },
    {
      "cell_type": "code",
      "metadata": {
        "id": "d35zzXyRmIhe"
      },
      "source": [
        "train_data, valid_data, test_data = dataset.split(split_ratio=[0.7, 0.2, 0.1])"
      ],
      "execution_count": 8,
      "outputs": []
    },
    {
      "cell_type": "code",
      "metadata": {
        "colab": {
          "base_uri": "https://localhost:8080/"
        },
        "id": "u39bkRa2mIhe",
        "outputId": "ff12dd68-a481-4fc4-e213-6c3817e11c82"
      },
      "source": [
        "print(f'train set size: {len(train_data.examples):,}')\n",
        "print(f'valid set size: {len(valid_data.examples):,}')\n",
        "print(f'test set size: {len(test_data.examples):,}')\n",
        "print(vars(train_data.examples[0]))"
      ],
      "execution_count": 9,
      "outputs": [
        {
          "output_type": "stream",
          "text": [
            "train set size: 154,598\n",
            "valid set size: 22,085\n",
            "test set size: 44,171\n",
            "{'src': ['this', 'is', 'why', 'jeffrey', 'sachs', '’s', 'millennium', 'villages', 'project', 'has', 'faltered', ',', 'as', 'the', 'journalist', 'nina', 'munk', '’s', 'recent', 'book', 'shows', '.'], 'trg': ['визуальная', 'политика', 'террора', 'может', 'казаться', 'примитивной', ',', 'но', 'ее', 'практика', 'может', 'быть', 'такой', 'же', 'сложной', 'и', 'существенной', ',', 'какими', 'являются', 'ее', 'последствия', '.', 'подобно', 'древним', 'завоевателям', ',', 'которые', 'сооружали', 'новые', 'храмы', 'на', 'местах', ',', 'где', 'стояли', 'храмы', 'побежденных', ',', 'разрушители', 'башен', '-', 'близнецов', 'в', 'нью-йорке', 'использовали', 'визуальный', 'террор', ',', 'чтобы', 'нанести', 'удар', 'в', 'самое', 'сердце', 'системы', 'ценностей', 'своего', 'противника', '.']}\n"
          ],
          "name": "stdout"
        }
      ]
    },
    {
      "cell_type": "markdown",
      "metadata": {
        "id": "ELytCnwVmIhf"
      },
      "source": [
        "### Build vocabularies"
      ]
    },
    {
      "cell_type": "code",
      "metadata": {
        "colab": {
          "base_uri": "https://localhost:8080/"
        },
        "id": "4GC-fOXSmIhf",
        "outputId": "33c0939b-5e3b-47bf-ee26-a6d61b58ec2a"
      },
      "source": [
        "%%time\n",
        "MIN_COUNT = 8\n",
        "EN_TEXT.build_vocab(train_data, min_freq=MIN_COUNT)\n",
        "RU_TEXT.build_vocab(train_data, min_freq=MIN_COUNT)\n",
        "print(f'Length of EN vocabulary: {len(EN_TEXT.vocab):,}')\n",
        "print(f'Length of RU vocabulary: {len(RU_TEXT.vocab):,}')"
      ],
      "execution_count": 10,
      "outputs": [
        {
          "output_type": "stream",
          "text": [
            "Length of EN vocabulary: 18,138\n",
            "Length of RU vocabulary: 30,556\n",
            "CPU times: user 3.85 s, sys: 16 ms, total: 3.87 s\n",
            "Wall time: 3.87 s\n"
          ],
          "name": "stdout"
        }
      ]
    },
    {
      "cell_type": "markdown",
      "metadata": {
        "id": "7kOFPHsLmIhg"
      },
      "source": [
        "## Modeling"
      ]
    },
    {
      "cell_type": "markdown",
      "metadata": {
        "id": "r-JKljRgmIhg"
      },
      "source": [
        "### Multi Head Attention Layer"
      ]
    },
    {
      "cell_type": "code",
      "metadata": {
        "id": "zbLJQzOSmIhg"
      },
      "source": [
        "class MultiHeadAttentionLayer(nn.Module):\n",
        "\n",
        "    def __init__(self, d_model, n_heads):\n",
        "        super(MultiHeadAttentionLayer, self).__init__()\n",
        "        assert d_model % n_heads == 0\n",
        "        self.d_model = d_model\n",
        "        self.n_heads = n_heads\n",
        "        self.head_size = d_model // n_heads\n",
        "        self.fc_q = nn.Linear(d_model, d_model)\n",
        "        self.fc_k = nn.Linear(d_model, d_model)\n",
        "        self.fc_v = nn.Linear(d_model, d_model)\n",
        "        self.fc_o = nn.Linear(d_model, d_model)\n",
        "        \n",
        "    def forward(self, query, key, value, mask):\n",
        "        \"\"\"\n",
        "        :param Tensor[batch_size, q_len, d_model] query\n",
        "        :param Tensor[batch_size, k_len, d_model] key\n",
        "        :param Tensor[batch_size, v_len, d_model] value\n",
        "        :param Tensor[batch_size, ..., k_len] mask\n",
        "        :return Tensor[batch_size, q_len, d_model] context\n",
        "        :return Tensor[batch_size, n_heads, q_len, k_len] attention_weights\n",
        "        \"\"\"\n",
        "        Q = self.fc_q(query) # [batch_size, q_len, d_model]\n",
        "        K = self.fc_k(key) # [batch_size, k_len, d_model]\n",
        "        V = self.fc_v(value) # [batch_size, v_len, d_model]\n",
        "\n",
        "        Q = Q.view(Q.size(0), -1, self.n_heads, self.head_size).permute(0, 2, 1, 3) # [batch_size, n_heads, q_len, head_size]\n",
        "        K = K.view(K.size(0), -1, self.n_heads, self.head_size).permute(0, 2, 1, 3) # [batch_size, n_heads, k_len, head_size]\n",
        "        V = V.view(V.size(0), -1, self.n_heads, self.head_size).permute(0, 2, 1, 3) # [batch_size, n_heads, v_len, head_size]\n",
        "\n",
        "        scores = torch.matmul(Q, K.transpose(-1, -2)) # [batch_size, n_heads, q_len, k_len]\n",
        "        scores = scores / torch.sqrt(torch.FloatTensor([self.head_size]).to(Q.device))\n",
        "        if mask is not None:\n",
        "            scores = scores.masked_fill(mask == 0, -1e18)\n",
        "        attention_weights = F.softmax(scores , dim=-1) # [batch_size, n_heads, q_len, k_len]                \n",
        "        \n",
        "        context = torch.matmul(attention_weights, V) # [batch_size, n_heads, q_len, v_len]\n",
        "        context = context.permute(0, 2, 1, 3).contiguous() # [batch_size, q_len, n_heads, v_len]\n",
        "        context = context.view(context.size(0), -1, self.d_model)\n",
        "        context = self.fc_o(context) # [batch_size, q_len, d_model]\n",
        "\n",
        "        return context, attention_weights"
      ],
      "execution_count": 11,
      "outputs": []
    },
    {
      "cell_type": "markdown",
      "metadata": {
        "id": "G3PvGh5OmIhh"
      },
      "source": [
        "### Position-Wise Feed-Forward Layer"
      ]
    },
    {
      "cell_type": "code",
      "metadata": {
        "id": "mn4tkXL-mIhi"
      },
      "source": [
        "class PositionWiseFeedForwardLayer(nn.Module):\n",
        "    \n",
        "    def __init__(self, d_model, hidden_size):\n",
        "        super(PositionWiseFeedForwardLayer, self).__init__()\n",
        "        self.d_model = d_model\n",
        "        self.hidden_size = hidden_size\n",
        "        self.fc_in = nn.Linear(d_model, hidden_size)\n",
        "        self.fc_ou = nn.Linear(hidden_size, d_model)\n",
        "        \n",
        "    def forward(self, inputs):\n",
        "        \"\"\"\n",
        "        :param Tensor[batch_size, seq_len, d_model] inputs\n",
        "        :return Tensor[batch_size, seq_len, d_model] outputs\n",
        "        \"\"\"\n",
        "        outputs = F.relu(self.fc_in(inputs)) # [batch_size, seq_len, hidden_size]\n",
        "        return self.fc_ou(outputs) # [batch_size, seq_len, d_model]"
      ],
      "execution_count": 12,
      "outputs": []
    },
    {
      "cell_type": "markdown",
      "metadata": {
        "id": "0vzOPa-DmIhi"
      },
      "source": [
        "### Positional Encoding Layer"
      ]
    },
    {
      "cell_type": "code",
      "metadata": {
        "id": "Efrbyw8hmIhi"
      },
      "source": [
        "class PositionalEncodingLayer(nn.Module):\n",
        "    \n",
        "    def __init__(self, d_model, max_len=100):\n",
        "        super(PositionalEncodingLayer, self).__init__()\n",
        "        self.d_model = d_model\n",
        "        self.max_len = max_len\n",
        "    \n",
        "    def get_angles(self, positions, indexes):\n",
        "        d_model_tensor = torch.FloatTensor([[self.d_model]]).to(positions.device)\n",
        "        angle_rates = torch.pow(10000, (2 * (indexes.to(torch.float) // 2)) / d_model_tensor)\n",
        "        return positions.to(torch.float) / angle_rates\n",
        "\n",
        "    def forward(self, input_sequences):\n",
        "        \"\"\"\n",
        "        :param Tensor[batch_size, seq_len] input_sequences\n",
        "        :return Tensor[batch_size, seq_len, d_model] position_encoding\n",
        "        \"\"\"\n",
        "        positions = torch.arange(input_sequences.size(1)).unsqueeze(1).to(input_sequences.device) # [seq_len, 1]\n",
        "        indexes = torch.arange(self.d_model).unsqueeze(0).to(input_sequences.device) # [1, d_model]\n",
        "        angles = self.get_angles(positions, indexes) # [seq_len, d_model]\n",
        "        angles[:, 0::2] = torch.sin(angles[:, 0::2]) # apply sin to even indices in the tensor; 2i\n",
        "        angles[:, 1::2] = torch.cos(angles[:, 1::2]) # apply cos to odd indices in the tensor; 2i\n",
        "        position_encoding = angles.unsqueeze(0).repeat(input_sequences.size(0), 1, 1) # [batch_size, seq_len, d_model]\n",
        "        return position_encoding"
      ],
      "execution_count": 13,
      "outputs": []
    },
    {
      "cell_type": "markdown",
      "metadata": {
        "id": "OJlGFrLpmIhj"
      },
      "source": [
        "### Encoder Block Layer"
      ]
    },
    {
      "cell_type": "code",
      "metadata": {
        "id": "WWGGlGPNmIhj"
      },
      "source": [
        "class EncoderBlockLayer(nn.Module):\n",
        "    \n",
        "    def __init__(self, d_model, n_heads, hidden_size, dropout):\n",
        "        super(EncoderBlockLayer, self).__init__()\n",
        "        self.d_model = d_model\n",
        "        self.n_heads = n_heads\n",
        "        self.hidden_size = hidden_size\n",
        "        self.dropout = nn.Dropout(p=dropout)\n",
        "        self.multi_head_attention_layer = MultiHeadAttentionLayer(d_model=d_model, n_heads=n_heads)\n",
        "        self.multi_head_attention_layer_norm = nn.LayerNorm(d_model)\n",
        "        self.position_wise_feed_forward_layer = PositionWiseFeedForwardLayer(d_model=d_model, hidden_size=hidden_size)\n",
        "        self.position_wise_feed_forward_layer_norm = nn.LayerNorm(d_model)\n",
        "    \n",
        "    def forward(self, src_inputs, src_mask):\n",
        "        \"\"\"\n",
        "        :param Tensor[batch_size, src_len, d_model] src_inputs\n",
        "        :param Tensor[batch_size,  src_len] src_mask\n",
        "        :return Tensor[batch_size, src_len, d_model] outputs\n",
        "        \"\"\"\n",
        "        context, _ = self.multi_head_attention_layer(query=src_inputs, key=src_inputs, value=src_inputs, mask=src_mask)\n",
        "        context = self.multi_head_attention_layer_norm(self.dropout(context) + src_inputs)\n",
        "        \n",
        "        outputs = self.position_wise_feed_forward_layer(context)\n",
        "        outputs = self.position_wise_feed_forward_layer_norm(self.dropout(outputs) + context)\n",
        "        \n",
        "        return outputs"
      ],
      "execution_count": 14,
      "outputs": []
    },
    {
      "cell_type": "markdown",
      "metadata": {
        "id": "jdtTnRsTmIhk"
      },
      "source": [
        "### Decoder Block Layer"
      ]
    },
    {
      "cell_type": "code",
      "metadata": {
        "id": "bYPAhQkNmIhl"
      },
      "source": [
        "class DecoderBlockLayer(nn.Module):\n",
        "    \n",
        "    def __init__(self, d_model, n_heads, hidden_size, dropout):\n",
        "        super(DecoderBlockLayer, self).__init__()\n",
        "        self.d_model = d_model\n",
        "        self.n_heads = n_heads\n",
        "        self.hidden_size = hidden_size\n",
        "        self.dropout = nn.Dropout(p=dropout)\n",
        "        self.mask_multi_head_attention_layer = MultiHeadAttentionLayer(d_model=d_model, n_heads=n_heads)\n",
        "        self.mask_multi_head_attention_layer_norm = nn.LayerNorm(d_model)\n",
        "        self.multi_head_attention_layer = MultiHeadAttentionLayer(d_model=d_model, n_heads=n_heads)\n",
        "        self.multi_head_attention_layer_norm = nn.LayerNorm(d_model)\n",
        "        self.position_wise_feed_forward_layer = PositionWiseFeedForwardLayer(d_model=d_model, hidden_size=hidden_size)\n",
        "        self.position_wise_feed_forward_layer_norm = nn.LayerNorm(d_model)\n",
        "    \n",
        "    def forward(self, dest_inputs, src_encoded, dest_mask, src_mask):\n",
        "        \"\"\"\n",
        "        :param Tensor[batch_size, dest_len, d_model] dest_inputs\n",
        "        :param Tensor[batch_size, src_len, d_model] src_encoded\n",
        "        :param Tensor[batch_size,  dest_len] dest_mask\n",
        "        :param Tensor[batch_size,  src_len] src_mask\n",
        "        :return Tensor[batch_size, dest_len, d_model] outputs\n",
        "        :return Tensor[batch_size, n_heads, dest_len, src_len] attention_weights\n",
        "        \"\"\"\n",
        "        masked_context, _ = self.mask_multi_head_attention_layer(query=dest_inputs, key=dest_inputs, value=dest_inputs, mask=dest_mask)\n",
        "        masked_context = self.mask_multi_head_attention_layer_norm(self.dropout(masked_context) + dest_inputs)\n",
        "        \n",
        "        context, attention_weights = self.multi_head_attention_layer(query=masked_context, key=src_encoded, value=src_encoded, mask=src_mask)\n",
        "        context = self.multi_head_attention_layer_norm(self.dropout(context) + masked_context)\n",
        "        \n",
        "        outputs = self.position_wise_feed_forward_layer(context)\n",
        "        outputs = self.position_wise_feed_forward_layer_norm(self.dropout(outputs) + context)\n",
        "        \n",
        "        return outputs, attention_weights"
      ],
      "execution_count": 15,
      "outputs": []
    },
    {
      "cell_type": "markdown",
      "metadata": {
        "id": "l_DJtsaCmIhm"
      },
      "source": [
        "### Encoder Layer"
      ]
    },
    {
      "cell_type": "code",
      "metadata": {
        "id": "4RdteY-umIhm"
      },
      "source": [
        "class EncoderLayer(nn.Module):\n",
        "    \n",
        "    def __init__(self, vocab_size, max_len, d_model, n_heads, hidden_size, dropout, n_layers):\n",
        "        super(EncoderLayer, self).__init__()\n",
        "        self.vocab_size = vocab_size\n",
        "        self.max_len = max_len\n",
        "        self.d_model = d_model\n",
        "        self.n_heads = n_heads\n",
        "        self.hidden_size = hidden_size\n",
        "        self.dropout = nn.Dropout(p=dropout)\n",
        "        self.n_layers = n_layers\n",
        "        self.token_embedding = nn.Embedding(vocab_size, d_model)\n",
        "        self.position_encoding = PositionalEncodingLayer(d_model=d_model, max_len=max_len)\n",
        "        self.encoder_block_layers = nn.ModuleList([EncoderBlockLayer(d_model=d_model, n_heads=n_heads, hidden_size=hidden_size,\n",
        "                                                                     dropout=dropout) for _ in range(n_layers)])\n",
        "    \n",
        "    def forward(self, src_sequences, src_mask):\n",
        "        \"\"\"\n",
        "        :param Tensor[batch_size, src_len] src_sequences\n",
        "        :param Tensor[batch_size, src_len] src_mask\n",
        "        :return Tensor[batch_size, src_len, d_model] outputs\n",
        "        \"\"\"\n",
        "        token_embedded = self.token_embedding(src_sequences) # [batch_size, src_len, d_model]\n",
        "        position_encoded = self.position_encoding(src_sequences) # [batch_size, src_len, d_model]\n",
        "        outputs = self.dropout(token_embedded) + position_encoded # [batch_size, src_len, d_model]\n",
        "        for layer in self.encoder_block_layers:\n",
        "            outputs = layer(src_inputs=outputs, src_mask=src_mask) # [batch_size, src_len, d_model]\n",
        "        return outputs"
      ],
      "execution_count": 16,
      "outputs": []
    },
    {
      "cell_type": "markdown",
      "metadata": {
        "id": "zi-q_IdhmIhn"
      },
      "source": [
        "### Decoder Layer"
      ]
    },
    {
      "cell_type": "code",
      "metadata": {
        "id": "n6w3D0ufmIhn"
      },
      "source": [
        "class DecoderLayer(nn.Module):\n",
        "    \n",
        "    def __init__(self, vocab_size, max_len, d_model, n_heads, hidden_size, dropout, n_layers):\n",
        "        super(DecoderLayer, self).__init__()\n",
        "        self.vocab_size = vocab_size\n",
        "        self.max_len = max_len\n",
        "        self.d_model = d_model\n",
        "        self.n_heads = n_heads\n",
        "        self.hidden_size = hidden_size\n",
        "        self.dropout = nn.Dropout(p=dropout)\n",
        "        self.n_layers = n_layers\n",
        "        self.token_embedding = nn.Embedding(vocab_size, d_model)\n",
        "        self.position_encoding = PositionalEncodingLayer(d_model=d_model, max_len=max_len)\n",
        "        self.decoder_block_layers = nn.ModuleList([DecoderBlockLayer(d_model=d_model, n_heads=n_heads, hidden_size=hidden_size, dropout=dropout) for _ in range(n_layers)])\n",
        "        self.fc = nn.Linear(d_model, vocab_size)\n",
        "    \n",
        "    def forward(self, dest_sequences, src_encoded, dest_mask, src_mask):\n",
        "        \"\"\"\n",
        "        :param Tensor[batch_size, dest_len] dest_sequences\n",
        "        :param Tensor[batch_size, src_len, d_model] src_encoded\n",
        "        :param Tensor[batch_size, dest_len, d_model] dest_mask\n",
        "        :param Tensor[batch_size, src_len, d_model] src_mask\n",
        "        :return Tensor[batch_size, dest_len, vocab_size] logits\n",
        "        :return Tensor[batch_size, n_heads, dest_len, src_len] attention_weights\n",
        "        \"\"\"\n",
        "        token_embedded = self.token_embedding(dest_sequences) # [batch_size, dest_len, d_model]\n",
        "        position_encoded = self.position_encoding(dest_sequences) # [batch_size, dest_len, d_model]\n",
        "        outputs = self.dropout(token_embedded) + position_encoded # [batch_size, dest_len, d_model]\n",
        "        for layer in self.decoder_block_layers:\n",
        "            outputs, attention_weights = layer(dest_inputs=outputs, src_encoded=src_encoded, dest_mask=dest_mask, src_mask=src_mask)\n",
        "        logits = self.fc(outputs)\n",
        "        return logits, attention_weights"
      ],
      "execution_count": 17,
      "outputs": []
    },
    {
      "cell_type": "markdown",
      "metadata": {
        "id": "dIFwaKFGmIho"
      },
      "source": [
        "### Transformer Model"
      ]
    },
    {
      "cell_type": "code",
      "metadata": {
        "id": "7hUIswgvmIho"
      },
      "source": [
        "class Transformer(nn.Module):\n",
        "    \n",
        "    def __init__(self, encoder, decoder, src_pad_index, dest_pad_index):\n",
        "        super(Transformer, self).__init__()\n",
        "        self.encoder = encoder\n",
        "        self.decoder = decoder\n",
        "        self.src_pad_index = src_pad_index\n",
        "        self.dest_pad_index = dest_pad_index\n",
        "\n",
        "    def make_src_mask(self, src_sequences):\n",
        "        \"\"\"Mask <pad> tokens.\n",
        "        :param Tensor[batch_size, src_len] src_sequences\n",
        "        :return Tensor[batch size, 1, 1, src len] src_mask\n",
        "        \"\"\"        \n",
        "        src_mask = (src_sequences != self.src_pad_index).unsqueeze(1).unsqueeze(2)\n",
        "        return src_mask\n",
        "    \n",
        "    def make_dest_mask(self, dest_sequences):\n",
        "        \"\"\"Mask <pad> tokens and futur tokens as well.\n",
        "        :param Tensor[batch_size, dest_len] dest_sequences\n",
        "        :return tensor[batch_size, 1, dest_len, dest_len] dest_mask\n",
        "        \"\"\"\n",
        "        mask = (dest_sequences != self.dest_pad_index).unsqueeze(1).unsqueeze(2).to(torch.bool) # [batch size, 1, 1, trg len]\n",
        "        sub_mask = torch.tril(torch.ones((dest_sequences.size(1), dest_sequences.size(1))).to(dest_sequences.device)).to(torch.bool) # [trg len, trg len]        \n",
        "        return mask & sub_mask\n",
        "    \n",
        "    def forward(self, src_sequences, dest_sequences):\n",
        "        \"\"\"\n",
        "        :param Tensor[batch_size, src_len] src_sequences\n",
        "        :param Tensor[batch_size, dest_len] dest_sequences\n",
        "        :return Tensor[batch_size, dest_len, vocab_size] logits\n",
        "        :return Tensor[batch_size, n_heads, dest_len, src_len] attention_weights\n",
        "        \"\"\"\n",
        "        src_mask, dest_mask = self.make_src_mask(src_sequences), self.make_dest_mask(dest_sequences)\n",
        "        src_encoded = self.encoder(src_sequences=src_sequences, src_mask=src_mask)\n",
        "        logits, attention_weights = self.decoder(dest_sequences=dest_sequences, src_encoded=src_encoded, dest_mask=dest_mask, src_mask=src_mask)\n",
        "        return logits, attention_weights"
      ],
      "execution_count": 18,
      "outputs": []
    },
    {
      "cell_type": "markdown",
      "metadata": {
        "id": "JZhcsU8YmIho"
      },
      "source": [
        "### Training routines"
      ]
    },
    {
      "cell_type": "code",
      "metadata": {
        "id": "u675PFn0mIho"
      },
      "source": [
        "class AverageMeter:\n",
        "    \n",
        "    def __init__(self):\n",
        "        self.value = 0.\n",
        "        self.sum = 0.\n",
        "        self.count = 0\n",
        "        self.average = 0.\n",
        "        \n",
        "    def reset(self):\n",
        "        self.value = 0.\n",
        "        self.sum = 0.\n",
        "        self.count = 0\n",
        "        self.average = 0.\n",
        "        \n",
        "    def update(self, value, n=1):\n",
        "        self.value = value\n",
        "        self.sum += value * n\n",
        "        self.count += n\n",
        "        self.average = self.sum / self.count"
      ],
      "execution_count": 19,
      "outputs": []
    },
    {
      "cell_type": "code",
      "metadata": {
        "id": "eqR1OqZ3mIhp"
      },
      "source": [
        "def accuracy(outputs, target_sequences, k=5):\n",
        "    \"\"\" Calculate Top-k accuracy\n",
        "    :param Tensor[batch_size, dest_seq_len, vocab_size] outputs\n",
        "    :param Tensor[batch_size, dest_seq_len] target_sequences\n",
        "    :return float Top-k accuracy\n",
        "    \"\"\"\n",
        "    # print([*map(lambda token: EN.vocab.itos[token], outputs.argmax(dim=-1)[0].tolist())])\n",
        "    # print([*map(lambda token: EN.vocab.itos[token], target_sequences[0].tolist())])\n",
        "    # print(\"=\"*100)\n",
        "    batch_size = target_sequences.size(0)\n",
        "    _, indices = outputs.topk(k, dim=2, largest=True, sorted=True) # [batch_size, dest_seq_len, 5]\n",
        "    correct = indices.eq(target_sequences.unsqueeze(-1).expand_as(indices))\n",
        "    correct_total = correct.view(-1).float().sum()  # 0D tensor\n",
        "    return correct_total.item() * (100.0 / indices.numel())"
      ],
      "execution_count": 20,
      "outputs": []
    },
    {
      "cell_type": "code",
      "metadata": {
        "id": "esOC3Ki8mIhp"
      },
      "source": [
        "class Trainer:\n",
        "    \n",
        "    def __init__(self, model, optimizer, criterion):\n",
        "        self.model = model\n",
        "        self.optimizer = optimizer\n",
        "        self.criterion = criterion\n",
        "    \n",
        "    def train_step(self, loader, epoch, grad_clip):\n",
        "        loss_tracker, acc_tracker = AverageMeter(), AverageMeter()\n",
        "        self.model.train()\n",
        "        progress_bar = tqdm.tqdm(enumerate(loader), total=len(loader))\n",
        "        for i, batch in progress_bar:\n",
        "            src, trg = batch.src, batch.trg\n",
        "            self.optimizer.zero_grad()\n",
        "            logits, _ = self.model(src, trg[:, :-1]) # [batch_size, dest_len, vocab_size]\n",
        "            loss = self.criterion(logits.contiguous().view(-1, self.model.decoder.vocab_size), trg[:, 1:].contiguous().view(-1))\n",
        "            loss.backward()\n",
        "            nn.utils.clip_grad_norm_(self.model.parameters(), grad_clip)\n",
        "            self.optimizer.step()\n",
        "            loss_tracker.update(loss.item())\n",
        "            acc_tracker.update(accuracy(logits, trg[:, 1:]))\n",
        "            loss_, ppl_, acc_ = loss_tracker.average, np.exp(loss_tracker.average), acc_tracker.average\n",
        "            progress_bar.set_description(f'Epoch: {epoch+1:02d} -     loss: {loss_:.3f} -     ppl: {ppl_:.3f} -     acc: {acc_:.3f}%')\n",
        "        return loss_tracker.average, np.exp(loss_tracker.average), acc_tracker.average\n",
        "    \n",
        "    def validate(self, loader, epoch):\n",
        "        loss_tracker, acc_tracker = AverageMeter(), AverageMeter()\n",
        "        self.model.eval()\n",
        "        with torch.no_grad():\n",
        "            progress_bar = tqdm.tqdm(enumerate(loader), total=len(loader))\n",
        "            for i, batch in progress_bar:\n",
        "                src, trg = batch.src, batch.trg\n",
        "                logits, _ = self.model(src, trg[:, :-1]) # [batch_size, dest_len, vocab_size]\n",
        "                loss = self.criterion(logits.contiguous().view(-1, self.model.decoder.vocab_size), trg[:, 1:].contiguous().view(-1))\n",
        "                loss_tracker.update(loss.item())\n",
        "                acc_tracker.update(accuracy(logits, trg[:, 1:]))\n",
        "                loss_, ppl_, acc_ = loss_tracker.average, np.exp(loss_tracker.average), acc_tracker.average\n",
        "                progress_bar.set_description(f'Epoch: {epoch+1:02d} - val_loss: {loss_:.3f} - val_ppl: {ppl_:.3f} - val_acc: {acc_:.3f}%')\n",
        "        return loss_tracker.average, np.exp(loss_tracker.average), acc_tracker.average\n",
        "    \n",
        "    def train(self, train_loader, valid_loader, n_epochs, grad_clip):\n",
        "        history, best_loss = {'acc': [], 'loss': [], 'ppl': [], 'val_ppl': [], 'val_acc': [], 'val_loss': []}, np.inf\n",
        "        for epoch in range(n_epochs):\n",
        "            loss, ppl, acc = self.train_step(train_loader, epoch, grad_clip)\n",
        "            val_loss, val_ppl, val_acc = self.validate(valid_loader, epoch)\n",
        "            if best_loss > val_loss:\n",
        "                best_loss = val_loss\n",
        "                torch.save(self.model.state_dict(), './models/transformer.pth')\n",
        "            history['acc'].append(acc); history['val_acc'].append(val_acc)\n",
        "            history['ppl'].append(ppl); history['val_ppl'].append(val_ppl)\n",
        "            history['loss'].append(loss); history['val_loss'].append(val_loss)\n",
        "        return history"
      ],
      "execution_count": 21,
      "outputs": []
    },
    {
      "cell_type": "markdown",
      "metadata": {
        "id": "4zLK2C_OmIhp"
      },
      "source": [
        "### Train the model"
      ]
    },
    {
      "cell_type": "code",
      "metadata": {
        "id": "tuNSZZ-YmIhp"
      },
      "source": [
        "D_MODEL = 32\n",
        "N_LAYERS = 2\n",
        "N_HEADS = 8\n",
        "HIDDEN_SIZE = 64\n",
        "MAX_LEN = 50\n",
        "DROPOUT = 0.25\n",
        "BATCH_SIZE = 64\n",
        "LR = 1e-3\n",
        "N_EPOCHS = 10\n",
        "GRAD_CLIP = 1.0"
      ],
      "execution_count": 22,
      "outputs": []
    },
    {
      "cell_type": "code",
      "metadata": {
        "scrolled": true,
        "colab": {
          "base_uri": "https://localhost:8080/"
        },
        "id": "XimRFwZtmIhp",
        "outputId": "27746d6b-751d-425b-89ce-6118cbb3e3c4"
      },
      "source": [
        "transformer = Transformer(\n",
        "    encoder=EncoderLayer(\n",
        "        vocab_size=len(EN_TEXT.vocab),\n",
        "        max_len=MAX_LEN,\n",
        "        d_model=D_MODEL,\n",
        "        n_heads=N_HEADS,\n",
        "        hidden_size=HIDDEN_SIZE,\n",
        "        dropout=DROPOUT,\n",
        "        n_layers=N_LAYERS\n",
        "    ),\n",
        "    decoder=DecoderLayer(\n",
        "        vocab_size=len(RU_TEXT.vocab),\n",
        "        max_len=MAX_LEN,\n",
        "        d_model=D_MODEL,\n",
        "        n_heads=N_HEADS,\n",
        "        hidden_size=HIDDEN_SIZE,\n",
        "        dropout=DROPOUT,\n",
        "        n_layers=N_LAYERS\n",
        "    ),\n",
        "    src_pad_index=EN_TEXT.vocab.stoi[EN_TEXT.pad_token],\n",
        "    dest_pad_index=RU_TEXT.vocab.stoi[RU_TEXT.pad_token]\n",
        ").to(DEVICE)\n",
        "optimizer = optim.Adam(params=transformer.parameters(), lr=LR)\n",
        "criterion = nn.CrossEntropyLoss(ignore_index=RU_TEXT.vocab.stoi[RU_TEXT.pad_token])\n",
        "print(f'Number of parameters of the model: {sum(p.numel() for p in transformer.parameters() if p.requires_grad):,}')\n",
        "print(transformer)\n",
        "trainer = Trainer(model=transformer, optimizer=optimizer, criterion=criterion)"
      ],
      "execution_count": 25,
      "outputs": [
        {
          "output_type": "stream",
          "text": [
            "Number of parameters of the model: 2,609,308\n",
            "Transformer(\n",
            "  (encoder): EncoderLayer(\n",
            "    (dropout): Dropout(p=0.25, inplace=False)\n",
            "    (token_embedding): Embedding(18138, 32)\n",
            "    (position_encoding): PositionalEncodingLayer()\n",
            "    (encoder_block_layers): ModuleList(\n",
            "      (0): EncoderBlockLayer(\n",
            "        (dropout): Dropout(p=0.25, inplace=False)\n",
            "        (multi_head_attention_layer): MultiHeadAttentionLayer(\n",
            "          (fc_q): Linear(in_features=32, out_features=32, bias=True)\n",
            "          (fc_k): Linear(in_features=32, out_features=32, bias=True)\n",
            "          (fc_v): Linear(in_features=32, out_features=32, bias=True)\n",
            "          (fc_o): Linear(in_features=32, out_features=32, bias=True)\n",
            "        )\n",
            "        (multi_head_attention_layer_norm): LayerNorm((32,), eps=1e-05, elementwise_affine=True)\n",
            "        (position_wise_feed_forward_layer): PositionWiseFeedForwardLayer(\n",
            "          (fc_in): Linear(in_features=32, out_features=64, bias=True)\n",
            "          (fc_ou): Linear(in_features=64, out_features=32, bias=True)\n",
            "        )\n",
            "        (position_wise_feed_forward_layer_norm): LayerNorm((32,), eps=1e-05, elementwise_affine=True)\n",
            "      )\n",
            "      (1): EncoderBlockLayer(\n",
            "        (dropout): Dropout(p=0.25, inplace=False)\n",
            "        (multi_head_attention_layer): MultiHeadAttentionLayer(\n",
            "          (fc_q): Linear(in_features=32, out_features=32, bias=True)\n",
            "          (fc_k): Linear(in_features=32, out_features=32, bias=True)\n",
            "          (fc_v): Linear(in_features=32, out_features=32, bias=True)\n",
            "          (fc_o): Linear(in_features=32, out_features=32, bias=True)\n",
            "        )\n",
            "        (multi_head_attention_layer_norm): LayerNorm((32,), eps=1e-05, elementwise_affine=True)\n",
            "        (position_wise_feed_forward_layer): PositionWiseFeedForwardLayer(\n",
            "          (fc_in): Linear(in_features=32, out_features=64, bias=True)\n",
            "          (fc_ou): Linear(in_features=64, out_features=32, bias=True)\n",
            "        )\n",
            "        (position_wise_feed_forward_layer_norm): LayerNorm((32,), eps=1e-05, elementwise_affine=True)\n",
            "      )\n",
            "    )\n",
            "  )\n",
            "  (decoder): DecoderLayer(\n",
            "    (dropout): Dropout(p=0.25, inplace=False)\n",
            "    (token_embedding): Embedding(30556, 32)\n",
            "    (position_encoding): PositionalEncodingLayer()\n",
            "    (decoder_block_layers): ModuleList(\n",
            "      (0): DecoderBlockLayer(\n",
            "        (dropout): Dropout(p=0.25, inplace=False)\n",
            "        (mask_multi_head_attention_layer): MultiHeadAttentionLayer(\n",
            "          (fc_q): Linear(in_features=32, out_features=32, bias=True)\n",
            "          (fc_k): Linear(in_features=32, out_features=32, bias=True)\n",
            "          (fc_v): Linear(in_features=32, out_features=32, bias=True)\n",
            "          (fc_o): Linear(in_features=32, out_features=32, bias=True)\n",
            "        )\n",
            "        (mask_multi_head_attention_layer_norm): LayerNorm((32,), eps=1e-05, elementwise_affine=True)\n",
            "        (multi_head_attention_layer): MultiHeadAttentionLayer(\n",
            "          (fc_q): Linear(in_features=32, out_features=32, bias=True)\n",
            "          (fc_k): Linear(in_features=32, out_features=32, bias=True)\n",
            "          (fc_v): Linear(in_features=32, out_features=32, bias=True)\n",
            "          (fc_o): Linear(in_features=32, out_features=32, bias=True)\n",
            "        )\n",
            "        (multi_head_attention_layer_norm): LayerNorm((32,), eps=1e-05, elementwise_affine=True)\n",
            "        (position_wise_feed_forward_layer): PositionWiseFeedForwardLayer(\n",
            "          (fc_in): Linear(in_features=32, out_features=64, bias=True)\n",
            "          (fc_ou): Linear(in_features=64, out_features=32, bias=True)\n",
            "        )\n",
            "        (position_wise_feed_forward_layer_norm): LayerNorm((32,), eps=1e-05, elementwise_affine=True)\n",
            "      )\n",
            "      (1): DecoderBlockLayer(\n",
            "        (dropout): Dropout(p=0.25, inplace=False)\n",
            "        (mask_multi_head_attention_layer): MultiHeadAttentionLayer(\n",
            "          (fc_q): Linear(in_features=32, out_features=32, bias=True)\n",
            "          (fc_k): Linear(in_features=32, out_features=32, bias=True)\n",
            "          (fc_v): Linear(in_features=32, out_features=32, bias=True)\n",
            "          (fc_o): Linear(in_features=32, out_features=32, bias=True)\n",
            "        )\n",
            "        (mask_multi_head_attention_layer_norm): LayerNorm((32,), eps=1e-05, elementwise_affine=True)\n",
            "        (multi_head_attention_layer): MultiHeadAttentionLayer(\n",
            "          (fc_q): Linear(in_features=32, out_features=32, bias=True)\n",
            "          (fc_k): Linear(in_features=32, out_features=32, bias=True)\n",
            "          (fc_v): Linear(in_features=32, out_features=32, bias=True)\n",
            "          (fc_o): Linear(in_features=32, out_features=32, bias=True)\n",
            "        )\n",
            "        (multi_head_attention_layer_norm): LayerNorm((32,), eps=1e-05, elementwise_affine=True)\n",
            "        (position_wise_feed_forward_layer): PositionWiseFeedForwardLayer(\n",
            "          (fc_in): Linear(in_features=32, out_features=64, bias=True)\n",
            "          (fc_ou): Linear(in_features=64, out_features=32, bias=True)\n",
            "        )\n",
            "        (position_wise_feed_forward_layer_norm): LayerNorm((32,), eps=1e-05, elementwise_affine=True)\n",
            "      )\n",
            "    )\n",
            "    (fc): Linear(in_features=32, out_features=30556, bias=True)\n",
            "  )\n",
            ")\n"
          ],
          "name": "stdout"
        }
      ]
    },
    {
      "cell_type": "code",
      "metadata": {
        "colab": {
          "base_uri": "https://localhost:8080/"
        },
        "id": "qd8AOS1vmIhq",
        "outputId": "f76089f4-992d-45ec-c6ef-7e7b070f8d1b"
      },
      "source": [
        "train_iterator, valid_iterator, _ =  BucketIterator.splits((train_data, valid_data, test_data), batch_size=BATCH_SIZE, device=DEVICE)\n",
        "history = trainer.train(train_loader=train_iterator, valid_loader=valid_iterator, n_epochs=N_EPOCHS, grad_clip=GRAD_CLIP)"
      ],
      "execution_count": 26,
      "outputs": [
        {
          "output_type": "stream",
          "text": [
            "Epoch: 01 -     loss: 6.718 -     ppl: 826.944 -     acc: 2.114%: 100%|██████████| 2416/2416 [02:25<00:00, 16.60it/s]\n",
            "Epoch: 01 - val_loss: 6.158 - val_ppl: 472.693 - val_acc: 6.044%: 100%|██████████| 346/346 [00:06<00:00, 52.87it/s]\n",
            "Epoch: 02 -     loss: 6.150 -     ppl: 468.672 -     acc: 2.399%: 100%|██████████| 2416/2416 [02:27<00:00, 16.43it/s]\n",
            "Epoch: 02 - val_loss: 5.858 - val_ppl: 349.954 - val_acc: 6.420%: 100%|██████████| 346/346 [00:06<00:00, 53.81it/s]\n",
            "Epoch: 03 -     loss: 5.918 -     ppl: 371.496 -     acc: 2.516%: 100%|██████████| 2416/2416 [02:26<00:00, 16.50it/s]\n",
            "Epoch: 03 - val_loss: 5.683 - val_ppl: 293.744 - val_acc: 6.643%: 100%|██████████| 346/346 [00:06<00:00, 54.56it/s]\n",
            "Epoch: 04 -     loss: 5.771 -     ppl: 320.899 -     acc: 2.576%: 100%|██████████| 2416/2416 [02:26<00:00, 16.52it/s]\n",
            "Epoch: 04 - val_loss: 5.572 - val_ppl: 262.831 - val_acc: 6.794%: 100%|██████████| 346/346 [00:06<00:00, 54.36it/s]\n",
            "Epoch: 05 -     loss: 5.666 -     ppl: 288.800 -     acc: 2.632%: 100%|██████████| 2416/2416 [02:27<00:00, 16.37it/s]\n",
            "Epoch: 05 - val_loss: 5.491 - val_ppl: 242.512 - val_acc: 6.900%: 100%|██████████| 346/346 [00:06<00:00, 53.18it/s]\n",
            "Epoch: 06 -     loss: 5.585 -     ppl: 266.526 -     acc: 2.663%: 100%|██████████| 2416/2416 [02:26<00:00, 16.44it/s]\n",
            "Epoch: 06 - val_loss: 5.424 - val_ppl: 226.826 - val_acc: 6.989%: 100%|██████████| 346/346 [00:06<00:00, 52.51it/s]\n",
            "Epoch: 07 -     loss: 5.522 -     ppl: 250.251 -     acc: 2.702%: 100%|██████████| 2416/2416 [02:25<00:00, 16.55it/s]\n",
            "Epoch: 07 - val_loss: 5.384 - val_ppl: 217.938 - val_acc: 7.035%: 100%|██████████| 346/346 [00:06<00:00, 54.09it/s]\n",
            "Epoch: 08 -     loss: 5.471 -     ppl: 237.581 -     acc: 2.728%: 100%|██████████| 2416/2416 [02:26<00:00, 16.52it/s]\n",
            "Epoch: 08 - val_loss: 5.342 - val_ppl: 208.868 - val_acc: 7.099%: 100%|██████████| 346/346 [00:06<00:00, 53.41it/s]\n",
            "Epoch: 09 -     loss: 5.427 -     ppl: 227.473 -     acc: 2.741%: 100%|██████████| 2416/2416 [02:26<00:00, 16.52it/s]\n",
            "Epoch: 09 - val_loss: 5.306 - val_ppl: 201.466 - val_acc: 7.145%: 100%|██████████| 346/346 [00:06<00:00, 52.84it/s]\n",
            "Epoch: 10 -     loss: 5.390 -     ppl: 219.261 -     acc: 2.769%: 100%|██████████| 2416/2416 [02:25<00:00, 16.56it/s]\n",
            "Epoch: 10 - val_loss: 5.276 - val_ppl: 195.576 - val_acc: 7.194%: 100%|██████████| 346/346 [00:06<00:00, 53.50it/s]\n"
          ],
          "name": "stderr"
        }
      ]
    },
    {
      "cell_type": "code",
      "metadata": {
        "colab": {
          "base_uri": "https://localhost:8080/"
        },
        "id": "h4ybctUVAYK8",
        "outputId": "96c805d6-17f1-4b81-e491-54876f369402"
      },
      "source": [
        "!nvidia-smi"
      ],
      "execution_count": 27,
      "outputs": [
        {
          "output_type": "stream",
          "text": [
            "Sun Feb 21 16:16:49 2021       \n",
            "+-----------------------------------------------------------------------------+\n",
            "| NVIDIA-SMI 460.39       Driver Version: 460.32.03    CUDA Version: 11.2     |\n",
            "|-------------------------------+----------------------+----------------------+\n",
            "| GPU  Name        Persistence-M| Bus-Id        Disp.A | Volatile Uncorr. ECC |\n",
            "| Fan  Temp  Perf  Pwr:Usage/Cap|         Memory-Usage | GPU-Util  Compute M. |\n",
            "|                               |                      |               MIG M. |\n",
            "|===============================+======================+======================|\n",
            "|   0  Tesla V100-SXM2...  Off  | 00000000:00:04.0 Off |                    0 |\n",
            "| N/A   42C    P0    40W / 300W |  10181MiB / 16160MiB |      0%      Default |\n",
            "|                               |                      |                  N/A |\n",
            "+-------------------------------+----------------------+----------------------+\n",
            "                                                                               \n",
            "+-----------------------------------------------------------------------------+\n",
            "| Processes:                                                                  |\n",
            "|  GPU   GI   CI        PID   Type   Process name                  GPU Memory |\n",
            "|        ID   ID                                                   Usage      |\n",
            "|=============================================================================|\n",
            "+-----------------------------------------------------------------------------+\n"
          ],
          "name": "stdout"
        }
      ]
    },
    {
      "cell_type": "code",
      "metadata": {
        "colab": {
          "base_uri": "https://localhost:8080/",
          "height": 350
        },
        "id": "gFcY3q9dmIhr",
        "outputId": "05d75d82-93ea-4a7b-c831-4590e9668b88"
      },
      "source": [
        "_, axes = plt.subplots(1, 3, figsize=(15, 5))\n",
        "\n",
        "axes[0].plot(history['loss'], label='train')\n",
        "axes[0].plot(history['val_loss'], label='valid')\n",
        "axes[0].set_title('Loss history')\n",
        "axes[0].set_xlabel('Epoch')\n",
        "axes[0].set_ylabel('Loss')\n",
        "axes[0].grid(True)\n",
        "axes[0].legend()\n",
        "\n",
        "axes[1].plot(history['ppl'], label='train')\n",
        "axes[1].plot(history['val_ppl'], label='valid')\n",
        "axes[1].set_title('Perplexity history')\n",
        "axes[1].set_xlabel('Epoch')\n",
        "axes[1].set_ylabel('Perplexity')\n",
        "axes[1].grid(True)\n",
        "axes[1].legend()\n",
        "\n",
        "axes[2].plot(history['acc'], label='train')\n",
        "axes[2].plot(history['val_acc'], label='valid')\n",
        "axes[2].set_title('Top-5 Accuracy & BLEU-4 history')\n",
        "axes[2].set_xlabel('Epoch')\n",
        "axes[2].set_ylabel('Accuracy & BLEU-4 (%)')\n",
        "axes[2].grid(True)\n",
        "axes[2].legend()\n",
        "\n",
        "plt.show()"
      ],
      "execution_count": 28,
      "outputs": [
        {
          "output_type": "display_data",
          "data": {
            "image/png": "[encoded data removed]",
            "text/plain": [
              "<Figure size 1080x360 with 3 Axes>"
            ]
          },
          "metadata": {
            "tags": [],
            "needs_background": "light"
          }
        }
      ]
    },
    {
      "cell_type": "code",
      "metadata": {
        "colab": {
          "base_uri": "https://localhost:8080/"
        },
        "id": "K_pcK8xOmIhr",
        "outputId": "f8c46920-6b92-4d9c-e6d3-fdeb8ebbb5bf"
      },
      "source": [
        "transformer.load_state_dict(torch.load('./models/transformer.pth'))\n",
        "transformer.to(DEVICE)"
      ],
      "execution_count": 29,
      "outputs": [
        {
          "output_type": "execute_result",
          "data": {
            "text/plain": [
              "Transformer(\n",
              "  (encoder): EncoderLayer(\n",
              "    (dropout): Dropout(p=0.25, inplace=False)\n",
              "    (token_embedding): Embedding(18138, 32)\n",
              "    (position_encoding): PositionalEncodingLayer()\n",
              "    (encoder_block_layers): ModuleList(\n",
              "      (0): EncoderBlockLayer(\n",
              "        (dropout): Dropout(p=0.25, inplace=False)\n",
              "        (multi_head_attention_layer): MultiHeadAttentionLayer(\n",
              "          (fc_q): Linear(in_features=32, out_features=32, bias=True)\n",
              "          (fc_k): Linear(in_features=32, out_features=32, bias=True)\n",
              "          (fc_v): Linear(in_features=32, out_features=32, bias=True)\n",
              "          (fc_o): Linear(in_features=32, out_features=32, bias=True)\n",
              "        )\n",
              "        (multi_head_attention_layer_norm): LayerNorm((32,), eps=1e-05, elementwise_affine=True)\n",
              "        (position_wise_feed_forward_layer): PositionWiseFeedForwardLayer(\n",
              "          (fc_in): Linear(in_features=32, out_features=64, bias=True)\n",
              "          (fc_ou): Linear(in_features=64, out_features=32, bias=True)\n",
              "        )\n",
              "        (position_wise_feed_forward_layer_norm): LayerNorm((32,), eps=1e-05, elementwise_affine=True)\n",
              "      )\n",
              "      (1): EncoderBlockLayer(\n",
              "        (dropout): Dropout(p=0.25, inplace=False)\n",
              "        (multi_head_attention_layer): MultiHeadAttentionLayer(\n",
              "          (fc_q): Linear(in_features=32, out_features=32, bias=True)\n",
              "          (fc_k): Linear(in_features=32, out_features=32, bias=True)\n",
              "          (fc_v): Linear(in_features=32, out_features=32, bias=True)\n",
              "          (fc_o): Linear(in_features=32, out_features=32, bias=True)\n",
              "        )\n",
              "        (multi_head_attention_layer_norm): LayerNorm((32,), eps=1e-05, elementwise_affine=True)\n",
              "        (position_wise_feed_forward_layer): PositionWiseFeedForwardLayer(\n",
              "          (fc_in): Linear(in_features=32, out_features=64, bias=True)\n",
              "          (fc_ou): Linear(in_features=64, out_features=32, bias=True)\n",
              "        )\n",
              "        (position_wise_feed_forward_layer_norm): LayerNorm((32,), eps=1e-05, elementwise_affine=True)\n",
              "      )\n",
              "    )\n",
              "  )\n",
              "  (decoder): DecoderLayer(\n",
              "    (dropout): Dropout(p=0.25, inplace=False)\n",
              "    (token_embedding): Embedding(30556, 32)\n",
              "    (position_encoding): PositionalEncodingLayer()\n",
              "    (decoder_block_layers): ModuleList(\n",
              "      (0): DecoderBlockLayer(\n",
              "        (dropout): Dropout(p=0.25, inplace=False)\n",
              "        (mask_multi_head_attention_layer): MultiHeadAttentionLayer(\n",
              "          (fc_q): Linear(in_features=32, out_features=32, bias=True)\n",
              "          (fc_k): Linear(in_features=32, out_features=32, bias=True)\n",
              "          (fc_v): Linear(in_features=32, out_features=32, bias=True)\n",
              "          (fc_o): Linear(in_features=32, out_features=32, bias=True)\n",
              "        )\n",
              "        (mask_multi_head_attention_layer_norm): LayerNorm((32,), eps=1e-05, elementwise_affine=True)\n",
              "        (multi_head_attention_layer): MultiHeadAttentionLayer(\n",
              "          (fc_q): Linear(in_features=32, out_features=32, bias=True)\n",
              "          (fc_k): Linear(in_features=32, out_features=32, bias=True)\n",
              "          (fc_v): Linear(in_features=32, out_features=32, bias=True)\n",
              "          (fc_o): Linear(in_features=32, out_features=32, bias=True)\n",
              "        )\n",
              "        (multi_head_attention_layer_norm): LayerNorm((32,), eps=1e-05, elementwise_affine=True)\n",
              "        (position_wise_feed_forward_layer): PositionWiseFeedForwardLayer(\n",
              "          (fc_in): Linear(in_features=32, out_features=64, bias=True)\n",
              "          (fc_ou): Linear(in_features=64, out_features=32, bias=True)\n",
              "        )\n",
              "        (position_wise_feed_forward_layer_norm): LayerNorm((32,), eps=1e-05, elementwise_affine=True)\n",
              "      )\n",
              "      (1): DecoderBlockLayer(\n",
              "        (dropout): Dropout(p=0.25, inplace=False)\n",
              "        (mask_multi_head_attention_layer): MultiHeadAttentionLayer(\n",
              "          (fc_q): Linear(in_features=32, out_features=32, bias=True)\n",
              "          (fc_k): Linear(in_features=32, out_features=32, bias=True)\n",
              "          (fc_v): Linear(in_features=32, out_features=32, bias=True)\n",
              "          (fc_o): Linear(in_features=32, out_features=32, bias=True)\n",
              "        )\n",
              "        (mask_multi_head_attention_layer_norm): LayerNorm((32,), eps=1e-05, elementwise_affine=True)\n",
              "        (multi_head_attention_layer): MultiHeadAttentionLayer(\n",
              "          (fc_q): Linear(in_features=32, out_features=32, bias=True)\n",
              "          (fc_k): Linear(in_features=32, out_features=32, bias=True)\n",
              "          (fc_v): Linear(in_features=32, out_features=32, bias=True)\n",
              "          (fc_o): Linear(in_features=32, out_features=32, bias=True)\n",
              "        )\n",
              "        (multi_head_attention_layer_norm): LayerNorm((32,), eps=1e-05, elementwise_affine=True)\n",
              "        (position_wise_feed_forward_layer): PositionWiseFeedForwardLayer(\n",
              "          (fc_in): Linear(in_features=32, out_features=64, bias=True)\n",
              "          (fc_ou): Linear(in_features=64, out_features=32, bias=True)\n",
              "        )\n",
              "        (position_wise_feed_forward_layer_norm): LayerNorm((32,), eps=1e-05, elementwise_affine=True)\n",
              "      )\n",
              "    )\n",
              "    (fc): Linear(in_features=32, out_features=30556, bias=True)\n",
              "  )\n",
              ")"
            ]
          },
          "metadata": {
            "tags": []
          },
          "execution_count": 29
        }
      ]
    },
    {
      "cell_type": "code",
      "metadata": {
        "id": "Q8LxG1gYiwJX"
      },
      "source": [
        "def find_path(tree):\n",
        "    path = []\n",
        "    for nodes in reversed(tree):\n",
        "        if len(path) == 0:\n",
        "            path.append(nodes[0])\n",
        "        else:\n",
        "            parent_id = path[-1].parent_id\n",
        "            for node in nodes:\n",
        "                if node.id == parent_id:\n",
        "                    path.append(node)\n",
        "    return path\n",
        "\n",
        "def find_best_path(tree):\n",
        "    best = []\n",
        "    for nodes in reversed(tree):\n",
        "        if len(best) == 0:\n",
        "            best.append(nodes[0])\n",
        "        else:\n",
        "            nodes_eos = []\n",
        "            parent_id = best[-1].parent_id\n",
        "            for node in nodes:\n",
        "                if node.eos:\n",
        "                    nodes_eos.append(node)\n",
        "                if node.id == parent_id:\n",
        "                    best.append(node)\n",
        "            if len(nodes_eos) > 0:\n",
        "                candidates = sorted([best[-1], *nodes_eos],\n",
        "                                    key=lambda node: node.logps,\n",
        "                                    reverse=True)\n",
        "                candidate = candidates[0]\n",
        "                if candidate.eos:\n",
        "                    best = [candidate]\n",
        "    return best\n",
        "\n",
        "class Node:\n",
        "    id = 0\n",
        "    \n",
        "    def __init__(self, token, states, logp=0., parent=None, eos=False):\n",
        "        self.id = self.__class__.id_\n",
        "        self.token = token\n",
        "        self.states = states\n",
        "        self.logp = logp\n",
        "        self.parent_id = None if parent is None else parent.id\n",
        "        self.eos = eos\n",
        "        self.level = 0 if parent is None else parent.level + 1\n",
        "        self.logps = logp if parent is None else parent.logps + logp\n",
        "        self.__class__.id_ += 1\n",
        "        \n",
        "    def __str__(self):\n",
        "        return f'Node[id={self.__id}, ' + \\\n",
        "                    f'index={EN.vocab.itos[self.__token.cpu().item()]}, ' + \\\n",
        "                    f'logp={self.__logp}, ' + \\\n",
        "                    f'logps={self.__logps}, ' + \\\n",
        "                    f'parent_id={self.__parent_id}, ' + \\\n",
        "                    f'level={self.__level}]'"
      ],
      "execution_count": null,
      "outputs": []
    },
    {
      "cell_type": "code",
      "metadata": {
        "id": "ScoI5AN1mIhr"
      },
      "source": [
        "def evaluate(model, data, beam_size, src_field, dest_field, max_len, device):\n",
        "    src_sentences = [*map(lambda example: example.src, data.examples)]\n",
        "    dest_sentences = [*map(lambda example: example.trg, data.examples)]\n",
        "    data = [*zip([*map(lambda word_list: src_field.process([word_list]), src_sentences)],\n",
        "                 [*map(lambda word_list: dest_field.process([word_list]), dest_sentences)])]\n",
        "    references, hypotheses, sources = [], [], []\n",
        "    model.eval()\n",
        "    with torch.no_grad():\n",
        "        for i, (src_sequence, dest_sequence) in tqdm.tqdm(enumerate(data[:1000]), total=1000, position=0, leave=True):\n",
        "            src_sequence, dest_sequence = src_sequence.to(device), dest_sequence.to(device)\n",
        "            src_mask = model.make_src_mask(src_sequence)\n",
        "            src_encoded = model.encoder(src_sequences=src_sequence, src_mask=src_mask)\n",
        "            # Decoding\n",
        "            tree = [[Node(token=torch.LongTensor([dest_field.vocab.stoi[dest_field.init_token]]).to(device), states=None)]]\n",
        "            for _ in range(max_len):\n",
        "                next_nodes = []\n",
        "                for node in tree[-1]:\n",
        "                    if node.eos: # Skip eos token\n",
        "                        continue\n",
        "                    # Get tokens that're already translated\n",
        "                    already_translated = torch.LongTensor([*map(lambda node: node.token, find_path(tree))][::-1]).unsqueeze(0).to(device)\n",
        "                    dest_mask = model.make_dest_mask(already_translated)\n",
        "                    logit, _ = model.decoder(dest_sequences=already_translated, src_encoded=src_encoded,\n",
        "                                              dest_mask=dest_mask, src_mask=src_mask) # [1, dest_seq_len, vocab_size]                    \n",
        "                    logp = F.log_softmax(logit[:, -1, :], dim=1).squeeze(dim=0) # [vocab_size] Get scores                    \n",
        "                    topk_logps, topk_tokens = torch.topk(logp, beam_size) # Get top k tokens & logps                    \n",
        "                    for k in range(beam_size):\n",
        "                        next_nodes.append(Node(token=topk_tokens[k, None], states=None,\n",
        "                                               logp=topk_logps[k, None].cpu().item(), parent=node,\n",
        "                                               eos=topk_tokens[k].cpu().item() == dest_field.vocab[dest_field.eos_token]))\n",
        "                if len(next_nodes) == 0:\n",
        "                    break\n",
        "                next_nodes = sorted(next_nodes, key=lambda node: node.logps, reverse=True) # Sort next_nodes to get the best\n",
        "                tree.append(next_nodes[:beam_size]) # Update the tree\n",
        "            best_path = find_best_path(tree) # Find the best path of the tree\n",
        "\n",
        "            # Get the translation\n",
        "            pred_translated = [*map(lambda node: dest_field.vocab.itos[node.token], best_path)]\n",
        "            pred_translated = [*filter(lambda word: word not in [dest_field.init_token, dest_field.eos_token], pred_translated[::-1])]\n",
        "\n",
        "            hypotheses.append(pred_translated) # Update hypotheses\n",
        "\n",
        "            # Update references\n",
        "            references.append([[dest_field.vocab.itos[indice] for indice in dest_sequence[0] if indice not in (\n",
        "                dest_field.vocab.stoi[dest_field.init_token],\n",
        "                dest_field.vocab.stoi[dest_field.eos_token],\n",
        "                dest_field.vocab.stoi[dest_field.pad_token]\n",
        "            )]])\n",
        "\n",
        "            # Update sources\n",
        "            sources.append([src_field.vocab.itos[indice]  for indice in src_sequence[0] if indice not in (\n",
        "                src_field.vocab.stoi[src_field.init_token],\n",
        "                src_field.vocab.stoi[src_field.eos_token],\n",
        "                src_field.vocab.stoi[src_field.pad_token]\n",
        "            )])\n",
        "    \n",
        "        assert len(hypotheses) == len(references) == len(sources)\n",
        "        bleu4 = bleu_score(hypotheses, references, max_n=4, weights=[0.25, 0.25, 0.25, 0.25]) # Calculate BLEU-4 score\n",
        "    return hypotheses, references, sources, bleu4"
      ],
      "execution_count": 48,
      "outputs": []
    },
    {
      "cell_type": "code",
      "metadata": {
        "colab": {
          "base_uri": "https://localhost:8080/"
        },
        "id": "8Z4YL6aemIhr",
        "outputId": "b624bb6f-3215-4352-acaf-15978bccb0e8"
      },
      "source": [
        "bleu_scores = []\n",
        "for beam_size in [1, 3]:\n",
        "    for name, data in [('validation', valid_data), ('test', test_data)]:\n",
        "        _, _, _, bleu4 = evaluate(model=transformer, data=data, beam_size=beam_size, src_field=EN_TEXT, dest_field=RU_TEXT, max_len=MAX_LEN, device=DEVICE)\n",
        "        bleu_scores.append((beam_size, name, bleu4))\n",
        "        \n",
        "for score in bleu_scores:\n",
        "    print(f'BLEU-4: {score[2]*100:.3f}% with beam_size={score[0]} on {score[1]} data')"
      ],
      "execution_count": 49,
      "outputs": [
        {
          "output_type": "stream",
          "text": [
            "100%|██████████| 1000/1000 [02:41<00:00,  6.19it/s]\n",
            "100%|██████████| 1000/1000 [02:42<00:00,  6.16it/s]\n",
            "100%|██████████| 1000/1000 [07:48<00:00,  2.13it/s]\n",
            "100%|██████████| 1000/1000 [07:47<00:00,  2.14it/s]\n"
          ],
          "name": "stderr"
        },
        {
          "output_type": "stream",
          "text": [
            "BLEU-4: 1.276% with beam_size=1 on validation data\n",
            "BLEU-4: 1.258% with beam_size=1 on test data\n",
            "BLEU-4: 1.276% with beam_size=3 on validation data\n",
            "BLEU-4: 1.258% with beam_size=3 on test data\n"
          ],
          "name": "stdout"
        }
      ]
    },
    {
      "cell_type": "markdown",
      "metadata": {
        "id": "tH6X3gMImIhs"
      },
      "source": [
        "## Inference"
      ]
    },
    {
      "cell_type": "code",
      "metadata": {
        "id": "-TzuCX4wmIhs"
      },
      "source": [
        "def translate(sentences, model, beam_size, src_field, dest_field, max_len, device):\n",
        "    if isinstance(sentences, list):\n",
        "        sentences = [*map(src_field.preprocess, sentences)]\n",
        "        targets = None\n",
        "    if isinstance(sentences, Dataset):\n",
        "        targets = [*map(lambda example: ' '.join(example.trg), sentences.examples)]\n",
        "        sentences = [*map(lambda example: example.src, sentences.examples)]\n",
        "    data = [*map(lambda word_list: src_field.process([word_list]), sentences)]\n",
        "    translated_sentences, attention_weights, pred_logps = [], [], []\n",
        "    model.eval()\n",
        "    with torch.no_grad():\n",
        "        for i, src_sequence in tqdm.tqdm(enumerate(data[:1000]), total=1000, position=0, leave=True):\n",
        "            src_sequence = src_sequence.to(device)\n",
        "            src_mask = model.make_src_mask(src_sequence)\n",
        "            src_encoded = model.encoder(src_sequences=src_sequence, src_mask=src_mask)\n",
        "            tree = [[Node(token=torch.LongTensor([dest_field.vocab.stoi[dest_field.init_token]]).to(device), states=())]]\n",
        "            for _ in range(max_len):\n",
        "                next_nodes = []\n",
        "                for node in tree[-1]:\n",
        "                    if node.eos: # Skip eos token\n",
        "                        continue\n",
        "                    # Get tokens that're already translated\n",
        "                    already_translated = torch.LongTensor([*map(lambda node: node.token, find_path(tree))][::-1]).unsqueeze(0).to(device)\n",
        "                    dest_mask = model.make_dest_mask(already_translated)\n",
        "                    logit, attn_weights = model.decoder(dest_sequences=already_translated, src_encoded=src_encoded,\n",
        "                                              dest_mask=dest_mask, src_mask=src_mask) # [1, dest_seq_len, vocab_size]                      \n",
        "                    logp = F.log_softmax(logit[:, -1, :], dim=1).squeeze(dim=0) # [vocab_size] Get scores                    \n",
        "                    topk_logps, topk_tokens = torch.topk(logp, beam_size) # Get top k tokens & logps                    \n",
        "                    for k in range(beam_size):\n",
        "                        next_nodes.append(Node(token=topk_tokens[k, None], states=(attn_weights,),\n",
        "                                               logp=topk_logps[k, None].cpu().item(), parent=node,\n",
        "                                               eos=topk_tokens[k].cpu().item() == dest_field.vocab[dest_field.eos_token]))\n",
        "                if len(next_nodes) == 0:\n",
        "                    break\n",
        "                next_nodes = sorted(next_nodes, key=lambda node: node.logps, reverse=True)\n",
        "                tree.append(next_nodes[:beam_size])\n",
        "            best_path = find_best_path(tree)[::-1]\n",
        "            # Get the translation\n",
        "            pred_translated = [*map(lambda node: dest_field.vocab.itos[node.token], best_path)]\n",
        "            pred_translated = [*filter(lambda word: word not in [\n",
        "                dest_field.init_token, dest_field.eos_token\n",
        "            ], pred_translated)]\n",
        "            translated_sentences.append(' '.join(pred_translated))\n",
        "            # Get probabilities\n",
        "            pred_logps.append(sum([*map(lambda node: node.logps, best_path)]))\n",
        "            # Get attention weights\n",
        "            attention_weights.append(best_path[-1].states[0].cpu().numpy())\n",
        "        sentences = [*map(lambda sentence: ' '.join(sentence), sentences)]\n",
        "    return sentences, translated_sentences, targets, attention_weights, pred_logps"
      ],
      "execution_count": 55,
      "outputs": []
    },
    {
      "cell_type": "code",
      "metadata": {
        "colab": {
          "base_uri": "https://localhost:8080/"
        },
        "id": "4FPeU0s4mIhs",
        "outputId": "b3f06334-ae93-403b-ed19-bc14e7f04ead"
      },
      "source": [
        "sentences, translated_sentences, dest_sentences, attention_weights, pred_logps = translate(sentences=test_data, model=transformer, beam_size=1, src_field=EN_TEXT,\n",
        "                                                                                           dest_field=RU_TEXT, max_len=MAX_LEN, device=DEVICE)"
      ],
      "execution_count": 56,
      "outputs": [
        {
          "output_type": "stream",
          "text": [
            "100%|██████████| 1000/1000 [02:32<00:00,  6.55it/s]\n"
          ],
          "name": "stderr"
        }
      ]
    },
    {
      "cell_type": "code",
      "metadata": {
        "colab": {
          "base_uri": "https://localhost:8080/"
        },
        "id": "_keF2reemIhs",
        "outputId": "a9b2e112-30bd-4aee-eddc-54c2c0e162d2"
      },
      "source": [
        "indexes = np.random.choice(1000, size=10, replace=False)\n",
        "\n",
        "for i in indexes:\n",
        "    text = f'Source: {sentences[i]}\\n'\n",
        "    text += f'Ground truth translation: {dest_sentences[i]}\\n'\n",
        "    text += f'Predicted translation: {translated_sentences[i]}\\n'\n",
        "    print(text)\n",
        "    print()"
      ],
      "execution_count": 62,
      "outputs": [
        {
          "output_type": "stream",
          "text": [
            "Source: to overcome the challenges we face and fulfill our promise to our children , we need active support from the international community .\n",
            "Ground truth translation: для нетаньяху , подстрекательство является мощным политическим инструментом .\n",
            "Predicted translation: в то время как <unk> <unk> , <unk> <unk> <unk> , <unk> , <unk> , <unk> <unk> <unk> <unk> <unk> <unk> <unk> <unk> <unk> <unk> <unk> <unk> <unk> <unk> <unk> <unk> <unk> .\n",
            "\n",
            "\n",
            "Source: it was gilani who sat next to singh to watch the game ; but , ultimately , process , rather than protocol , will determine how bilateral relations move forward .\n",
            "Ground truth translation: именно гилани сел рядом с сингхом , чтобы посмотреть матч . но , в конечном счете , процесс , а не протокол , определит дальнейшее направление развития двухсторонних отношений .\n",
            "Predicted translation: в то время как <unk> <unk> , <unk> <unk> <unk> , <unk> , <unk> , <unk> <unk> <unk> <unk> <unk> <unk> <unk> <unk> <unk> <unk> <unk> <unk> <unk> <unk> <unk> <unk> <unk> .\n",
            "\n",
            "\n",
            "Source: russia ’s relations with the eu are governed by an agreement signed in june 1994 concerning trade , business and investment , competition issues , protection of intellectual , industrial , and business property , and financial cooperation .\n",
            "Ground truth translation: важность решения индонезии ратифицировать договор о всеобъемлющем запрещении ядерных испытаний ( двзяи ) не может быть переоценена .\n",
            "Predicted translation: в то время как <unk> , <unk> <unk> <unk> , <unk> <unk> , <unk> , <unk> <unk> <unk> <unk> <unk> <unk> <unk> <unk> <unk> <unk> <unk> <unk> <unk> <unk> <unk> <unk> <unk> .\n",
            "\n",
            "\n",
            "Source: the dreams from his father were at an end , and he was left , as he only slowly realized , with the themeless pragmatism that has become the hallmark of his administration .\n",
            "Ground truth translation: американские антидемпинговые пошлины на чилийскую лососину способны разорить фирмы , занимающиеся ее производством , в то время как чили не сможет предпринять никаких действий против сша , которые могли бы причинить серьезный урон американским компаниям .\n",
            "Predicted translation: в то время как <unk> <unk> <unk> , <unk> <unk> <unk> , <unk> , <unk> <unk> <unk> <unk> <unk> <unk> <unk> <unk> <unk> <unk> <unk> <unk> <unk> <unk> <unk> <unk> <unk> <unk> .\n",
            "\n",
            "\n",
            "Source: as it is , the valuation of a country ’s currency is not so much determined by the performance of its economy as by the forces of supply and demand on foreign - exchange markets . for a given supply of money , an increase in the production of goods will increase the value of a currency , because each unit will buy more goods .\n",
            "Ground truth translation: тем временем , администрация обамы продолжает осуществлять свои планы по европейской про .\n",
            "Predicted translation: в то время как <unk> <unk> <unk> , <unk> <unk> <unk> , <unk> , <unk> <unk> <unk> <unk> <unk> <unk> <unk> <unk> <unk> <unk> <unk> <unk> <unk> <unk> <unk> <unk> <unk> <unk> <unk> .\n",
            "\n",
            "\n",
            "Source: the us kept cuba under its thumb , and , in accordance with us investor interests , the export economy remained little more than sugar and tobacco plantations throughout the first half of the twentieth century .\n",
            "Ground truth translation: два фундаментальных соображения приходят на ум , и их последствия для стран латинской америки , & quot;готовых к захвату за сферы влияния&quot ; , например , сальвадор , являются особенно важными .\n",
            "Predicted translation: в то время как <unk> <unk> , <unk> <unk> <unk> , <unk> , <unk> , <unk> <unk> <unk> <unk> <unk> <unk> <unk> <unk> <unk> <unk> <unk> <unk> <unk> <unk> <unk> <unk> <unk> .\n",
            "\n",
            "\n",
            "Source: campaigners for carbon - emission reductions regularly highlight the melting snow and ice of mount kilimanjaro .\n",
            "Ground truth translation: вопреки общепринятому мнению глобализация не гомогенизирует и не американизирует мировые культуры .\n",
            "Predicted translation: в то время как <unk> <unk> , <unk> <unk> <unk> , <unk> , <unk> , <unk> <unk> <unk> <unk> <unk> <unk> <unk> <unk> <unk> <unk> <unk> <unk> <unk> <unk> <unk> <unk> <unk> .\n",
            "\n",
            "\n",
            "Source: northern europe ’s political elites , largely social or christian democrats , have often been dismissive of such fears , and their paternalism and condescension may be why the backlash in those liberal countries has been particularly fierce .\n",
            "Ground truth translation: настаивание на включении против желания большинства граждан европы , будет иметь привкус чего-то вроде своего рода недемократического патернализма , который уже отвернул многих европейцев от евросоюза .\n",
            "Predicted translation: в то время как <unk> <unk> , <unk> <unk> <unk> , <unk> , <unk> , <unk> <unk> <unk> <unk> <unk> <unk> <unk> <unk> <unk> <unk> <unk> <unk> <unk> <unk> <unk> <unk> <unk> .\n",
            "\n",
            "\n",
            "Source: the way out of this dilemma is to understand what iran wants – and how to accommodate it without jeopardizing anyone ’s security .\n",
            "Ground truth translation: выход из данной ситуации заключается в том , чтобы понять , чего хочет иран - и как этого можно добиться , не ставя под угрозу чью-либо безопасность .\n",
            "Predicted translation: в то время как <unk> <unk> , <unk> <unk> <unk> , <unk> , <unk> , <unk> <unk> <unk> <unk> <unk> <unk> <unk> <unk> <unk> <unk> <unk> <unk> <unk> <unk> <unk> <unk> <unk> .\n",
            "\n",
            "\n",
            "Source: for example , he overruled iranian nuclear negotiators who offered a compromise during the geneva negotiations in october 2009 .\n",
            "Ground truth translation: отношение молодых избирателей к карруби также не совсем положительное .\n",
            "Predicted translation: в то время как <unk> <unk> <unk> , <unk> <unk> <unk> , <unk> , <unk> <unk> <unk> <unk> <unk> <unk> <unk> <unk> <unk> <unk> <unk> <unk> <unk> <unk> <unk> <unk> <unk> <unk> .\n",
            "\n",
            "\n"
          ],
          "name": "stdout"
        }
      ]
    },
    {
      "cell_type": "markdown",
      "metadata": {
        "id": "s5b7pSIYoUpU"
      },
      "source": [
        "## P.S: \n",
        "The model is still being developed and improved. Seems like we need to fix some bugs or improve the model because it doesn't translate well."
      ]
    },
    {
      "cell_type": "code",
      "metadata": {
        "id": "GIZzuAaHmIhs"
      },
      "source": [
        ""
      ],
      "execution_count": null,
      "outputs": []
    },
    {
      "cell_type": "code",
      "metadata": {
        "id": "4ABd7VsYmIht"
      },
      "source": [
        ""
      ],
      "execution_count": null,
      "outputs": []
    },
    {
      "cell_type": "code",
      "metadata": {
        "id": "7wLHAM4cmIht"
      },
      "source": [
        ""
      ],
      "execution_count": null,
      "outputs": []
    }
  ]
}