{
  "nbformat": 4,
  "nbformat_minor": 0,
  "metadata": {
    "anaconda-cloud": {},
    "colab": {
      "name": "Neural_Machine_Translation_EN_RU.ipynb",
      "provenance": [],
      "collapsed_sections": [],
      "toc_visible": true,
      "machine_shape": "hm"
    },
    "kernelspec": {
      "name": "python3",
      "display_name": "Python 3"
    },
    "accelerator": "GPU"
  },
  "cells": [
    {
      "cell_type": "markdown",
      "metadata": {
        "id": "o6-DOnBEj7OT"
      },
      "source": [
        "## Neural Machine Translation for the EN-RU pair of languages"
      ]
    },
    {
      "cell_type": "markdown",
      "metadata": {
        "id": "J_dREQNoj7OU"
      },
      "source": [
        "### Environment setup"
      ]
    },
    {
      "cell_type": "code",
      "metadata": {
        "id": "UwiWPRcdj7OV"
      },
      "source": [
        "# You might need to install the libraries below. Do it in the desired environment\n",
        "# if you are working locally.\n",
        "\n",
        "!pip install torch --upgrade\n",
        "!pip install torchtext --upgrade\n",
        "!pip install pytorch-nlp\n",
        "!pip install nltk\n",
        "!pip install git+https://github.com/aatimofeev/spacy_russian_tokenizer.git\n",
        "!pip install pymorphy2"
      ],
      "execution_count": null,
      "outputs": []
    },
    {
      "cell_type": "code",
      "metadata": {
        "id": "37MUqTtWj7Oa",
        "colab": {
          "base_uri": "https://localhost:8080/"
        },
        "outputId": "0fdd9bf0-5c9b-421b-f467-58949c800e5f"
      },
      "source": [
        "# Thanks to YSDA NLP course team for the data\n",
        "# (who thanks tilda and deephack teams for the data in their turn)\n",
        "\n",
        "import os\n",
        "path_do_data = '../../datasets/Machine_translation_EN_RU/data.txt'\n",
        "if not os.path.exists(path_do_data):\n",
        "    print(\"Dataset not found locally. Downloading from github.\")\n",
        "    !wget https://raw.githubusercontent.com/neychev/made_nlp_course/master/datasets/Machine_translation_EN_RU/data.txt -nc\n",
        "    path_do_data = './data.txt'"
      ],
      "execution_count": 2,
      "outputs": [
        {
          "output_type": "stream",
          "text": [
            "Dataset not found locally. Downloading from github.\n",
            "--2021-02-28 12:58:03--  https://raw.githubusercontent.com/neychev/made_nlp_course/master/datasets/Machine_translation_EN_RU/data.txt\n",
            "Resolving raw.githubusercontent.com (raw.githubusercontent.com)... 185.199.108.133, 185.199.109.133, 185.199.110.133, ...\n",
            "Connecting to raw.githubusercontent.com (raw.githubusercontent.com)|185.199.108.133|:443... connected.\n",
            "HTTP request sent, awaiting response... 200 OK\n",
            "Length: 12905334 (12M) [text/plain]\n",
            "Saving to: ‘data.txt’\n",
            "\n",
            "data.txt            100%[===================>]  12.31M  --.-KB/s    in 0.1s    \n",
            "\n",
            "2021-02-28 12:58:04 (89.2 MB/s) - ‘data.txt’ saved [12905334/12905334]\n",
            "\n"
          ],
          "name": "stdout"
        }
      ]
    },
    {
      "cell_type": "code",
      "metadata": {
        "id": "kc8emxkzj7Oe"
      },
      "source": [
        "import tqdm\n",
        "import math\n",
        "import time\n",
        "import random\n",
        "import warnings\n",
        "\n",
        "import torch\n",
        "import torch.nn as nn\n",
        "import torch.optim as optim\n",
        "import torchnlp.nn as nlpnn\n",
        "\n",
        "import torchtext\n",
        "from torchtext.datasets import TranslationDataset, Multi30k\n",
        "from torchtext.data import Field, BucketIterator\n",
        "\n",
        "import matplotlib\n",
        "import matplotlib.pyplot as plt\n",
        "matplotlib.rcParams.update({'figure.figsize': (16, 12), 'font.size': 14})\n",
        "%matplotlib inline\n",
        "from IPython.display import clear_output\n",
        "\n",
        "from nltk.tokenize import WordPunctTokenizer\n",
        "from nltk.translate.bleu_score import corpus_bleu\n",
        "\n",
        "import spacy\n",
        "from spacy.lang.ru import Russian\n",
        "from spacy_russian_tokenizer import RussianTokenizer, MERGE_PATTERNS"
      ],
      "execution_count": 3,
      "outputs": []
    },
    {
      "cell_type": "code",
      "metadata": {
        "id": "ZoCm3Kknbc1M"
      },
      "source": [
        "warnings.simplefilter(action='ignore', category=UserWarning)\r\n",
        "warnings.simplefilter(action='ignore', category=FutureWarning)\r\n",
        "warnings.simplefilter(action='ignore', category=RuntimeWarning)\r\n",
        "warnings.simplefilter(action='ignore', category=DeprecationWarning)"
      ],
      "execution_count": 4,
      "outputs": []
    },
    {
      "cell_type": "markdown",
      "metadata": {
        "id": "l7Q26AoHj7Oi"
      },
      "source": [
        "### Main part\n",
        "__Here comes the preprocessing. Do not hesitate to use BPE or more complex preprocessing ;)__"
      ]
    },
    {
      "cell_type": "code",
      "metadata": {
        "id": "IOKyd2lkj7Oj"
      },
      "source": [
        "en_tok = spacy.load('en')\n",
        "\n",
        "def tokenize_en(sentence):\n",
        "    return [tok.text for tok in en_tok.tokenizer(sentence)]\n",
        "\n",
        "# tokenizer_W = WordPunctTokenizer()\n",
        "# def tokenize(x, tokenizer=tokenizer_W):\n",
        "#     return tokenizer.tokenize(x.lower())"
      ],
      "execution_count": 5,
      "outputs": []
    },
    {
      "cell_type": "code",
      "metadata": {
        "id": "kWreycHIaZlU"
      },
      "source": [
        "ru_nlp = Russian()\r\n",
        "russian_tokenizer = RussianTokenizer(ru_nlp, MERGE_PATTERNS)\r\n",
        "ru_nlp.add_pipe(russian_tokenizer, name='russian_tokenizer')\r\n",
        "\r\n",
        "def tokenize_ru(sentence):\r\n",
        "    return [tok.text for tok in ru_nlp(sentence)]"
      ],
      "execution_count": 6,
      "outputs": []
    },
    {
      "cell_type": "code",
      "metadata": {
        "id": "QaN_-_r3j7On"
      },
      "source": [
        "SRC = Field(tokenize=tokenize_en,\n",
        "            init_token = '<sos>', \n",
        "            eos_token = '<eos>', \n",
        "            lower = True)\n",
        "\n",
        "TRG = Field(tokenize=tokenize_ru,\n",
        "            init_token = '<sos>', \n",
        "            eos_token = '<eos>', \n",
        "            lower = True)\n",
        "\n",
        "dataset = torchtext.data.TabularDataset(\n",
        "    path=path_do_data,\n",
        "    format='tsv',\n",
        "    fields=[('src', SRC), ('trg', TRG)]\n",
        ")"
      ],
      "execution_count": 7,
      "outputs": []
    },
    {
      "cell_type": "code",
      "metadata": {
        "id": "wBPuBTUrj7Or"
      },
      "source": [
        "train_data, valid_data, test_data = dataset.split(split_ratio=[0.8, 0.15, 0.05])"
      ],
      "execution_count": 8,
      "outputs": []
    },
    {
      "cell_type": "code",
      "metadata": {
        "id": "-wUwFphMj7Ov",
        "colab": {
          "base_uri": "https://localhost:8080/"
        },
        "outputId": "7a3bc9a6-0348-4920-a5d7-c147b29a5859"
      },
      "source": [
        "print(f\"Number of training examples: {len(train_data.examples)}\")\n",
        "print(f\"Number of validation examples: {len(valid_data.examples)}\")\n",
        "print(f\"Number of testing examples: {len(test_data.examples)}\")"
      ],
      "execution_count": 9,
      "outputs": [
        {
          "output_type": "stream",
          "text": [
            "Number of training examples: 40000\n",
            "Number of validation examples: 2500\n",
            "Number of testing examples: 7500\n"
          ],
          "name": "stdout"
        }
      ]
    },
    {
      "cell_type": "code",
      "metadata": {
        "id": "aSv2ZSeQj7Oz"
      },
      "source": [
        "SRC.build_vocab(train_data, min_freq = 3)\n",
        "TRG.build_vocab(train_data, min_freq = 3)"
      ],
      "execution_count": 10,
      "outputs": []
    },
    {
      "cell_type": "code",
      "metadata": {
        "id": "HRp_1O8mj7O3",
        "colab": {
          "base_uri": "https://localhost:8080/"
        },
        "outputId": "aeceeb2e-1bc7-481c-ad49-3d19821650c5"
      },
      "source": [
        "print(f\"Unique tokens in source (ru) vocabulary: {len(SRC.vocab)}\")\n",
        "print(f\"Unique tokens in target (en) vocabulary: {len(TRG.vocab)}\")"
      ],
      "execution_count": 11,
      "outputs": [
        {
          "output_type": "stream",
          "text": [
            "Unique tokens in source (ru) vocabulary: 6823\n",
            "Unique tokens in target (en) vocabulary: 9341\n"
          ],
          "name": "stdout"
        }
      ]
    },
    {
      "cell_type": "markdown",
      "metadata": {
        "id": "pKP5qFs0j7O6"
      },
      "source": [
        "Here are tokens from original (EN) corpus:"
      ]
    },
    {
      "cell_type": "code",
      "metadata": {
        "id": "24c-qhd8j7O7",
        "colab": {
          "base_uri": "https://localhost:8080/"
        },
        "outputId": "3859905d-afbc-4a95-fd59-955a91ec5076"
      },
      "source": [
        "SRC.vocab.itos[::1000]"
      ],
      "execution_count": 12,
      "outputs": [
        {
          "output_type": "execute_result",
          "data": {
            "text/plain": [
              "['<unk>', 'spot', 'snow', 'trastevere', 'horizon', 'plate', 'juliet']"
            ]
          },
          "metadata": {
            "tags": []
          },
          "execution_count": 12
        }
      ]
    },
    {
      "cell_type": "markdown",
      "metadata": {
        "id": "2Z_P6PPpj7O_"
      },
      "source": [
        "And from target (RU) corpus:"
      ]
    },
    {
      "cell_type": "code",
      "metadata": {
        "id": "zsw-xA34j7PA",
        "colab": {
          "base_uri": "https://localhost:8080/"
        },
        "outputId": "4ab09be9-e89c-4030-eb0c-4b2849220604"
      },
      "source": [
        "TRG.vocab.itos[::1000]"
      ],
      "execution_count": 13,
      "outputs": [
        {
          "output_type": "execute_result",
          "data": {
            "text/plain": [
              "['<unk>',\n",
              " 'такими',\n",
              " 'ан',\n",
              " 'лесной',\n",
              " 'частности',\n",
              " 'центральным',\n",
              " 'giardini',\n",
              " 'тайский',\n",
              " 'горячем',\n",
              " 'солнечным']"
            ]
          },
          "metadata": {
            "tags": []
          },
          "execution_count": 13
        }
      ]
    },
    {
      "cell_type": "markdown",
      "metadata": {
        "id": "NgyTm3I5j7PE"
      },
      "source": [
        "And here is example from train dataset:"
      ]
    },
    {
      "cell_type": "code",
      "metadata": {
        "id": "FvdKZgRkj7PE",
        "colab": {
          "base_uri": "https://localhost:8080/"
        },
        "outputId": "7df61777-34e2-47d5-a93d-78d461c04595"
      },
      "source": [
        "print(vars(train_data.examples[9]))"
      ],
      "execution_count": 14,
      "outputs": [
        {
          "output_type": "stream",
          "text": [
            "{'src': ['some', 'units', 'include', 'a', 'seating', 'or', 'dining', 'area', ',', 'and', 'most', 'of', 'them', 'offer', 'views', 'over', 'the', 'aegean', 'sea', 'or', 'the', 'garden', '.'], 'trg': ['в', 'некоторых', 'люксах', 'имеется', 'обеденная', 'или', 'гостиная', 'зона', '.', 'из', 'окон', 'большинства', 'номеров', 'открывается', 'вид', 'на', 'эгейское', 'море', 'или', 'сад', '.']}\n"
          ],
          "name": "stdout"
        }
      ]
    },
    {
      "cell_type": "markdown",
      "metadata": {
        "id": "amCeVUyZj7PI"
      },
      "source": [
        "Let's check the length distributions:"
      ]
    },
    {
      "cell_type": "code",
      "metadata": {
        "id": "oOj6Xcbbj7PI",
        "colab": {
          "base_uri": "https://localhost:8080/",
          "height": 298
        },
        "outputId": "952cca89-8beb-41ba-8fda-98ac79baa286"
      },
      "source": [
        "src_length = map(len, [vars(x)['src'] for x in train_data.examples])\n",
        "trg_length = map(len, [vars(x)['trg'] for x in train_data.examples])\n",
        "\n",
        "print('Length distribution in Train data')\n",
        "plt.figure(figsize=[8, 4])\n",
        "plt.subplot(1, 2, 1)\n",
        "plt.title(\"source length\")\n",
        "plt.hist(list(src_length), bins=20);\n",
        "\n",
        "plt.subplot(1, 2, 2)\n",
        "plt.title(\"translation length\")\n",
        "plt.hist(list(trg_length), bins=20);"
      ],
      "execution_count": 15,
      "outputs": [
        {
          "output_type": "stream",
          "text": [
            "Length distribution in Train data\n"
          ],
          "name": "stdout"
        },
        {
          "output_type": "display_data",
          "data": {
            "image/png": "[encoded data removed]",
            "text/plain": [
              "<Figure size 576x288 with 2 Axes>"
            ]
          },
          "metadata": {
            "tags": [],
            "needs_background": "light"
          }
        }
      ]
    },
    {
      "cell_type": "code",
      "metadata": {
        "id": "6fmX6JJwj7PM",
        "colab": {
          "base_uri": "https://localhost:8080/",
          "height": 298
        },
        "outputId": "6a1c7962-9b55-4419-b44f-c809205c05c3"
      },
      "source": [
        "src_length = map(len, [vars(x)['src'] for x in test_data.examples])\n",
        "trg_length = map(len, [vars(x)['trg'] for x in test_data.examples])\n",
        "\n",
        "print('Length distribution in Test data')\n",
        "plt.figure(figsize=[8, 4])\n",
        "plt.subplot(1, 2, 1)\n",
        "plt.title(\"source length\")\n",
        "plt.hist(list(src_length), bins=20);\n",
        "\n",
        "plt.subplot(1, 2, 2)\n",
        "plt.title(\"translation length\")\n",
        "plt.hist(list(trg_length), bins=20);"
      ],
      "execution_count": 16,
      "outputs": [
        {
          "output_type": "stream",
          "text": [
            "Length distribution in Test data\n"
          ],
          "name": "stdout"
        },
        {
          "output_type": "display_data",
          "data": {
            "image/png": "[encoded data removed]",
            "text/plain": [
              "<Figure size 576x288 with 2 Axes>"
            ]
          },
          "metadata": {
            "tags": [],
            "needs_background": "light"
          }
        }
      ]
    },
    {
      "cell_type": "markdown",
      "metadata": {
        "id": "_bZNE70d7aZK"
      },
      "source": [
        "There are quite a lot of sentences with more than 20 words. After this point the quality of translations decreases unless the attention is used. That is why the attention might result in big profit."
      ]
    },
    {
      "cell_type": "markdown",
      "metadata": {
        "id": "rvcxcloLj7PP"
      },
      "source": [
        "### Model side\n",
        "Improved the baseline (plain encoder-decoder) model by applying the following things:\n",
        "- ReduceLROnPlateau(factor=0.3, patience=3)\n",
        "- batch_size=64 (the less batch_size, the higher BLEU, compared with 128 and 256)\n",
        "- Attention(attention_type='dot'). Used Pytorch NLP library with a IBM implementation of Attention. Quite simple (no multiplicative/additive approaches with additional weight matrices, just enough implementation)\n",
        "\n",
        "Quite a basic approach but gives a great BLEU result.\n",
        "\n",
        "Also, tried to combine CNN (2-layers + 2 ReLUs + 1 BatchNorm) with Encoder's LSTM. However, the result was worse than with the above-written model configs.\n",
        "\n",
        "You may see the results table at the end of the notebook."
      ]
    },
    {
      "cell_type": "code",
      "metadata": {
        "id": "7UWzySjgj7PQ"
      },
      "source": [
        "device = torch.device('cuda' if torch.cuda.is_available() else 'cpu')"
      ],
      "execution_count": 17,
      "outputs": []
    },
    {
      "cell_type": "code",
      "metadata": {
        "id": "aI7BN4Gaj7PX"
      },
      "source": [
        "def _len_sort_key(x):\n",
        "    return len(x.src)\n",
        "\n",
        "BATCH_SIZE = 64\n",
        "\n",
        "train_iterator, valid_iterator, test_iterator = BucketIterator.splits(\n",
        "    (train_data, valid_data, test_data), \n",
        "    batch_size = BATCH_SIZE, \n",
        "    device = device,\n",
        "    sort_key=_len_sort_key\n",
        ")"
      ],
      "execution_count": 18,
      "outputs": []
    },
    {
      "cell_type": "code",
      "metadata": {
        "id": "0722rv5kIqrQ"
      },
      "source": [
        "class Encoder(nn.Module):\r\n",
        "    def __init__(self, input_dim, emb_dim, hid_dim, n_layers, dropout):\r\n",
        "        super().__init__()\r\n",
        "\r\n",
        "        self.input_dim = input_dim\r\n",
        "        self.emb_dim = emb_dim\r\n",
        "        self.hid_dim = hid_dim\r\n",
        "        self.n_layers = n_layers\r\n",
        "\r\n",
        "        self.embedding = nn.Embedding(\r\n",
        "            num_embeddings=input_dim,\r\n",
        "            embedding_dim=emb_dim\r\n",
        "        )\r\n",
        "\r\n",
        "        self.rnn = nn.LSTM(\r\n",
        "            input_size=emb_dim,\r\n",
        "            hidden_size=hid_dim,\r\n",
        "            num_layers=n_layers,\r\n",
        "            dropout=dropout\r\n",
        "        )\r\n",
        "\r\n",
        "        self.dropout = nn.Dropout(p=dropout)\r\n",
        "\r\n",
        "    def _forward(self, src, h):\r\n",
        "        src = src.unsqueeze(0)\r\n",
        "        embedded = self.embedding(src)\r\n",
        "        embedded = self.dropout(embedded)\r\n",
        "        output, (hidden, cell) = self.rnn(embedded, h)\r\n",
        "        return hidden, cell\r\n",
        "\r\n",
        "    def forward(self, src):\r\n",
        "        # process word by word because we need to get all hidden states\r\n",
        "        src_max_len = src.shape[0]\r\n",
        "        input = src[0, :]\r\n",
        "        enc_hiddens = None\r\n",
        "        h = None\r\n",
        "        for t in range(1, src_max_len):\r\n",
        "            if t != 1:\r\n",
        "                h = (hidden, cell)\r\n",
        "            hidden, cell = self._forward(input, h)\r\n",
        "            if enc_hiddens is None:\r\n",
        "                enc_hiddens = hidden[0].unsqueeze(0)\r\n",
        "            else:\r\n",
        "                enc_hiddens = torch.cat((enc_hiddens, hidden[0].unsqueeze(0)), dim=0)\r\n",
        "            input = src[t]\r\n",
        "        return hidden, cell, enc_hiddens\r\n",
        "\r\n",
        "\r\n",
        "class Decoder(nn.Module):\r\n",
        "    def __init__(self, output_dim, emb_dim, hid_dim, n_layers, dropout):\r\n",
        "        super().__init__()\r\n",
        "\r\n",
        "        self.emb_dim = emb_dim\r\n",
        "        self.hid_dim = hid_dim\r\n",
        "        self.output_dim = output_dim\r\n",
        "        self.n_layers = n_layers\r\n",
        "\r\n",
        "        self.embedding = nn.Embedding(\r\n",
        "            num_embeddings=output_dim,\r\n",
        "            embedding_dim=emb_dim\r\n",
        "        )\r\n",
        "\r\n",
        "        self.rnn = nn.LSTM(\r\n",
        "            input_size=emb_dim,\r\n",
        "            hidden_size=hid_dim,\r\n",
        "            num_layers=n_layers,\r\n",
        "            dropout=dropout\r\n",
        "        )\r\n",
        "\r\n",
        "        self.attention = nlpnn.Attention(\r\n",
        "            dimensions=hid_dim,\r\n",
        "            attention_type='dot'\r\n",
        "        )\r\n",
        "\r\n",
        "        self.out = nn.Linear(\r\n",
        "            in_features=hid_dim,\r\n",
        "            out_features=output_dim\r\n",
        "        )\r\n",
        "\r\n",
        "        self.dropout = nn.Dropout(p=dropout)\r\n",
        "\r\n",
        "    def forward(self, input, hidden, cell, encoder_hiddens):\r\n",
        "        input = input.unsqueeze(0)\r\n",
        "        embedded = self.dropout(self.embedding(input))\r\n",
        "        output, (hidden, cell) = self.rnn(embedded, (hidden, cell))\r\n",
        "        # need some permutations\r\n",
        "        output, weights = self.attention(hidden[0].unsqueeze(0).permute((1, 0, 2)), encoder_hiddens.permute((1, 0, 2)))\r\n",
        "        output = output.permute((1, 0, 2)).squeeze(0)\r\n",
        "        prediction = self.out(output)\r\n",
        "        return prediction, hidden, cell\r\n",
        "\r\n",
        "\r\n",
        "class Seq2Seq(nn.Module):\r\n",
        "    def __init__(self, encoder, decoder, device):\r\n",
        "        super().__init__()\r\n",
        "\r\n",
        "        self.encoder = encoder\r\n",
        "        self.decoder = decoder\r\n",
        "        self.device = device\r\n",
        "\r\n",
        "        assert encoder.hid_dim == decoder.hid_dim, \\\r\n",
        "            \"Hidden dimensions of encoder and decoder must be equal!\"\r\n",
        "        assert encoder.n_layers == decoder.n_layers, \\\r\n",
        "            \"Encoder and decoder must have equal number of layers!\"\r\n",
        "\r\n",
        "    def forward(self, src, trg, teacher_forcing_ratio=0.5):\r\n",
        "        batch_size = trg.shape[1]\r\n",
        "        max_len = trg.shape[0]\r\n",
        "        trg_vocab_size = self.decoder.output_dim\r\n",
        "        outputs = torch.zeros(max_len, batch_size, trg_vocab_size).to(self.device)\r\n",
        "\r\n",
        "        # process encoding and get all hidden states\r\n",
        "        hidden, cell, enc_hiddens = self.encoder(src)\r\n",
        "\r\n",
        "        # decoding\r\n",
        "        input = trg[0, :]\r\n",
        "        for t in range(1, max_len):\r\n",
        "            output, hidden, cell = self.decoder(input, hidden, cell, enc_hiddens)\r\n",
        "            outputs[t] = output\r\n",
        "            teacher_force = random.random() < teacher_forcing_ratio\r\n",
        "            top1 = output.max(1)[1]\r\n",
        "            input = (trg[t] if teacher_force else top1)\r\n",
        "\r\n",
        "        return outputs"
      ],
      "execution_count": 19,
      "outputs": []
    },
    {
      "cell_type": "code",
      "metadata": {
        "id": "h3G4vd1ej7Pf"
      },
      "source": [
        "INPUT_DIM = len(SRC.vocab)\n",
        "OUTPUT_DIM = len(TRG.vocab)\n",
        "ENC_EMB_DIM = 256\n",
        "DEC_EMB_DIM = 256\n",
        "HID_DIM = 512\n",
        "N_LAYERS = 2\n",
        "ENC_DROPOUT = 0.5\n",
        "DEC_DROPOUT = 0.5\n",
        "\n",
        "enc = Encoder(INPUT_DIM, ENC_EMB_DIM, HID_DIM, N_LAYERS, ENC_DROPOUT)\n",
        "dec = Decoder(OUTPUT_DIM, DEC_EMB_DIM, HID_DIM, N_LAYERS, DEC_DROPOUT)\n",
        "\n",
        "# dont forget to put the model to the right device\n",
        "model = Seq2Seq(enc, dec, device).to(device)"
      ],
      "execution_count": 20,
      "outputs": []
    },
    {
      "cell_type": "code",
      "metadata": {
        "id": "Vv4N_xpej7Pi",
        "colab": {
          "base_uri": "https://localhost:8080/"
        },
        "outputId": "653559b3-9ae7-4567-cc75-b2bea82630c9"
      },
      "source": [
        "def init_weights(m):\n",
        "    \"\"\" Initializes weights uniformly \"\"\"\n",
        "    \n",
        "    for name, param in m.named_parameters():\n",
        "        nn.init.uniform_(param, -0.08, 0.08)\n",
        "        \n",
        "model.apply(init_weights)"
      ],
      "execution_count": 21,
      "outputs": [
        {
          "output_type": "execute_result",
          "data": {
            "text/plain": [
              "Seq2Seq(\n",
              "  (encoder): Encoder(\n",
              "    (embedding): Embedding(6823, 256)\n",
              "    (rnn): LSTM(256, 512, num_layers=2, dropout=0.5)\n",
              "    (dropout): Dropout(p=0.5, inplace=False)\n",
              "  )\n",
              "  (decoder): Decoder(\n",
              "    (embedding): Embedding(9341, 256)\n",
              "    (rnn): LSTM(256, 512, num_layers=2, dropout=0.5)\n",
              "    (attention): Attention(\n",
              "      (linear_out): Linear(in_features=1024, out_features=512, bias=False)\n",
              "      (softmax): Softmax(dim=-1)\n",
              "      (tanh): Tanh()\n",
              "    )\n",
              "    (out): Linear(in_features=512, out_features=9341, bias=True)\n",
              "    (dropout): Dropout(p=0.5, inplace=False)\n",
              "  )\n",
              ")"
            ]
          },
          "metadata": {
            "tags": []
          },
          "execution_count": 21
        }
      ]
    },
    {
      "cell_type": "code",
      "metadata": {
        "id": "r7vUTzqIj7Pl",
        "colab": {
          "base_uri": "https://localhost:8080/"
        },
        "outputId": "a073c5a4-6729-4a8f-ffbc-50d8de73dced"
      },
      "source": [
        "def count_parameters(model):\n",
        "    \"\"\" Count number of trainable parameters in the model \"\"\"\n",
        "    \n",
        "    return sum(p.numel() for p in model.parameters() if p.requires_grad)\n",
        "\n",
        "print(f'The model has {count_parameters(model):,} trainable parameters')"
      ],
      "execution_count": 22,
      "outputs": [
        {
          "output_type": "stream",
          "text": [
            "The model has 16,810,621 trainable parameters\n"
          ],
          "name": "stdout"
        }
      ]
    },
    {
      "cell_type": "code",
      "metadata": {
        "id": "k0fqmtJ2j7Pn"
      },
      "source": [
        "# Define optimizer, scheduler and loss function\n",
        "\n",
        "PAD_IDX = TRG.vocab.stoi['<pad>']\n",
        "optimizer = optim.Adam(model.parameters(), lr=0.001)\n",
        "scheduler = optim.lr_scheduler.ReduceLROnPlateau(optimizer, factor=0.3, patience=4)\n",
        "criterion = nn.CrossEntropyLoss(ignore_index = PAD_IDX)"
      ],
      "execution_count": 34,
      "outputs": []
    },
    {
      "cell_type": "code",
      "metadata": {
        "id": "VbQ-vlQHj7Pr"
      },
      "source": [
        "def train(model, iterator, optimizer, criterion, clip, train_history=None, valid_history=None):\n",
        "    \"\"\" Implements main training loop \"\"\"\n",
        "    \n",
        "    model.train()\n",
        "    \n",
        "    epoch_loss = 0\n",
        "    history = []\n",
        "    for i, batch in enumerate(iterator):\n",
        "        \n",
        "        src = batch.src\n",
        "        trg = batch.trg\n",
        "        \n",
        "        optimizer.zero_grad()\n",
        "        \n",
        "        output = model(src, trg)\n",
        "        \n",
        "        #trg = [trg sent len, batch size]\n",
        "        #output = [trg sent len, batch size, output dim]\n",
        "        \n",
        "        output = output[1:].view(-1, output.shape[-1])\n",
        "        trg = trg[1:].view(-1)\n",
        "        \n",
        "        #trg = [(trg sent len - 1) * batch size]\n",
        "        #output = [(trg sent len - 1) * batch size, output dim]\n",
        "        \n",
        "        loss = criterion(output, trg)\n",
        "        \n",
        "        loss.backward()\n",
        "        \n",
        "        # Let's clip the gradient\n",
        "        torch.nn.utils.clip_grad_norm_(model.parameters(), clip)\n",
        "        \n",
        "        optimizer.step()\n",
        "        \n",
        "        epoch_loss += loss.item()\n",
        "        \n",
        "        history.append(loss.cpu().data.numpy())\n",
        "        if (i+1)%10==0:\n",
        "            fig, ax = plt.subplots(nrows=1, ncols=2, figsize=(12, 8))\n",
        "\n",
        "            clear_output(True)\n",
        "            ax[0].plot(history, label='train loss')\n",
        "            ax[0].set_xlabel('Batch')\n",
        "            ax[0].set_title('Train loss')\n",
        "            if train_history is not None:\n",
        "                ax[1].plot(train_history, label='general train history')\n",
        "                ax[1].set_xlabel('Epoch')\n",
        "            if valid_history is not None:\n",
        "                ax[1].plot(valid_history, label='general valid history')\n",
        "            plt.legend()\n",
        "            \n",
        "            plt.show()\n",
        "\n",
        "        \n",
        "    return epoch_loss / len(iterator)"
      ],
      "execution_count": 35,
      "outputs": []
    },
    {
      "cell_type": "code",
      "metadata": {
        "id": "V_5zudxhj7Pu"
      },
      "source": [
        "def evaluate(model, iterator, criterion):\n",
        "    \"\"\" Evaluates the model on the given dataset \"\"\"\n",
        "    \n",
        "    model.eval()\n",
        "    \n",
        "    epoch_loss = 0\n",
        "    \n",
        "    history = []\n",
        "    \n",
        "    with torch.no_grad():\n",
        "    \n",
        "        for i, batch in enumerate(iterator):\n",
        "\n",
        "            src = batch.src\n",
        "            trg = batch.trg\n",
        "\n",
        "            output = model(src, trg, 0) #turn off teacher forcing\n",
        "\n",
        "            #trg = [trg sent len, batch size]\n",
        "            #output = [trg sent len, batch size, output dim]\n",
        "\n",
        "            output = output[1:].view(-1, output.shape[-1])\n",
        "            trg = trg[1:].view(-1)\n",
        "\n",
        "            #trg = [(trg sent len - 1) * batch size]\n",
        "            #output = [(trg sent len - 1) * batch size, output dim]\n",
        "\n",
        "            loss = criterion(output, trg)\n",
        "            \n",
        "            epoch_loss += loss.item()\n",
        "        \n",
        "    return epoch_loss / len(iterator)"
      ],
      "execution_count": 36,
      "outputs": []
    },
    {
      "cell_type": "code",
      "metadata": {
        "id": "V72XlF6sj7Px"
      },
      "source": [
        "def epoch_time(start_time, end_time):\n",
        "    \"\"\" Calculates the elapsed time for one epoch in minutes and seconds \"\"\"\n",
        "    \n",
        "    elapsed_time = end_time - start_time\n",
        "    elapsed_mins = int(elapsed_time / 60)\n",
        "    elapsed_secs = int(elapsed_time - (elapsed_mins * 60))\n",
        "    return elapsed_mins, elapsed_secs"
      ],
      "execution_count": 37,
      "outputs": []
    },
    {
      "cell_type": "code",
      "metadata": {
        "id": "UEU7Gp9sj7Pz"
      },
      "source": [
        "train_history = []\n",
        "valid_history = []\n",
        "\n",
        "N_EPOCHS = 10\n",
        "CLIP = 1\n",
        "\n",
        "best_valid_loss = float('inf')"
      ],
      "execution_count": 38,
      "outputs": []
    },
    {
      "cell_type": "code",
      "metadata": {
        "id": "-ApdmsULj7P2",
        "colab": {
          "base_uri": "https://localhost:8080/",
          "height": 564
        },
        "outputId": "b154c898-2b7c-41b3-e150-78deaaedac0e"
      },
      "source": [
        "for epoch in range(N_EPOCHS):\n",
        "    \n",
        "    start_time = time.time()\n",
        "    \n",
        "    train_loss = train(model, train_iterator, optimizer, criterion, CLIP, train_history, valid_history)\n",
        "    valid_loss = evaluate(model, valid_iterator, criterion)\n",
        "\n",
        "    scheduler.step(valid_loss)\n",
        "    \n",
        "    end_time = time.time()\n",
        "    \n",
        "    epoch_mins, epoch_secs = epoch_time(start_time, end_time)\n",
        "    \n",
        "    if valid_loss < best_valid_loss:\n",
        "        best_valid_loss = valid_loss\n",
        "        torch.save(model.state_dict(), 'tut1-model.pt')\n",
        "    \n",
        "    train_history.append(train_loss)\n",
        "    valid_history.append(valid_loss)\n",
        "    print(f'Epoch: {epoch+1:02} | Time: {epoch_mins}m {epoch_secs}s')\n",
        "    print(f'\\tTrain Loss: {train_loss:.3f} | Train PPL: {math.exp(train_loss):7.3f}')\n",
        "    print(f'\\t Val. Loss: {valid_loss:.3f} |  Val. PPL: {math.exp(valid_loss):7.3f}')"
      ],
      "execution_count": 39,
      "outputs": [
        {
          "output_type": "display_data",
          "data": {
            "image/png": "[encoded data removed]",
            "text/plain": [
              "<Figure size 864x576 with 2 Axes>"
            ]
          },
          "metadata": {
            "tags": [],
            "needs_background": "light"
          }
        },
        {
          "output_type": "stream",
          "text": [
            "Epoch: 10 | Time: 2m 59s\n",
            "\tTrain Loss: 1.321 | Train PPL:   3.749\n",
            "\t Val. Loss: 4.858 |  Val. PPL: 128.748\n"
          ],
          "name": "stdout"
        }
      ]
    },
    {
      "cell_type": "markdown",
      "metadata": {
        "id": "0Mml51c3j7P8"
      },
      "source": [
        "__Let's take a look at our network quality__:"
      ]
    },
    {
      "cell_type": "code",
      "metadata": {
        "id": "P1bvo4NOPzYq"
      },
      "source": [
        "def flatten(l):\r\n",
        "    return [item for sublist in l for item in sublist]\r\n",
        "\r\n",
        "\r\n",
        "def remove_tech_tokens(mystr, tokens_to_remove=['<eos>', '<sos>', '<unk>', '<pad>']):\r\n",
        "    return [x for x in mystr if x not in tokens_to_remove]\r\n",
        "\r\n",
        "\r\n",
        "def get_text(x, TRG_vocab):\r\n",
        "    \"\"\" Converts word indexes to strings in the vocabulary \"\"\"\r\n",
        "    \r\n",
        "    text = [TRG_vocab.itos[token] for token in x]\r\n",
        "    try:\r\n",
        "        end_idx = text.index('<eos>')\r\n",
        "        text = text[:end_idx]\r\n",
        "    except ValueError:\r\n",
        "        pass\r\n",
        "    text = remove_tech_tokens(text)\r\n",
        "    if len(text) < 1:\r\n",
        "        text = []\r\n",
        "    return text\r\n",
        "\r\n",
        "\r\n",
        "def generate_translation(src, trg, model, TRG_vocab):\r\n",
        "    model.eval()\r\n",
        "\r\n",
        "    output = model(src, trg, 0)  # turn off teacher forcing\r\n",
        "    output = output.argmax(dim=-1).cpu().numpy()\r\n",
        "\r\n",
        "    original = get_text(list(trg[:, 0].cpu().numpy()), TRG_vocab)\r\n",
        "    generated = get_text(list(output[1:, 0]), TRG_vocab)\r\n",
        "\r\n",
        "    print('Original: {}'.format(' '.join(original)))\r\n",
        "    print('Generated: {}'.format(' '.join(generated)))\r\n",
        "    print()"
      ],
      "execution_count": 40,
      "outputs": []
    },
    {
      "cell_type": "code",
      "metadata": {
        "id": "EDCPNEoXj7QC"
      },
      "source": [
        "batch = next(iter(test_iterator))"
      ],
      "execution_count": 41,
      "outputs": []
    },
    {
      "cell_type": "code",
      "metadata": {
        "id": "GNyVeD34j7QF",
        "colab": {
          "base_uri": "https://localhost:8080/"
        },
        "outputId": "ba38646e-9482-4677-e233-4a188830e24e"
      },
      "source": [
        "for idx in [1,2]:\n",
        "    src = batch.src[:, idx:idx+1]\n",
        "    trg = batch.trg[:, idx:idx+1]\n",
        "    generate_translation(src, trg, model, TRG.vocab)"
      ],
      "execution_count": 42,
      "outputs": [
        {
          "output_type": "stream",
          "text": [
            "Original: гости смогут принять участие в пеших в сопровождении гида .\n",
            "Generated: владелец организует пешие походы . гидом .\n",
            "\n",
            "Original: к услугам гостей бесплатный wifi .\n",
            "Generated: предоставляется бесплатный wi-fi .\n",
            "\n"
          ],
          "name": "stdout"
        }
      ]
    },
    {
      "cell_type": "code",
      "metadata": {
        "id": "qxZoYaVVj7QN",
        "colab": {
          "base_uri": "https://localhost:8080/"
        },
        "outputId": "ed1758bc-d72e-4ac3-efa0-e779a6e07dd3"
      },
      "source": [
        "original_text = []\n",
        "generated_text = []\n",
        "model.eval()\n",
        "with torch.no_grad():\n",
        "\n",
        "    for i, batch in tqdm.tqdm(enumerate(test_iterator)):\n",
        "\n",
        "        src = batch.src\n",
        "        trg = batch.trg\n",
        "\n",
        "        output = model(src, trg, 0) #turn off teacher forcing\n",
        "\n",
        "        #trg = [trg sent len, batch size]\n",
        "        #output = [trg sent len, batch size, output dim]\n",
        "\n",
        "        output = output.argmax(dim=-1)\n",
        "        \n",
        "        original_text.extend([get_text(x, TRG.vocab) for x in trg.cpu().numpy().T])\n",
        "        generated_text.extend([get_text(x, TRG.vocab) for x in output[1:].detach().cpu().numpy().T])"
      ],
      "execution_count": 43,
      "outputs": [
        {
          "output_type": "stream",
          "text": [
            "118it [00:06, 18.10it/s]\n"
          ],
          "name": "stderr"
        }
      ]
    },
    {
      "cell_type": "code",
      "metadata": {
        "id": "EbMBaEOIj7QQ",
        "colab": {
          "base_uri": "https://localhost:8080/"
        },
        "outputId": "e560e9ec-dca5-4c9b-f9b2-67bc2077e15d"
      },
      "source": [
        "# Calculate blue score\r\n",
        "\r\n",
        "print(f'Bleu score: {corpus_bleu([[text] for text in original_text], generated_text) * 100}')"
      ],
      "execution_count": 44,
      "outputs": [
        {
          "output_type": "stream",
          "text": [
            "Bleu score: 31.79685533865809\n"
          ],
          "name": "stdout"
        }
      ]
    },
    {
      "cell_type": "markdown",
      "metadata": {
        "id": "-zuLn1xo9KLo"
      },
      "source": [
        "### Results Table\n",
        "\n",
        "|                                                     Model updates <br>(compared to baseline model)                                                     | Complexity <br>(# of training parameters) | Training time<br>per an epoch* | Quality<br>(in BLEU) | Comments                                                                                                                                                                                              |\n",
        "|:------------------------------------------------------------------------------------------------------------------------------------------------------:|:-----------------------------------------:|:------------------------------:|:--------------------:|-------------------------------------------------------------------------------------------------------------------------------------------------------------------------------------------------------|\n",
        "|                                               ReduceLROnPlateau(factor=0.3, patience=5),<br> <br>epoch=20                                              |                 14,911,318                |          1 min 24 sec          |         17.97        | This may be because of the <br><br>increase of # of epochs                                                                                                                                      |\n",
        "|                                   ReduceLROnPlateau(factor=0.3, patience=4),<br><br>epoch=10,<br><br>Attention('dot')                                  |                 15,378,701                |          1 min 47 sec          |         28.37        | Decreased patience in the scheduler to react faster.<br><br>Attention gives a great improvement of BLEU.                                                                                              |\n",
        "|                       ReduceLROnPlateau(factor=0.3, patience=3),<br><br>epoch=10,<br> <br>batch_size=64,<br> <br>Attention('dot')                      |                 15,378,701                |            2 min 30s           |         31.79        | The batch size has an impact on quality. <br><br>batch_size=256 worsened the BLEU so making opposite<br><br>action (decreasing to 64) we found out that it improves the result.         |\n",
        "\n",
        "\n",
        "* The time may differ from real values because we used Google Colab and it sometimes gives a slow machine."
      ]
    },
    {
      "cell_type": "code",
      "metadata": {
        "id": "9cxV-YxG9Mgc"
      },
      "source": [
        ""
      ],
      "execution_count": 33,
      "outputs": []
    }
  ]
}